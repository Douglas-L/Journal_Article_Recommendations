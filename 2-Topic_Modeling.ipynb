{
 "cells": [
  {
   "cell_type": "code",
   "execution_count": null,
   "metadata": {},
   "outputs": [],
   "source": []
  },
  {
   "cell_type": "code",
   "execution_count": 1,
   "metadata": {},
   "outputs": [
    {
     "name": "stdout",
     "output_type": "stream",
     "text": [
      "Populating the interactive namespace from numpy and matplotlib\n"
     ]
    }
   ],
   "source": [
    "import pandas as pd\n",
    "%pylab inline\n",
    "import pickle"
   ]
  },
  {
   "cell_type": "code",
   "execution_count": 2,
   "metadata": {},
   "outputs": [
    {
     "data": {
      "text/html": [
       "<div>\n",
       "<style scoped>\n",
       "    .dataframe tbody tr th:only-of-type {\n",
       "        vertical-align: middle;\n",
       "    }\n",
       "\n",
       "    .dataframe tbody tr th {\n",
       "        vertical-align: top;\n",
       "    }\n",
       "\n",
       "    .dataframe thead th {\n",
       "        text-align: right;\n",
       "    }\n",
       "</style>\n",
       "<table border=\"1\" class=\"dataframe\">\n",
       "  <thead>\n",
       "    <tr style=\"text-align: right;\">\n",
       "      <th></th>\n",
       "      <th>Issue</th>\n",
       "      <th>Journal</th>\n",
       "      <th>Pages</th>\n",
       "      <th>Volume</th>\n",
       "      <th>abstract</th>\n",
       "      <th>category</th>\n",
       "      <th>date</th>\n",
       "      <th>doi</th>\n",
       "      <th>title</th>\n",
       "    </tr>\n",
       "  </thead>\n",
       "  <tbody>\n",
       "    <tr>\n",
       "      <th>count</th>\n",
       "      <td>27412</td>\n",
       "      <td>27412</td>\n",
       "      <td>27412</td>\n",
       "      <td>27412</td>\n",
       "      <td>27412</td>\n",
       "      <td>27412</td>\n",
       "      <td>27412</td>\n",
       "      <td>27412</td>\n",
       "      <td>27412</td>\n",
       "    </tr>\n",
       "    <tr>\n",
       "      <th>unique</th>\n",
       "      <td>32</td>\n",
       "      <td>1</td>\n",
       "      <td>18241</td>\n",
       "      <td>127</td>\n",
       "      <td>27412</td>\n",
       "      <td>702</td>\n",
       "      <td>734</td>\n",
       "      <td>27412</td>\n",
       "      <td>27233</td>\n",
       "    </tr>\n",
       "    <tr>\n",
       "      <th>top</th>\n",
       "      <td>Issue 1</td>\n",
       "      <td>Journal of Animal Science</td>\n",
       "      <td>Pages 1–8</td>\n",
       "      <td>Volume 94</td>\n",
       "      <td>The effects of estrogen and progesterone on th...</td>\n",
       "      <td>Ruminant Nutrition</td>\n",
       "      <td>2016-09-01 00:00:00</td>\n",
       "      <td>https://doi.org/10.2527/1996.7461274x</td>\n",
       "      <td>Discussion</td>\n",
       "    </tr>\n",
       "    <tr>\n",
       "      <th>freq</th>\n",
       "      <td>4709</td>\n",
       "      <td>27412</td>\n",
       "      <td>23</td>\n",
       "      <td>1194</td>\n",
       "      <td>1</td>\n",
       "      <td>4008</td>\n",
       "      <td>291</td>\n",
       "      <td>1</td>\n",
       "      <td>31</td>\n",
       "    </tr>\n",
       "    <tr>\n",
       "      <th>first</th>\n",
       "      <td>NaN</td>\n",
       "      <td>NaN</td>\n",
       "      <td>NaN</td>\n",
       "      <td>NaN</td>\n",
       "      <td>NaN</td>\n",
       "      <td>NaN</td>\n",
       "      <td>1910-01-01 00:00:00</td>\n",
       "      <td>NaN</td>\n",
       "      <td>NaN</td>\n",
       "    </tr>\n",
       "    <tr>\n",
       "      <th>last</th>\n",
       "      <td>NaN</td>\n",
       "      <td>NaN</td>\n",
       "      <td>NaN</td>\n",
       "      <td>NaN</td>\n",
       "      <td>NaN</td>\n",
       "      <td>NaN</td>\n",
       "      <td>2018-07-28 00:00:00</td>\n",
       "      <td>NaN</td>\n",
       "      <td>NaN</td>\n",
       "    </tr>\n",
       "  </tbody>\n",
       "</table>\n",
       "</div>"
      ],
      "text/plain": [
       "          Issue                    Journal      Pages     Volume  \\\n",
       "count     27412                      27412      27412      27412   \n",
       "unique       32                          1      18241        127   \n",
       "top     Issue 1  Journal of Animal Science  Pages 1–8  Volume 94   \n",
       "freq       4709                      27412         23       1194   \n",
       "first       NaN                        NaN        NaN        NaN   \n",
       "last        NaN                        NaN        NaN        NaN   \n",
       "\n",
       "                                                 abstract            category  \\\n",
       "count                                               27412               27412   \n",
       "unique                                              27412                 702   \n",
       "top     The effects of estrogen and progesterone on th...  Ruminant Nutrition   \n",
       "freq                                                    1                4008   \n",
       "first                                                 NaN                 NaN   \n",
       "last                                                  NaN                 NaN   \n",
       "\n",
       "                       date                                    doi       title  \n",
       "count                 27412                                  27412       27412  \n",
       "unique                  734                                  27412       27233  \n",
       "top     2016-09-01 00:00:00  https://doi.org/10.2527/1996.7461274x  Discussion  \n",
       "freq                    291                                      1          31  \n",
       "first   1910-01-01 00:00:00                                    NaN         NaN  \n",
       "last    2018-07-28 00:00:00                                    NaN         NaN  "
      ]
     },
     "execution_count": 2,
     "metadata": {},
     "output_type": "execute_result"
    }
   ],
   "source": [
    "abstracts_df = pd.read_pickle('abstracts1.pkl')\n",
    "abstracts_df.describe()"
   ]
  },
  {
   "cell_type": "code",
   "execution_count": 3,
   "metadata": {},
   "outputs": [],
   "source": [
    "abstracts_df.index = range(len(abstracts_df.index))"
   ]
  },
  {
   "cell_type": "code",
   "execution_count": 4,
   "metadata": {},
   "outputs": [
    {
     "data": {
      "text/html": [
       "<div>\n",
       "<style scoped>\n",
       "    .dataframe tbody tr th:only-of-type {\n",
       "        vertical-align: middle;\n",
       "    }\n",
       "\n",
       "    .dataframe tbody tr th {\n",
       "        vertical-align: top;\n",
       "    }\n",
       "\n",
       "    .dataframe thead th {\n",
       "        text-align: right;\n",
       "    }\n",
       "</style>\n",
       "<table border=\"1\" class=\"dataframe\">\n",
       "  <thead>\n",
       "    <tr style=\"text-align: right;\">\n",
       "      <th></th>\n",
       "      <th>Issue</th>\n",
       "      <th>Journal</th>\n",
       "      <th>Pages</th>\n",
       "      <th>Volume</th>\n",
       "      <th>abstract</th>\n",
       "      <th>category</th>\n",
       "      <th>date</th>\n",
       "      <th>doi</th>\n",
       "      <th>title</th>\n",
       "    </tr>\n",
       "  </thead>\n",
       "  <tbody>\n",
       "    <tr>\n",
       "      <th>0</th>\n",
       "      <td>Issue 1</td>\n",
       "      <td>Journal of Animal Science</td>\n",
       "      <td>Pages 391</td>\n",
       "      <td>Volume 1940</td>\n",
       "      <td>Edward Browning Meigs died November 5, 1940. B...</td>\n",
       "      <td>Business Meeting</td>\n",
       "      <td>1940-12-01</td>\n",
       "      <td>https://doi.org/10.2527/jas1940.19401391x</td>\n",
       "      <td>Edward Browning Meigs</td>\n",
       "    </tr>\n",
       "    <tr>\n",
       "      <th>1</th>\n",
       "      <td>Issue 1</td>\n",
       "      <td>Journal of Animal Science</td>\n",
       "      <td>Pages 175–180</td>\n",
       "      <td>Volume 1939</td>\n",
       "      <td>Approximately 38 percent of the total land are...</td>\n",
       "      <td>Sheep and Wool</td>\n",
       "      <td>1939-12-01</td>\n",
       "      <td>https://doi.org/10.2527/jas1939.19391175x</td>\n",
       "      <td>The Production and Marketing of Feeder Lambs i...</td>\n",
       "    </tr>\n",
       "    <tr>\n",
       "      <th>2</th>\n",
       "      <td>Issue 1</td>\n",
       "      <td>Journal of Animal Science</td>\n",
       "      <td>Pages 412</td>\n",
       "      <td>Volume 1933</td>\n",
       "      <td>Harry Hayward, N. W. Ayer &amp;amp; Son, 308 Chest...</td>\n",
       "      <td>Article</td>\n",
       "      <td>1933-01-01</td>\n",
       "      <td>https://doi.org/10.2527/jas1933.19331412x</td>\n",
       "      <td>In Memoriam</td>\n",
       "    </tr>\n",
       "    <tr>\n",
       "      <th>3</th>\n",
       "      <td>Issue 8</td>\n",
       "      <td>Journal of Animal Science</td>\n",
       "      <td>Pages 3503–3512</td>\n",
       "      <td>Volume 96</td>\n",
       "      <td>Data from a recent survey suggest that the maj...</td>\n",
       "      <td>Symposia</td>\n",
       "      <td>2018-07-28</td>\n",
       "      <td>https://doi.org/10.1093/jas/sky026</td>\n",
       "      <td>Forages and pastures symposium: cover crops in...</td>\n",
       "    </tr>\n",
       "    <tr>\n",
       "      <th>4</th>\n",
       "      <td>Issue 1</td>\n",
       "      <td>Journal of Animal Science</td>\n",
       "      <td>Pages 231–232</td>\n",
       "      <td>Volume 1928</td>\n",
       "      <td>Saturday Afternoon, November 26, 1927The twent...</td>\n",
       "      <td>Committee and Business Reports</td>\n",
       "      <td>1928-01-01</td>\n",
       "      <td>https://doi.org/10.2527/jas1928.19281231x</td>\n",
       "      <td>Minutes of the Twentieth Annual Business Meeting</td>\n",
       "    </tr>\n",
       "  </tbody>\n",
       "</table>\n",
       "</div>"
      ],
      "text/plain": [
       "     Issue                    Journal            Pages       Volume  \\\n",
       "0  Issue 1  Journal of Animal Science        Pages 391  Volume 1940   \n",
       "1  Issue 1  Journal of Animal Science    Pages 175–180  Volume 1939   \n",
       "2  Issue 1  Journal of Animal Science        Pages 412  Volume 1933   \n",
       "3  Issue 8  Journal of Animal Science  Pages 3503–3512    Volume 96   \n",
       "4  Issue 1  Journal of Animal Science    Pages 231–232  Volume 1928   \n",
       "\n",
       "                                            abstract  \\\n",
       "0  Edward Browning Meigs died November 5, 1940. B...   \n",
       "1  Approximately 38 percent of the total land are...   \n",
       "2  Harry Hayward, N. W. Ayer &amp; Son, 308 Chest...   \n",
       "3  Data from a recent survey suggest that the maj...   \n",
       "4  Saturday Afternoon, November 26, 1927The twent...   \n",
       "\n",
       "                         category       date  \\\n",
       "0                Business Meeting 1940-12-01   \n",
       "1                  Sheep and Wool 1939-12-01   \n",
       "2                         Article 1933-01-01   \n",
       "3                        Symposia 2018-07-28   \n",
       "4  Committee and Business Reports 1928-01-01   \n",
       "\n",
       "                                         doi  \\\n",
       "0  https://doi.org/10.2527/jas1940.19401391x   \n",
       "1  https://doi.org/10.2527/jas1939.19391175x   \n",
       "2  https://doi.org/10.2527/jas1933.19331412x   \n",
       "3         https://doi.org/10.1093/jas/sky026   \n",
       "4  https://doi.org/10.2527/jas1928.19281231x   \n",
       "\n",
       "                                               title  \n",
       "0                              Edward Browning Meigs  \n",
       "1  The Production and Marketing of Feeder Lambs i...  \n",
       "2                                        In Memoriam  \n",
       "3  Forages and pastures symposium: cover crops in...  \n",
       "4   Minutes of the Twentieth Annual Business Meeting  "
      ]
     },
     "execution_count": 4,
     "metadata": {},
     "output_type": "execute_result"
    }
   ],
   "source": [
    "abstracts_df.head()"
   ]
  },
  {
   "cell_type": "code",
   "execution_count": 5,
   "metadata": {},
   "outputs": [],
   "source": [
    "# Save just the abstract text for app\n",
    "abstracts = abstracts_df['abstract']\n",
    "# abstracts.index = range(len(abstracts.index)) - shouldn't need since already reindexed "
   ]
  },
  {
   "cell_type": "code",
   "execution_count": 6,
   "metadata": {},
   "outputs": [],
   "source": [
    "abstracts_df.to_pickle('jas_df.pkl')\n",
    "abstracts.to_pickle('jas_abstracts.pkl')"
   ]
  },
  {
   "cell_type": "markdown",
   "metadata": {},
   "source": [
    "# KEY FUNCTIONS"
   ]
  },
  {
   "cell_type": "code",
   "execution_count": 7,
   "metadata": {},
   "outputs": [],
   "source": [
    "#  more stop words\n",
    "from nltk.tokenize import word_tokenize\n",
    "from nltk.corpus import stopwords\n",
    "from nltk.stem import SnowballStemmer\n",
    "import string\n",
    "from nltk.tag import pos_tag\n",
    "\n",
    "def noun_tokenizer(text):\n",
    "\n",
    "    # remove punctuation\n",
    "    punct = string.punctuation + '±−≤°≥“”'\n",
    "    remove_punct = str.maketrans('', '', punct)\n",
    "    text = text.translate(remove_punct)\n",
    "\n",
    "    # remove digits and convert to lower case\n",
    "    remove_digits = str.maketrans('', '', string.digits)\n",
    "    text = text.lower().translate(remove_digits)\n",
    "\n",
    "    # tokenize\n",
    "    tokens = word_tokenize(text)\n",
    "\n",
    "    is_noun = lambda pos: (pos == 'NN') | (pos == 'NNS') #only nouns - no proper nouns\n",
    "    nouns = [word for (word, pos) in pos_tag(tokens) if is_noun(pos)]\n",
    "    # remove stop words\n",
    "    stop_words = stopwords.words('english')\n",
    "    JAS_words = ['use', 'model', 'anim', 'method', 'result', 'kg', 'vs', 'treatment', 'mgkg', 'per', 'h', 'x']\n",
    "    more_words = ['et', 'al', 'mg', 'cm', 'animals', 'animal', 'mm', 'experiment','treatments','containing', 'studies', 'added', 'sources', 'total', 'science', 'research', 'field', 'degree','report', 'greater', 'increased', 'decreased', 'less', 'use', 'production', 'agriculture']\n",
    "    stop_words = stop_words + JAS_words + more_words\n",
    "    tokens_stop = [y for y in nouns if y not in stop_words]\n",
    "\n",
    "    return tokens_stop"
   ]
  },
  {
   "cell_type": "code",
   "execution_count": 26,
   "metadata": {},
   "outputs": [],
   "source": [
    "from sklearn.feature_extraction.text import CountVectorizer, TfidfVectorizer\n",
    "from sklearn.decomposition import NMF\n",
    "\n",
    "def tfidf_and_nmf(corpus, tokenizer, components=40, max_df=0.8, min_df=2, seed=2019):\n",
    "    '''*Input*\n",
    "    corpus: List of documents,\n",
    "    tokenizer: tokenize function,\n",
    "    components: int, number of components to use, 40 looked pretty good\n",
    "    max_df: float, threshold to ignore terms,\n",
    "    min_df: int, a token must appear in at least this many documents\n",
    "    \n",
    "    *Output*\n",
    "    tuple(vocab, nmf model, Nxk matrix)\n",
    "    '''\n",
    "    # countvectorizing and training\n",
    "    tfidf = TfidfVectorizer(tokenizer=noun_tokenizer, max_df=max_df, min_df=min_df)\n",
    "    X_train_tfidf = tfidf.fit_transform(corpus)\n",
    "    \n",
    "    # flip key:index to allow for lookup using index\n",
    "    vocab = dict((v, k) for k, v in tfidf.vocabulary_.items())\n",
    "    nmf = NMF(n_components=components, random_state=seed)\n",
    "    nmf_vecs = nmf.fit_transform(X_train_tfidf)\n",
    "    return vocab, nmf, nmf_vecs, tfidf"
   ]
  },
  {
   "cell_type": "code",
   "execution_count": 28,
   "metadata": {},
   "outputs": [
    {
     "name": "stdout",
     "output_type": "stream",
     "text": [
      "CPU times: user 15min 16s, sys: 2.94 s, total: 15min 19s\n",
      "Wall time: 14min 36s\n"
     ]
    }
   ],
   "source": [
    "#fit data and find topics\n",
    "%time abstracts_vocab, abstracts_nmf, abstracts_vecs, jas_tfidf = tfidf_and_nmf(abstracts, noun_tokenizer, components=30)"
   ]
  },
  {
   "cell_type": "code",
   "execution_count": 29,
   "metadata": {},
   "outputs": [],
   "source": [
    "with open('JAS_vocab.pkl', 'wb') as picklefile:\n",
    "    pickle.dump(abstracts_vocab, picklefile)"
   ]
  },
  {
   "cell_type": "code",
   "execution_count": 30,
   "metadata": {},
   "outputs": [],
   "source": [
    "with open('JAS_nmf.pkl', 'wb') as picklefile:\n",
    "    pickle.dump(abstracts_nmf, picklefile)\n",
    "with open('JAS_vecs.pkl', 'wb') as picklefile:\n",
    "    pickle.dump(abstracts_vecs, picklefile)\n",
    "with open('JAS_tfidf.pkl', 'wb') as picklefile:\n",
    "    pickle.dump(jas_tfidf, picklefile)"
   ]
  },
  {
   "cell_type": "code",
   "execution_count": 31,
   "metadata": {},
   "outputs": [
    {
     "data": {
      "text/plain": [
       "27412"
      ]
     },
     "execution_count": 31,
     "metadata": {},
     "output_type": "execute_result"
    }
   ],
   "source": [
    "# confirm size of data is the same\n",
    "len(abstracts_vecs)"
   ]
  },
  {
   "cell_type": "code",
   "execution_count": 32,
   "metadata": {},
   "outputs": [],
   "source": [
    "# argsort gives you the indices of the sorted order in ascending order, taking negative  makes it desc\n",
    "nmf_topic_words = [topic[:15] for topic in np.argsort(-abstracts_nmf.components_)]"
   ]
  },
  {
   "cell_type": "code",
   "execution_count": 33,
   "metadata": {},
   "outputs": [],
   "source": [
    "# np.argsort(-abstracts_nmf.components_)"
   ]
  },
  {
   "cell_type": "code",
   "execution_count": 34,
   "metadata": {},
   "outputs": [
    {
     "name": "stdout",
     "output_type": "stream",
     "text": [
      "0 ['p', 'lt', 'bw', 'gt', 'diets', 'supplementation', 'n', 'adg', 'cp', 'control', 'effects', 'phytase', 'con', 'gf', 'dm']\n",
      "1 ['weight', 'birth', 'age', 'weights', 'breed', 'heterosis', 'breeds', 'body', 'dam', 'growth', 'dams', 'gain', 'calf', 'sex', 'effects']\n",
      "2 ['pigs', 'diets', 'pig', 'diet', 'performance', 'growth', 'feed', 'adg', 'barrows', 'adfi', 'gf', 'exp', 'period', 'wk', 'control']\n",
      "3 ['ration', 'rations', 'feed', 'gain', 'percent', 'phosphorus', 'gains', 'calcium', 'meal', 'levels', 'level', 'efficiency', 'rate', 'trials', 'hay']\n",
      "4 ['days', 'day', 'estrus', 'progesterone', 'cycle', 'ovulation', 'group', 'follicles', 'cl', 'injection', 'groups', 'corpora', 'period', 'interval', 'hr']\n",
      "5 ['cows', 'cow', 'postpartum', 'bcs', 'calf', 'pregnancy', 'beef', 'estrus', 'condition', 'gnrh', 'conception', 'hereford', 'dairy', 'rates', 'interval']\n",
      "6 ['sows', 'lactation', 'gestation', 'piglets', 'litter', 'sow', 'parity', 'litters', 'piglet', 'size', 'number', 'parturition', 'farrowing', 'birth', 'performance']\n",
      "7 ['steers', 'cattle', 'feedlot', 'pasture', 'steer', 'dmi', 'gain', 'adg', 'trial', 'period', 'feed', 'performance', 'gains', 'bw', 'phase']\n",
      "8 ['carcass', 'fat', 'carcasses', 'thickness', 'weight', 'percentage', 'cuts', 'measurements', 'composition', 'area', 'rib', 'yield', 'muscle', 'backfat', 'percent']\n",
      "9 ['traits', 'estimates', 'correlations', 'heritability', 'variance', 'data', 'models', 'effects', 'records', 'selection', 'sire', 'correlation', 'trait', 'sires', 'parameters']\n",
      "10 ['heifers', 'puberty', 'pregnancy', 'heifer', 'estrus', 'mga', 'beef', 'rates', 'rate', 'age', 'period', 'progesterone', 'bw', 'conception', 'season']\n",
      "11 ['calves', 'calf', 'dams', 'hereford', 'bull', 'feedlot', 'castration', 'age', 'groups', 'angus', 'period', 'brahman', 'gains', 'group', 'steer']\n",
      "12 ['gilts', 'gestation', 'boars', 'barrows', 'puberty', 'embryos', 'estrus', 'age', 'number', 'ovulation', 'gilt', 'development', 'pregnancy', 'fetuses', 'boar']\n",
      "13 ['corn', 'silage', 'diets', 'grain', 'oil', 'starch', 'meal', 'ground', 'ddgs', 'wheat', 'grains', 'moisture', 'soybean', 'sorghum', 'value']\n",
      "14 ['cattle', 'university', 'livestock', 'beef', 'state', 'management', 'years', 'systems', 'work', 'industry', 'students', 'farm', 'society', 'system', 'program']\n",
      "15 ['digestibility', 'digestion', 'forage', 'hay', 'matter', 'fiber', 'dm', 'intake', 'diets', 'alfalfa', 'starch', 'cp', 'rumen', 'digestibilities', 'crude']\n",
      "16 ['ewes', 'ewe', 'rams', 'breeding', 'lambing', 'fertility', 'season', 'number', 'lamb', 'rambouillet', 'estrus', 'gestation', 'pregnancy', 'year', 'wool']\n",
      "17 ['concentrations', 'lh', 'blood', 'plasma', 'serum', 'hormone', 'insulin', 'concentration', 'samples', 'gh', 'secretion', 'fsh', 'response', 'min', 'injection']\n",
      "18 ['muscle', 'expression', 'cells', 'tissue', 'genes', 'growth', 'gene', 'cell', 'activity', 'mrna', 'development', 'tissues', 'fibers', 'differentiation', 'synthesis']\n",
      "19 ['milk', 'lactation', 'yield', 'dairy', 'replacer', 'colostrum', 'yields', 'composition', 'gland', 'calf', 'milking', 'cow', 'goats', 'fat', 'content']\n",
      "20 ['lambs', 'lamb', 'ewe', 'rams', 'ram', 'wethers', 'suffolk', 'wether', 'group', 'stilbestrol', 'groups', 'trial', 'rambouillet', 'age', 'concentrate']\n",
      "21 ['bulls', 'semen', 'age', 'sperm', 'bull', 'mo', 'testosterone', 'spermatozoa', 'motility', 'group', 'boars', 'groups', 'circumference', 'fertility', 'puberty']\n",
      "22 ['energy', 'intake', 'body', 'feed', 'maintenance', 'efficiency', 'gain', 'requirements', 'heat', 'utilization', 'level', 'ad', 'libitum', 'levels', 'composition']\n",
      "23 ['steaks', 'tenderness', 'meat', 'muscle', 'force', 'carcasses', 'color', 'postmortem', 'beef', 'quality', 'values', 'muscles', 'flavor', 'panel', 'ph']\n",
      "24 ['acid', 'acids', 'amino', 'rumen', 'nitrogen', 'oil', 'plasma', 'lysine', 'ph', 'concentration', 'methionine', 'diet', 'vfa', 'levels', 'infusion']\n",
      "25 ['plt', 'monensin', 'trial', 'pgt', 'matter', 'trials', 'levels', 'level', 'c', 'gain', 'k', 'hr', 'diets', 'control', 'feed']\n",
      "26 ['cu', 'zn', 'liver', 'ppm', 'copper', 'se', 'fe', 'mn', 'zinc', 'concentrations', 'cuso', 'levels', 'sulfate', 'diets', 'zno']\n",
      "27 ['protein', 'meal', 'diets', 'sbm', 'nitrogen', 'soybean', 'cp', 'lysine', 'level', 'crude', 'levels', 'diet', 'source', 'aa', 'supplements']\n",
      "28 ['vitamin', 'e', 'b', 'se', 'supplementation', 'selenium', 'liver', 'carotene', 'serum', 'αtocopherol', 'iu', 'levels', 'c', 'deficiency', 'coli']\n",
      "29 ['selection', 'line', 'lines', 'size', 'litter', 'rate', 'generation', 'generations', 'ovulation', 'index', 'response', 'number', 'females', 'boars', 'mice']\n"
     ]
    }
   ],
   "source": [
    "#show top 15 words in each topic by looking up index in the vocab dictionary\n",
    "for i, component in enumerate(nmf_topic_words):\n",
    "     print(i, [abstracts_vocab[idx] for idx in component])"
   ]
  },
  {
   "cell_type": "markdown",
   "metadata": {},
   "source": [
    "# Label Components and visualize --in progress--"
   ]
  },
  {
   "cell_type": "code",
   "execution_count": 35,
   "metadata": {},
   "outputs": [
    {
     "data": {
      "text/plain": [
       "(27412, 30)"
      ]
     },
     "execution_count": 35,
     "metadata": {},
     "output_type": "execute_result"
    }
   ],
   "source": [
    "abstracts_vecs.shape"
   ]
  },
  {
   "cell_type": "code",
   "execution_count": 36,
   "metadata": {},
   "outputs": [
    {
     "data": {
      "text/plain": [
       "array([22, 14, 28, ...,  5, 10,  6])"
      ]
     },
     "execution_count": 36,
     "metadata": {},
     "output_type": "execute_result"
    }
   ],
   "source": [
    "abstracts_vecs.argmax(axis=1)"
   ]
  },
  {
   "cell_type": "code",
   "execution_count": 37,
   "metadata": {},
   "outputs": [],
   "source": [
    "import seaborn as sns\n",
    "sns.set()"
   ]
  },
  {
   "cell_type": "code",
   "execution_count": 38,
   "metadata": {},
   "outputs": [
    {
     "name": "stderr",
     "output_type": "stream",
     "text": [
      "/home/douglas/anaconda3/lib/python3.6/site-packages/scipy/stats/stats.py:1713: FutureWarning: Using a non-tuple sequence for multidimensional indexing is deprecated; use `arr[tuple(seq)]` instead of `arr[seq]`. In the future this will be interpreted as an array index, `arr[np.array(seq)]`, which will result either in an error or a different result.\n",
      "  return np.add.reduce(sorted[indexer] * weights, axis=axis) / sumval\n"
     ]
    },
    {
     "data": {
      "text/plain": [
       "<matplotlib.axes._subplots.AxesSubplot at 0x7fc7593ce908>"
      ]
     },
     "execution_count": 38,
     "metadata": {},
     "output_type": "execute_result"
    },
    {
     "data": {
      "image/png": "[encoded data removed]",
      "text/plain": [
       "<matplotlib.figure.Figure at 0x7fc75938ab00>"
      ]
     },
     "metadata": {},
     "output_type": "display_data"
    }
   ],
   "source": [
    "# How much does biggest component contribute to the text?\n",
    "sns.distplot(abstracts_vecs.max(axis=1))"
   ]
  },
  {
   "cell_type": "code",
   "execution_count": null,
   "metadata": {},
   "outputs": [],
   "source": []
  },
  {
   "cell_type": "code",
   "execution_count": 56,
   "metadata": {},
   "outputs": [],
   "source": [
    "component_labels = {0:'Feeding Trial(Generic)',\n",
    "                      1:'Cattle Offspring',\n",
    "                      2:'Feeding Trial(Pig)',\n",
    "                      3: 'Feed Formulation',\n",
    "                      4:'Estrous Cycle',\n",
    "                     5:'Cattle Offspring',\n",
    "                     6:'Sow Offspring',\n",
    "                     7:'Cattle Feedlot',\n",
    "                     8:'Meat and Carcass',\n",
    "                   9:'Genetics and Selection',\n",
    "                   10:'Cattle Offspring',\n",
    "                   11:'Cattle Offspring',\n",
    "                   12:'Sow Offspring',\n",
    "                   13: 'Grains and Silage',\n",
    "                   14: 'Not Research',\n",
    "                   15:'Feed Formulation',\n",
    "                   16:'Sheep',\n",
    "                   17:'Blood Samples',\n",
    "                   18:'Muscle tissues',\n",
    "                   19:'Milk',\n",
    "                   20:'Sheep',\n",
    "                   21:'Bull Semen',\n",
    "                   22:'Feed Formulation',\n",
    "                   23:'Meat and Carcass',\n",
    "                    24:'Feed Formulation',\n",
    "                    25:'Feeding Trial(Generic)',\n",
    "                    26:'Minerals',\n",
    "                    27:'Feed Formulation',\n",
    "                    28:'Vitamins',\n",
    "                    29:'Genetics and Selection',\n",
    "                   }"
   ]
  },
  {
   "cell_type": "code",
   "execution_count": 76,
   "metadata": {},
   "outputs": [],
   "source": [
    "labels = pd.DataFrame()"
   ]
  },
  {
   "cell_type": "code",
   "execution_count": 85,
   "metadata": {},
   "outputs": [],
   "source": [
    "labels = labels.from_dict(component_labels, orient='index', columns=['Topic'])"
   ]
  },
  {
   "cell_type": "code",
   "execution_count": 57,
   "metadata": {},
   "outputs": [
    {
     "data": {
      "text/plain": [
       "14    2640\n",
       "2     1976\n",
       "18    1831\n",
       "15    1724\n",
       "9     1353\n",
       "5     1180\n",
       "24    1060\n",
       "27    1059\n",
       "7     1007\n",
       "23     997\n",
       "25     919\n",
       "17     865\n",
       "6      767\n",
       "29     753\n",
       "10     734\n",
       "21     721\n",
       "20     711\n",
       "16     694\n",
       "8      690\n",
       "3      665\n",
       "22     658\n",
       "28     625\n",
       "12     606\n",
       "19     605\n",
       "13     571\n",
       "11     565\n",
       "26     478\n",
       "1      395\n",
       "4      327\n",
       "0      236\n",
       "dtype: int64"
      ]
     },
     "execution_count": 57,
     "metadata": {},
     "output_type": "execute_result"
    }
   ],
   "source": [
    "# np.unique(abstracts_vecs.argmax(axis=1), return_counts=True)\n",
    "pd.Series(abstracts_vecs.argmax(axis=1)).value_counts()"
   ]
  },
  {
   "cell_type": "markdown",
   "metadata": {},
   "source": [
    "To do:  \n",
    "    1) Attach vectors to dataframe.  \n",
    "    2) Assign topic (simple max?)   \n",
    "    3) Plot by date to get topic evolution."
   ]
  },
  {
   "cell_type": "code",
   "execution_count": 39,
   "metadata": {},
   "outputs": [],
   "source": [
    "# How important are the secondary components?"
   ]
  },
  {
   "cell_type": "code",
   "execution_count": 40,
   "metadata": {},
   "outputs": [],
   "source": [
    "sorted_vecs = np.sort(abstracts_vecs)"
   ]
  },
  {
   "cell_type": "code",
   "execution_count": 41,
   "metadata": {},
   "outputs": [
    {
     "data": {
      "text/plain": [
       "(27412, 30)"
      ]
     },
     "execution_count": 41,
     "metadata": {},
     "output_type": "execute_result"
    }
   ],
   "source": [
    "sorted_vecs.shape"
   ]
  },
  {
   "cell_type": "code",
   "execution_count": 42,
   "metadata": {},
   "outputs": [
    {
     "data": {
      "text/plain": [
       "0.46658900955143967"
      ]
     },
     "execution_count": 42,
     "metadata": {},
     "output_type": "execute_result"
    }
   ],
   "source": [
    "((sorted_vecs[:,-1] - sorted_vecs[:,-2])/sorted_vecs[:,-1]).mean()"
   ]
  },
  {
   "cell_type": "code",
   "execution_count": 44,
   "metadata": {},
   "outputs": [
    {
     "data": {
      "text/plain": [
       "0.5334109904485603"
      ]
     },
     "execution_count": 44,
     "metadata": {},
     "output_type": "execute_result"
    }
   ],
   "source": [
    "((sorted_vecs[:,-2])/sorted_vecs[:,-1]).mean() # 2nd about half the contribution of the 1st component on avg"
   ]
  },
  {
   "cell_type": "code",
   "execution_count": 47,
   "metadata": {},
   "outputs": [
    {
     "data": {
      "text/plain": [
       "0.2678296746635765"
      ]
     },
     "execution_count": 47,
     "metadata": {},
     "output_type": "execute_result"
    }
   ],
   "source": [
    "((sorted_vecs[:,-2])/sorted_vecs[:,-1]).std() "
   ]
  },
  {
   "cell_type": "code",
   "execution_count": 48,
   "metadata": {},
   "outputs": [
    {
     "name": "stdout",
     "output_type": "stream",
     "text": [
      "0.3321576112371818\n"
     ]
    },
    {
     "data": {
      "text/plain": [
       "0.2172088707634704"
      ]
     },
     "execution_count": 48,
     "metadata": {},
     "output_type": "execute_result"
    }
   ],
   "source": [
    "print(((sorted_vecs[:,-3])/sorted_vecs[:,-1]).mean()) # 3rd drops to 1/3\n",
    "((sorted_vecs[:,-3])/sorted_vecs[:,-1]).std()"
   ]
  },
  {
   "cell_type": "code",
   "execution_count": 52,
   "metadata": {},
   "outputs": [
    {
     "name": "stdout",
     "output_type": "stream",
     "text": [
      "1 1.0 0.0\n",
      "2 0.5334109904485603 0.2678296746635765\n",
      "3 0.3321576112371818 0.2172088707634704\n",
      "4 0.2203333189165732 0.16903134492152389\n",
      "5 0.150992156942039 0.13195300697432036\n",
      "6 0.10499905343323818 0.10303227240420168\n",
      "7 0.07441742612968356 0.08197131734042915\n",
      "8 0.053127005274487944 0.06508542433560176\n",
      "9 0.03839246076058345 0.05238656761481047\n",
      "10 0.02808544331672819 0.04272359919624943\n",
      "11 0.02051121546526202 0.03454246799522136\n",
      "12 0.014917583820226303 0.028191235716577244\n",
      "13 0.010812936011642304 0.023006408254871852\n",
      "14 0.007745402862297164 0.018677569120132718\n"
     ]
    }
   ],
   "source": [
    "for i in range(1,15):\n",
    "    print(i, ((sorted_vecs[:,-i])/sorted_vecs[:,-1]).mean(), ((sorted_vecs[:,-i])/sorted_vecs[:,-1]).std())\n",
    "# topics relevance go down very quickly"
   ]
  },
  {
   "cell_type": "code",
   "execution_count": 54,
   "metadata": {},
   "outputs": [],
   "source": [
    "# add top component as cluster to dataframe - very simple interpretation of the topics \n",
    "abstracts_df['top_component'] = abstracts_vecs.argmax(axis=1)"
   ]
  },
  {
   "cell_type": "code",
   "execution_count": 88,
   "metadata": {},
   "outputs": [
    {
     "data": {
      "text/plain": [
       "(27412, 11)"
      ]
     },
     "execution_count": 88,
     "metadata": {},
     "output_type": "execute_result"
    }
   ],
   "source": [
    "abstracts_df.shape"
   ]
  },
  {
   "cell_type": "code",
   "execution_count": 55,
   "metadata": {},
   "outputs": [
    {
     "data": {
      "text/html": [
       "<div>\n",
       "<style scoped>\n",
       "    .dataframe tbody tr th:only-of-type {\n",
       "        vertical-align: middle;\n",
       "    }\n",
       "\n",
       "    .dataframe tbody tr th {\n",
       "        vertical-align: top;\n",
       "    }\n",
       "\n",
       "    .dataframe thead th {\n",
       "        text-align: right;\n",
       "    }\n",
       "</style>\n",
       "<table border=\"1\" class=\"dataframe\">\n",
       "  <thead>\n",
       "    <tr style=\"text-align: right;\">\n",
       "      <th></th>\n",
       "      <th>Issue</th>\n",
       "      <th>Journal</th>\n",
       "      <th>Pages</th>\n",
       "      <th>Volume</th>\n",
       "      <th>abstract</th>\n",
       "      <th>category</th>\n",
       "      <th>date</th>\n",
       "      <th>doi</th>\n",
       "      <th>title</th>\n",
       "      <th>top_component</th>\n",
       "    </tr>\n",
       "  </thead>\n",
       "  <tbody>\n",
       "    <tr>\n",
       "      <th>0</th>\n",
       "      <td>Issue 1</td>\n",
       "      <td>Journal of Animal Science</td>\n",
       "      <td>Pages 391</td>\n",
       "      <td>Volume 1940</td>\n",
       "      <td>Edward Browning Meigs died November 5, 1940. B...</td>\n",
       "      <td>Business Meeting</td>\n",
       "      <td>1940-12-01</td>\n",
       "      <td>https://doi.org/10.2527/jas1940.19401391x</td>\n",
       "      <td>Edward Browning Meigs</td>\n",
       "      <td>22</td>\n",
       "    </tr>\n",
       "    <tr>\n",
       "      <th>1</th>\n",
       "      <td>Issue 1</td>\n",
       "      <td>Journal of Animal Science</td>\n",
       "      <td>Pages 175–180</td>\n",
       "      <td>Volume 1939</td>\n",
       "      <td>Approximately 38 percent of the total land are...</td>\n",
       "      <td>Sheep and Wool</td>\n",
       "      <td>1939-12-01</td>\n",
       "      <td>https://doi.org/10.2527/jas1939.19391175x</td>\n",
       "      <td>The Production and Marketing of Feeder Lambs i...</td>\n",
       "      <td>14</td>\n",
       "    </tr>\n",
       "    <tr>\n",
       "      <th>2</th>\n",
       "      <td>Issue 1</td>\n",
       "      <td>Journal of Animal Science</td>\n",
       "      <td>Pages 412</td>\n",
       "      <td>Volume 1933</td>\n",
       "      <td>Harry Hayward, N. W. Ayer &amp;amp; Son, 308 Chest...</td>\n",
       "      <td>Article</td>\n",
       "      <td>1933-01-01</td>\n",
       "      <td>https://doi.org/10.2527/jas1933.19331412x</td>\n",
       "      <td>In Memoriam</td>\n",
       "      <td>28</td>\n",
       "    </tr>\n",
       "    <tr>\n",
       "      <th>3</th>\n",
       "      <td>Issue 8</td>\n",
       "      <td>Journal of Animal Science</td>\n",
       "      <td>Pages 3503–3512</td>\n",
       "      <td>Volume 96</td>\n",
       "      <td>Data from a recent survey suggest that the maj...</td>\n",
       "      <td>Symposia</td>\n",
       "      <td>2018-07-28</td>\n",
       "      <td>https://doi.org/10.1093/jas/sky026</td>\n",
       "      <td>Forages and pastures symposium: cover crops in...</td>\n",
       "      <td>13</td>\n",
       "    </tr>\n",
       "    <tr>\n",
       "      <th>4</th>\n",
       "      <td>Issue 1</td>\n",
       "      <td>Journal of Animal Science</td>\n",
       "      <td>Pages 231–232</td>\n",
       "      <td>Volume 1928</td>\n",
       "      <td>Saturday Afternoon, November 26, 1927The twent...</td>\n",
       "      <td>Committee and Business Reports</td>\n",
       "      <td>1928-01-01</td>\n",
       "      <td>https://doi.org/10.2527/jas1928.19281231x</td>\n",
       "      <td>Minutes of the Twentieth Annual Business Meeting</td>\n",
       "      <td>14</td>\n",
       "    </tr>\n",
       "  </tbody>\n",
       "</table>\n",
       "</div>"
      ],
      "text/plain": [
       "     Issue                    Journal            Pages       Volume  \\\n",
       "0  Issue 1  Journal of Animal Science        Pages 391  Volume 1940   \n",
       "1  Issue 1  Journal of Animal Science    Pages 175–180  Volume 1939   \n",
       "2  Issue 1  Journal of Animal Science        Pages 412  Volume 1933   \n",
       "3  Issue 8  Journal of Animal Science  Pages 3503–3512    Volume 96   \n",
       "4  Issue 1  Journal of Animal Science    Pages 231–232  Volume 1928   \n",
       "\n",
       "                                            abstract  \\\n",
       "0  Edward Browning Meigs died November 5, 1940. B...   \n",
       "1  Approximately 38 percent of the total land are...   \n",
       "2  Harry Hayward, N. W. Ayer &amp; Son, 308 Chest...   \n",
       "3  Data from a recent survey suggest that the maj...   \n",
       "4  Saturday Afternoon, November 26, 1927The twent...   \n",
       "\n",
       "                         category       date  \\\n",
       "0                Business Meeting 1940-12-01   \n",
       "1                  Sheep and Wool 1939-12-01   \n",
       "2                         Article 1933-01-01   \n",
       "3                        Symposia 2018-07-28   \n",
       "4  Committee and Business Reports 1928-01-01   \n",
       "\n",
       "                                         doi  \\\n",
       "0  https://doi.org/10.2527/jas1940.19401391x   \n",
       "1  https://doi.org/10.2527/jas1939.19391175x   \n",
       "2  https://doi.org/10.2527/jas1933.19331412x   \n",
       "3         https://doi.org/10.1093/jas/sky026   \n",
       "4  https://doi.org/10.2527/jas1928.19281231x   \n",
       "\n",
       "                                               title  top_component  \n",
       "0                              Edward Browning Meigs             22  \n",
       "1  The Production and Marketing of Feeder Lambs i...             14  \n",
       "2                                        In Memoriam             28  \n",
       "3  Forages and pastures symposium: cover crops in...             13  \n",
       "4   Minutes of the Twentieth Annual Business Meeting             14  "
      ]
     },
     "execution_count": 55,
     "metadata": {},
     "output_type": "execute_result"
    }
   ],
   "source": [
    "abstracts_df.head()"
   ]
  },
  {
   "cell_type": "code",
   "execution_count": 101,
   "metadata": {},
   "outputs": [
    {
     "name": "stdout",
     "output_type": "stream",
     "text": [
      "CPU times: user 40.2 ms, sys: 3.96 ms, total: 44.1 ms\n",
      "Wall time: 47.1 ms\n"
     ]
    }
   ],
   "source": [
    "%time labeled = abstracts_df.merge(labels, left_on='top_component', right_index=True)\n",
    "# join is 4x slower in this case"
   ]
  },
  {
   "cell_type": "code",
   "execution_count": 102,
   "metadata": {},
   "outputs": [
    {
     "name": "stdout",
     "output_type": "stream",
     "text": [
      "CPU times: user 5.5 ms, sys: 4.01 ms, total: 9.51 ms\n",
      "Wall time: 11.7 ms\n"
     ]
    }
   ],
   "source": [
    "%time abstracts_df['Topic'] = abstracts_df['top_component'].map(component_labels)"
   ]
  },
  {
   "cell_type": "code",
   "execution_count": 103,
   "metadata": {},
   "outputs": [
    {
     "data": {
      "text/html": [
       "<div>\n",
       "<style scoped>\n",
       "    .dataframe tbody tr th:only-of-type {\n",
       "        vertical-align: middle;\n",
       "    }\n",
       "\n",
       "    .dataframe tbody tr th {\n",
       "        vertical-align: top;\n",
       "    }\n",
       "\n",
       "    .dataframe thead th {\n",
       "        text-align: right;\n",
       "    }\n",
       "</style>\n",
       "<table border=\"1\" class=\"dataframe\">\n",
       "  <thead>\n",
       "    <tr style=\"text-align: right;\">\n",
       "      <th></th>\n",
       "      <th>Issue</th>\n",
       "      <th>Journal</th>\n",
       "      <th>Pages</th>\n",
       "      <th>Volume</th>\n",
       "      <th>abstract</th>\n",
       "      <th>category</th>\n",
       "      <th>date</th>\n",
       "      <th>doi</th>\n",
       "      <th>title</th>\n",
       "      <th>top_component</th>\n",
       "      <th>year</th>\n",
       "      <th>Topic</th>\n",
       "    </tr>\n",
       "  </thead>\n",
       "  <tbody>\n",
       "    <tr>\n",
       "      <th>0</th>\n",
       "      <td>Issue 1</td>\n",
       "      <td>Journal of Animal Science</td>\n",
       "      <td>Pages 391</td>\n",
       "      <td>Volume 1940</td>\n",
       "      <td>Edward Browning Meigs died November 5, 1940. B...</td>\n",
       "      <td>Business Meeting</td>\n",
       "      <td>1940-12-01</td>\n",
       "      <td>https://doi.org/10.2527/jas1940.19401391x</td>\n",
       "      <td>Edward Browning Meigs</td>\n",
       "      <td>22</td>\n",
       "      <td>1940</td>\n",
       "      <td>Feed Formulation</td>\n",
       "    </tr>\n",
       "    <tr>\n",
       "      <th>1</th>\n",
       "      <td>Issue 1</td>\n",
       "      <td>Journal of Animal Science</td>\n",
       "      <td>Pages 175–180</td>\n",
       "      <td>Volume 1939</td>\n",
       "      <td>Approximately 38 percent of the total land are...</td>\n",
       "      <td>Sheep and Wool</td>\n",
       "      <td>1939-12-01</td>\n",
       "      <td>https://doi.org/10.2527/jas1939.19391175x</td>\n",
       "      <td>The Production and Marketing of Feeder Lambs i...</td>\n",
       "      <td>14</td>\n",
       "      <td>1939</td>\n",
       "      <td>Not Research</td>\n",
       "    </tr>\n",
       "    <tr>\n",
       "      <th>2</th>\n",
       "      <td>Issue 1</td>\n",
       "      <td>Journal of Animal Science</td>\n",
       "      <td>Pages 412</td>\n",
       "      <td>Volume 1933</td>\n",
       "      <td>Harry Hayward, N. W. Ayer &amp;amp; Son, 308 Chest...</td>\n",
       "      <td>Article</td>\n",
       "      <td>1933-01-01</td>\n",
       "      <td>https://doi.org/10.2527/jas1933.19331412x</td>\n",
       "      <td>In Memoriam</td>\n",
       "      <td>28</td>\n",
       "      <td>1933</td>\n",
       "      <td>Vitamins</td>\n",
       "    </tr>\n",
       "    <tr>\n",
       "      <th>3</th>\n",
       "      <td>Issue 8</td>\n",
       "      <td>Journal of Animal Science</td>\n",
       "      <td>Pages 3503–3512</td>\n",
       "      <td>Volume 96</td>\n",
       "      <td>Data from a recent survey suggest that the maj...</td>\n",
       "      <td>Symposia</td>\n",
       "      <td>2018-07-28</td>\n",
       "      <td>https://doi.org/10.1093/jas/sky026</td>\n",
       "      <td>Forages and pastures symposium: cover crops in...</td>\n",
       "      <td>13</td>\n",
       "      <td>2018</td>\n",
       "      <td>Grains and Silage</td>\n",
       "    </tr>\n",
       "    <tr>\n",
       "      <th>4</th>\n",
       "      <td>Issue 1</td>\n",
       "      <td>Journal of Animal Science</td>\n",
       "      <td>Pages 231–232</td>\n",
       "      <td>Volume 1928</td>\n",
       "      <td>Saturday Afternoon, November 26, 1927The twent...</td>\n",
       "      <td>Committee and Business Reports</td>\n",
       "      <td>1928-01-01</td>\n",
       "      <td>https://doi.org/10.2527/jas1928.19281231x</td>\n",
       "      <td>Minutes of the Twentieth Annual Business Meeting</td>\n",
       "      <td>14</td>\n",
       "      <td>1928</td>\n",
       "      <td>Not Research</td>\n",
       "    </tr>\n",
       "  </tbody>\n",
       "</table>\n",
       "</div>"
      ],
      "text/plain": [
       "     Issue                    Journal            Pages       Volume  \\\n",
       "0  Issue 1  Journal of Animal Science        Pages 391  Volume 1940   \n",
       "1  Issue 1  Journal of Animal Science    Pages 175–180  Volume 1939   \n",
       "2  Issue 1  Journal of Animal Science        Pages 412  Volume 1933   \n",
       "3  Issue 8  Journal of Animal Science  Pages 3503–3512    Volume 96   \n",
       "4  Issue 1  Journal of Animal Science    Pages 231–232  Volume 1928   \n",
       "\n",
       "                                            abstract  \\\n",
       "0  Edward Browning Meigs died November 5, 1940. B...   \n",
       "1  Approximately 38 percent of the total land are...   \n",
       "2  Harry Hayward, N. W. Ayer &amp; Son, 308 Chest...   \n",
       "3  Data from a recent survey suggest that the maj...   \n",
       "4  Saturday Afternoon, November 26, 1927The twent...   \n",
       "\n",
       "                         category       date  \\\n",
       "0                Business Meeting 1940-12-01   \n",
       "1                  Sheep and Wool 1939-12-01   \n",
       "2                         Article 1933-01-01   \n",
       "3                        Symposia 2018-07-28   \n",
       "4  Committee and Business Reports 1928-01-01   \n",
       "\n",
       "                                         doi  \\\n",
       "0  https://doi.org/10.2527/jas1940.19401391x   \n",
       "1  https://doi.org/10.2527/jas1939.19391175x   \n",
       "2  https://doi.org/10.2527/jas1933.19331412x   \n",
       "3         https://doi.org/10.1093/jas/sky026   \n",
       "4  https://doi.org/10.2527/jas1928.19281231x   \n",
       "\n",
       "                                               title  top_component  year  \\\n",
       "0                              Edward Browning Meigs             22  1940   \n",
       "1  The Production and Marketing of Feeder Lambs i...             14  1939   \n",
       "2                                        In Memoriam             28  1933   \n",
       "3  Forages and pastures symposium: cover crops in...             13  2018   \n",
       "4   Minutes of the Twentieth Annual Business Meeting             14  1928   \n",
       "\n",
       "               Topic  \n",
       "0   Feed Formulation  \n",
       "1       Not Research  \n",
       "2           Vitamins  \n",
       "3  Grains and Silage  \n",
       "4       Not Research  "
      ]
     },
     "execution_count": 103,
     "metadata": {},
     "output_type": "execute_result"
    }
   ],
   "source": [
    "abstracts_df.head()"
   ]
  },
  {
   "cell_type": "code",
   "execution_count": 104,
   "metadata": {},
   "outputs": [],
   "source": [
    "abstracts_df[['abstract', 'date', 'title', 'category', 'Topic']].to_csv('abstracts.csv')"
   ]
  },
  {
   "cell_type": "code",
   "execution_count": 63,
   "metadata": {},
   "outputs": [],
   "source": [
    "abstracts_df['year'] = abstracts_df['date'].dt.year"
   ]
  },
  {
   "cell_type": "markdown",
   "metadata": {},
   "source": [
    "# Journal of Animal Science Topic Popularity Through Time\n",
    "https://public.tableau.com/profile/douglas.lee2850#!/vizhome/JournalofAnimalScienceTopicPopularityThroughTime/JASTopicPopularity?publish=yes"
   ]
  },
  {
   "cell_type": "code",
   "execution_count": null,
   "metadata": {},
   "outputs": [],
   "source": []
  }
 ],
 "metadata": {
  "kernelspec": {
   "display_name": "Python 3",
   "language": "python",
   "name": "python3"
  },
  "language_info": {
   "codemirror_mode": {
    "name": "ipython",
    "version": 3
   },
   "file_extension": ".py",
   "mimetype": "text/x-python",
   "name": "python",
   "nbconvert_exporter": "python",
   "pygments_lexer": "ipython3",
   "version": "3.6.8"
  }
 },
 "nbformat": 4,
 "nbformat_minor": 2
}

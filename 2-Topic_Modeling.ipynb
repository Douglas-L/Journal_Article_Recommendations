{
 "cells": [
  {
   "cell_type": "code",
   "execution_count": null,
   "metadata": {},
   "outputs": [],
   "source": []
  },
  {
   "cell_type": "code",
   "execution_count": 143,
   "metadata": {},
   "outputs": [
    {
     "name": "stdout",
     "output_type": "stream",
     "text": [
      "Populating the interactive namespace from numpy and matplotlib\n"
     ]
    },
    {
     "name": "stderr",
     "output_type": "stream",
     "text": [
      "/home/douglas/anaconda3/lib/python3.6/site-packages/IPython/core/magics/pylab.py:160: UserWarning: pylab import has clobbered these variables: ['text']\n",
      "`%matplotlib` prevents importing * from pylab and numpy\n",
      "  \"\\n`%matplotlib` prevents importing * from pylab and numpy\"\n"
     ]
    }
   ],
   "source": [
    "import pandas as pd\n",
    "%pylab inline\n",
    "import pickle"
   ]
  },
  {
   "cell_type": "code",
   "execution_count": 144,
   "metadata": {},
   "outputs": [
    {
     "data": {
      "text/html": [
       "<div>\n",
       "<style scoped>\n",
       "    .dataframe tbody tr th:only-of-type {\n",
       "        vertical-align: middle;\n",
       "    }\n",
       "\n",
       "    .dataframe tbody tr th {\n",
       "        vertical-align: top;\n",
       "    }\n",
       "\n",
       "    .dataframe thead th {\n",
       "        text-align: right;\n",
       "    }\n",
       "</style>\n",
       "<table border=\"1\" class=\"dataframe\">\n",
       "  <thead>\n",
       "    <tr style=\"text-align: right;\">\n",
       "      <th></th>\n",
       "      <th>Issue</th>\n",
       "      <th>Journal</th>\n",
       "      <th>Pages</th>\n",
       "      <th>Volume</th>\n",
       "      <th>abstract</th>\n",
       "      <th>category</th>\n",
       "      <th>date</th>\n",
       "      <th>doi</th>\n",
       "      <th>title</th>\n",
       "    </tr>\n",
       "  </thead>\n",
       "  <tbody>\n",
       "    <tr>\n",
       "      <th>count</th>\n",
       "      <td>27412</td>\n",
       "      <td>27412</td>\n",
       "      <td>27412</td>\n",
       "      <td>27412</td>\n",
       "      <td>27412</td>\n",
       "      <td>27412</td>\n",
       "      <td>27412</td>\n",
       "      <td>27412</td>\n",
       "      <td>27412</td>\n",
       "    </tr>\n",
       "    <tr>\n",
       "      <th>unique</th>\n",
       "      <td>32</td>\n",
       "      <td>1</td>\n",
       "      <td>18241</td>\n",
       "      <td>127</td>\n",
       "      <td>27412</td>\n",
       "      <td>702</td>\n",
       "      <td>734</td>\n",
       "      <td>27412</td>\n",
       "      <td>27233</td>\n",
       "    </tr>\n",
       "    <tr>\n",
       "      <th>top</th>\n",
       "      <td>Issue 1</td>\n",
       "      <td>Journal of Animal Science</td>\n",
       "      <td>Pages 1–8</td>\n",
       "      <td>Volume 94</td>\n",
       "      <td>The time course for changes in plasma free fat...</td>\n",
       "      <td>Ruminant Nutrition</td>\n",
       "      <td>2016-09-01 00:00:00</td>\n",
       "      <td>https://doi.org/10.2527/2003.8181911x</td>\n",
       "      <td>Discussion</td>\n",
       "    </tr>\n",
       "    <tr>\n",
       "      <th>freq</th>\n",
       "      <td>4709</td>\n",
       "      <td>27412</td>\n",
       "      <td>23</td>\n",
       "      <td>1194</td>\n",
       "      <td>1</td>\n",
       "      <td>4008</td>\n",
       "      <td>291</td>\n",
       "      <td>1</td>\n",
       "      <td>31</td>\n",
       "    </tr>\n",
       "    <tr>\n",
       "      <th>first</th>\n",
       "      <td>NaN</td>\n",
       "      <td>NaN</td>\n",
       "      <td>NaN</td>\n",
       "      <td>NaN</td>\n",
       "      <td>NaN</td>\n",
       "      <td>NaN</td>\n",
       "      <td>1910-01-01 00:00:00</td>\n",
       "      <td>NaN</td>\n",
       "      <td>NaN</td>\n",
       "    </tr>\n",
       "    <tr>\n",
       "      <th>last</th>\n",
       "      <td>NaN</td>\n",
       "      <td>NaN</td>\n",
       "      <td>NaN</td>\n",
       "      <td>NaN</td>\n",
       "      <td>NaN</td>\n",
       "      <td>NaN</td>\n",
       "      <td>2018-07-28 00:00:00</td>\n",
       "      <td>NaN</td>\n",
       "      <td>NaN</td>\n",
       "    </tr>\n",
       "  </tbody>\n",
       "</table>\n",
       "</div>"
      ],
      "text/plain": [
       "          Issue                    Journal      Pages     Volume  \\\n",
       "count     27412                      27412      27412      27412   \n",
       "unique       32                          1      18241        127   \n",
       "top     Issue 1  Journal of Animal Science  Pages 1–8  Volume 94   \n",
       "freq       4709                      27412         23       1194   \n",
       "first       NaN                        NaN        NaN        NaN   \n",
       "last        NaN                        NaN        NaN        NaN   \n",
       "\n",
       "                                                 abstract            category  \\\n",
       "count                                               27412               27412   \n",
       "unique                                              27412                 702   \n",
       "top     The time course for changes in plasma free fat...  Ruminant Nutrition   \n",
       "freq                                                    1                4008   \n",
       "first                                                 NaN                 NaN   \n",
       "last                                                  NaN                 NaN   \n",
       "\n",
       "                       date                                    doi       title  \n",
       "count                 27412                                  27412       27412  \n",
       "unique                  734                                  27412       27233  \n",
       "top     2016-09-01 00:00:00  https://doi.org/10.2527/2003.8181911x  Discussion  \n",
       "freq                    291                                      1          31  \n",
       "first   1910-01-01 00:00:00                                    NaN         NaN  \n",
       "last    2018-07-28 00:00:00                                    NaN         NaN  "
      ]
     },
     "execution_count": 144,
     "metadata": {},
     "output_type": "execute_result"
    }
   ],
   "source": [
    "abstracts_df = pd.read_pickle('abstracts1.pkl')\n",
    "abstracts_df.describe()"
   ]
  },
  {
   "cell_type": "code",
   "execution_count": 145,
   "metadata": {},
   "outputs": [],
   "source": [
    "abstracts_df.index = range(len(abstracts_df.index))"
   ]
  },
  {
   "cell_type": "code",
   "execution_count": 146,
   "metadata": {},
   "outputs": [
    {
     "data": {
      "text/html": [
       "<div>\n",
       "<style scoped>\n",
       "    .dataframe tbody tr th:only-of-type {\n",
       "        vertical-align: middle;\n",
       "    }\n",
       "\n",
       "    .dataframe tbody tr th {\n",
       "        vertical-align: top;\n",
       "    }\n",
       "\n",
       "    .dataframe thead th {\n",
       "        text-align: right;\n",
       "    }\n",
       "</style>\n",
       "<table border=\"1\" class=\"dataframe\">\n",
       "  <thead>\n",
       "    <tr style=\"text-align: right;\">\n",
       "      <th></th>\n",
       "      <th>Issue</th>\n",
       "      <th>Journal</th>\n",
       "      <th>Pages</th>\n",
       "      <th>Volume</th>\n",
       "      <th>abstract</th>\n",
       "      <th>category</th>\n",
       "      <th>date</th>\n",
       "      <th>doi</th>\n",
       "      <th>title</th>\n",
       "    </tr>\n",
       "  </thead>\n",
       "  <tbody>\n",
       "    <tr>\n",
       "      <th>0</th>\n",
       "      <td>Issue 1</td>\n",
       "      <td>Journal of Animal Science</td>\n",
       "      <td>Pages 391</td>\n",
       "      <td>Volume 1940</td>\n",
       "      <td>Edward Browning Meigs died November 5, 1940. B...</td>\n",
       "      <td>Business Meeting</td>\n",
       "      <td>1940-12-01</td>\n",
       "      <td>https://doi.org/10.2527/jas1940.19401391x</td>\n",
       "      <td>Edward Browning Meigs</td>\n",
       "    </tr>\n",
       "    <tr>\n",
       "      <th>1</th>\n",
       "      <td>Issue 1</td>\n",
       "      <td>Journal of Animal Science</td>\n",
       "      <td>Pages 175–180</td>\n",
       "      <td>Volume 1939</td>\n",
       "      <td>Approximately 38 percent of the total land are...</td>\n",
       "      <td>Sheep and Wool</td>\n",
       "      <td>1939-12-01</td>\n",
       "      <td>https://doi.org/10.2527/jas1939.19391175x</td>\n",
       "      <td>The Production and Marketing of Feeder Lambs i...</td>\n",
       "    </tr>\n",
       "    <tr>\n",
       "      <th>2</th>\n",
       "      <td>Issue 1</td>\n",
       "      <td>Journal of Animal Science</td>\n",
       "      <td>Pages 412</td>\n",
       "      <td>Volume 1933</td>\n",
       "      <td>Harry Hayward, N. W. Ayer &amp;amp; Son, 308 Chest...</td>\n",
       "      <td>Article</td>\n",
       "      <td>1933-01-01</td>\n",
       "      <td>https://doi.org/10.2527/jas1933.19331412x</td>\n",
       "      <td>In Memoriam</td>\n",
       "    </tr>\n",
       "    <tr>\n",
       "      <th>3</th>\n",
       "      <td>Issue 8</td>\n",
       "      <td>Journal of Animal Science</td>\n",
       "      <td>Pages 3503–3512</td>\n",
       "      <td>Volume 96</td>\n",
       "      <td>Data from a recent survey suggest that the maj...</td>\n",
       "      <td>Symposia</td>\n",
       "      <td>2018-07-28</td>\n",
       "      <td>https://doi.org/10.1093/jas/sky026</td>\n",
       "      <td>Forages and pastures symposium: cover crops in...</td>\n",
       "    </tr>\n",
       "    <tr>\n",
       "      <th>4</th>\n",
       "      <td>Issue 1</td>\n",
       "      <td>Journal of Animal Science</td>\n",
       "      <td>Pages 231–232</td>\n",
       "      <td>Volume 1928</td>\n",
       "      <td>Saturday Afternoon, November 26, 1927The twent...</td>\n",
       "      <td>Committee and Business Reports</td>\n",
       "      <td>1928-01-01</td>\n",
       "      <td>https://doi.org/10.2527/jas1928.19281231x</td>\n",
       "      <td>Minutes of the Twentieth Annual Business Meeting</td>\n",
       "    </tr>\n",
       "  </tbody>\n",
       "</table>\n",
       "</div>"
      ],
      "text/plain": [
       "     Issue                    Journal            Pages       Volume  \\\n",
       "0  Issue 1  Journal of Animal Science        Pages 391  Volume 1940   \n",
       "1  Issue 1  Journal of Animal Science    Pages 175–180  Volume 1939   \n",
       "2  Issue 1  Journal of Animal Science        Pages 412  Volume 1933   \n",
       "3  Issue 8  Journal of Animal Science  Pages 3503–3512    Volume 96   \n",
       "4  Issue 1  Journal of Animal Science    Pages 231–232  Volume 1928   \n",
       "\n",
       "                                            abstract  \\\n",
       "0  Edward Browning Meigs died November 5, 1940. B...   \n",
       "1  Approximately 38 percent of the total land are...   \n",
       "2  Harry Hayward, N. W. Ayer &amp; Son, 308 Chest...   \n",
       "3  Data from a recent survey suggest that the maj...   \n",
       "4  Saturday Afternoon, November 26, 1927The twent...   \n",
       "\n",
       "                         category       date  \\\n",
       "0                Business Meeting 1940-12-01   \n",
       "1                  Sheep and Wool 1939-12-01   \n",
       "2                         Article 1933-01-01   \n",
       "3                        Symposia 2018-07-28   \n",
       "4  Committee and Business Reports 1928-01-01   \n",
       "\n",
       "                                         doi  \\\n",
       "0  https://doi.org/10.2527/jas1940.19401391x   \n",
       "1  https://doi.org/10.2527/jas1939.19391175x   \n",
       "2  https://doi.org/10.2527/jas1933.19331412x   \n",
       "3         https://doi.org/10.1093/jas/sky026   \n",
       "4  https://doi.org/10.2527/jas1928.19281231x   \n",
       "\n",
       "                                               title  \n",
       "0                              Edward Browning Meigs  \n",
       "1  The Production and Marketing of Feeder Lambs i...  \n",
       "2                                        In Memoriam  \n",
       "3  Forages and pastures symposium: cover crops in...  \n",
       "4   Minutes of the Twentieth Annual Business Meeting  "
      ]
     },
     "execution_count": 146,
     "metadata": {},
     "output_type": "execute_result"
    }
   ],
   "source": [
    "abstracts_df.head()"
   ]
  },
  {
   "cell_type": "code",
   "execution_count": 147,
   "metadata": {},
   "outputs": [],
   "source": [
    "# Save just the abstract text for app\n",
    "abstracts = abstracts_df['abstract']\n",
    "# abstracts.index = range(len(abstracts.index)) - shouldn't need since already reindexed "
   ]
  },
  {
   "cell_type": "code",
   "execution_count": 148,
   "metadata": {},
   "outputs": [],
   "source": [
    "abstracts_df.to_pickle('jas_df.pkl')\n",
    "abstracts.to_pickle('jas_abstracts.pkl')"
   ]
  },
  {
   "cell_type": "markdown",
   "metadata": {},
   "source": [
    "# KEY FUNCTIONS"
   ]
  },
  {
   "cell_type": "code",
   "execution_count": 149,
   "metadata": {},
   "outputs": [],
   "source": [
    "#  more stop words\n",
    "from nltk.tokenize import word_tokenize\n",
    "from nltk.corpus import stopwords\n",
    "from nltk.stem import SnowballStemmer\n",
    "import string\n",
    "from nltk.tag import pos_tag\n",
    "\n",
    "def noun_tokenizer(text):\n",
    "\n",
    "    # remove punctuation\n",
    "    punct = string.punctuation + '±−≤°≥“”'\n",
    "    remove_punct = str.maketrans('', '', punct)\n",
    "    text = text.translate(remove_punct)\n",
    "\n",
    "    # remove digits and convert to lower case\n",
    "    remove_digits = str.maketrans('', '', string.digits)\n",
    "    text = text.lower().translate(remove_digits)\n",
    "\n",
    "    # tokenize\n",
    "    tokens = word_tokenize(text)\n",
    "\n",
    "    is_noun = lambda pos: (pos == 'NN') | (pos == 'NNS') #only nouns - no proper nouns\n",
    "    nouns = [word for (word, pos) in pos_tag(tokens) if is_noun(pos)]\n",
    "    # remove stop words\n",
    "    stop_words = stopwords.words('english')\n",
    "    JAS_words = ['use', 'model', 'anim', 'method', 'result', 'kg', 'vs', 'treatment', 'mgkg', 'per', 'h', 'x']\n",
    "    more_words = ['et', 'al', 'mg', 'cm', 'animals', 'animal', 'mm', 'experiment','treatments','containing', 'studies', 'added', 'sources', 'total', 'science', 'research', 'field', 'degree','report', 'greater', 'increased', 'decreased', 'less', 'use', 'production', 'agriculture']\n",
    "    stop_words = stop_words + JAS_words + more_words\n",
    "    tokens_stop = [y for y in nouns if y not in stop_words]\n",
    "\n",
    "    return tokens_stop"
   ]
  },
  {
   "cell_type": "code",
   "execution_count": 150,
   "metadata": {},
   "outputs": [],
   "source": [
    "from sklearn.feature_extraction.text import CountVectorizer, TfidfVectorizer\n",
    "from sklearn.decomposition import NMF\n",
    "\n",
    "def tfidf_and_nmf(corpus, tokenizer, components=40, max_df=0.8, min_df=2):\n",
    "    '''*Input*\n",
    "    corpus: List of documents,\n",
    "    tokenizer: tokenize function,\n",
    "    components: int, number of components to use, 40 looked pretty good\n",
    "    max_df: float, threshold to ignore terms,\n",
    "    min_df: int, a token must appear in at least this many documents\n",
    "    \n",
    "    *Output*\n",
    "    tuple(vocab, nmf model, Nxk matrix)\n",
    "    '''\n",
    "    # countvectorizing and training\n",
    "    tfidf = TfidfVectorizer(tokenizer=noun_tokenizer, max_df=max_df, min_df=min_df)\n",
    "    X_train_tfidf = tfidf.fit_transform(corpus)\n",
    "    \n",
    "    # flip key:index to allow for lookup using index\n",
    "    vocab = dict((v, k) for k, v in tfidf.vocabulary_.items())\n",
    "    nmf = NMF(n_components=components)\n",
    "    nmf_vecs = nmf.fit_transform(X_train_tfidf)\n",
    "    return vocab, nmf, nmf_vecs, tfidf"
   ]
  },
  {
   "cell_type": "code",
   "execution_count": 151,
   "metadata": {},
   "outputs": [
    {
     "name": "stdout",
     "output_type": "stream",
     "text": [
      "CPU times: user 19min 22s, sys: 6.86 s, total: 19min 28s\n",
      "Wall time: 19min 45s\n"
     ]
    }
   ],
   "source": [
    "#fit data and find topics\n",
    "%time abstracts_vocab, abstracts_nmf, abstracts_vecs, jas_tfidf = tfidf_and_nmf(abstracts, noun_tokenizer)"
   ]
  },
  {
   "cell_type": "code",
   "execution_count": 152,
   "metadata": {},
   "outputs": [],
   "source": [
    "with open('JAS_vocab.pkl', 'wb') as picklefile:\n",
    "    pickle.dump(abstracts_vocab, picklefile)"
   ]
  },
  {
   "cell_type": "code",
   "execution_count": 153,
   "metadata": {},
   "outputs": [],
   "source": [
    "with open('JAS_nmf.pkl', 'wb') as picklefile:\n",
    "    pickle.dump(abstracts_nmf, picklefile)\n",
    "with open('JAS_vecs.pkl', 'wb') as picklefile:\n",
    "    pickle.dump(abstracts_vecs, picklefile)\n",
    "with open('JAS_tfidf.pkl', 'wb') as picklefile:\n",
    "    pickle.dump(jas_tfidf, picklefile)"
   ]
  },
  {
   "cell_type": "code",
   "execution_count": 154,
   "metadata": {},
   "outputs": [
    {
     "data": {
      "text/plain": [
       "27412"
      ]
     },
     "execution_count": 154,
     "metadata": {},
     "output_type": "execute_result"
    }
   ],
   "source": [
    "# confirm size of data is the same\n",
    "len(abstracts_vecs)"
   ]
  },
  {
   "cell_type": "code",
   "execution_count": 155,
   "metadata": {},
   "outputs": [],
   "source": [
    "# argsort gives you the indices of the sorted order in ascending order, taking negative  makes it desc\n",
    "nmf_topic_words = [topic[:15] for topic in np.argsort(-abstracts_nmf.components_)]"
   ]
  },
  {
   "cell_type": "code",
   "execution_count": 156,
   "metadata": {},
   "outputs": [],
   "source": [
    "# np.argsort(-abstracts_nmf.components_)"
   ]
  },
  {
   "cell_type": "code",
   "execution_count": 157,
   "metadata": {},
   "outputs": [
    {
     "name": "stdout",
     "output_type": "stream",
     "text": [
      "0 ['p', 'lt', 'bw', 'gt', 'n', 'adg', 'supplementation', 'con', 'effects', 'dmi', 'dm', 'g', 'phytase', 'gf', 'control']\n",
      "1 ['weight', 'birth', 'breed', 'breeds', 'heterosis', 'weights', 'dams', 'hereford', 'sire', 'effects', 'crosses', 'dam', 'gain', 'calf', 'angus']\n",
      "2 ['pigs', 'pig', 'performance', 'growth', 'feed', 'barrows', 'adg', 'adfi', 'diet', 'pens', 'period', 'gain', 'gf', 'wk', 'exp']\n",
      "3 ['protein', 'nitrogen', 'crude', 'level', 'meal', 'levels', 'supplement', 'supplements', 'synthesis', 'source', 'soybean', 'lysine', 'proteins', 'degradation', 'casein']\n",
      "4 ['estrus', 'ovulation', 'progesterone', 'follicles', 'cycle', 'rate', 'pgfα', 'injection', 'lh', 'gnrh', 'pregnancy', 'follicle', 'cl', 'interval', 'rates']\n",
      "5 ['cows', 'cow', 'postpartum', 'bcs', 'calf', 'beef', 'pregnancy', 'condition', 'dairy', 'hereford', 'calving', 'parturition', 'herd', 'conception', 'breeding']\n",
      "6 ['sows', 'lactation', 'gestation', 'litter', 'sow', 'parity', 'litters', 'size', 'number', 'parturition', 'farrowing', 'piglet', 'parities', 'performance', 'interval']\n",
      "7 ['steers', 'cattle', 'feedlot', 'steer', 'dmi', 'trial', 'gain', 'adg', 'performance', 'feed', 'beef', 'phase', 'period', 'hereford', 'grade']\n",
      "8 ['carcass', 'fat', 'carcasses', 'thickness', 'cuts', 'percentage', 'area', 'measurements', 'weight', 'yield', 'rib', 'composition', 'backfat', 'muscle', 'percent']\n",
      "9 ['traits', 'estimates', 'correlations', 'heritability', 'variance', 'data', 'models', 'effects', 'selection', 'records', 'correlation', 'trait', 'parameters', 'sire', 'phenotypic']\n",
      "10 ['heifers', 'puberty', 'heifer', 'pregnancy', 'beef', 'mga', 'period', 'bw', 'rates', 'breeding', 'cattle', 'control', 'season', 'adg', 'mo']\n",
      "11 ['calves', 'calf', 'dams', 'hereford', 'bull', 'feedlot', 'castration', 'gains', 'steer', 'performance', 'period', 'weaning', 'heifer', 'angus', 'birth']\n",
      "12 ['gilts', 'gestation', 'barrows', 'boars', 'puberty', 'embryos', 'gilt', 'number', 'fetuses', 'development', 'boar', 'litter', 'survival', 'yorkshire', 'backfat']\n",
      "13 ['corn', 'silage', 'grain', 'starch', 'ground', 'oil', 'moisture', 'value', 'sorghum', 'wheat', 'grains', 'supplement', 'barley', 'silages', 'highmoisture']\n",
      "14 ['ration', 'rations', 'feed', 'gain', 'meal', 'percent', 'gains', 'efficiency', 'rate', 'trials', 'oil', 'alfalfa', 'basal', 'lb', 'hay']\n",
      "15 ['digestibility', 'digestion', 'matter', 'fiber', 'crude', 'dm', 'starch', 'digestibilities', 'nitrogen', 'coefficients', 'trials', 'retention', 'extract', 'detergent', 'tract']\n",
      "16 ['ewes', 'ewe', 'rams', 'breeding', 'lambing', 'lamb', 'fertility', 'season', 'number', 'rambouillet', 'gestation', 'wool', 'year', 'suffolk', 'flock']\n",
      "17 ['concentrations', 'plasma', 'blood', 'serum', 'lh', 'insulin', 'hormone', 'concentration', 'gh', 'samples', 'secretion', 'cortisol', 'response', 'infusion', 'min']\n",
      "18 ['muscle', 'expression', 'cells', 'tissue', 'genes', 'gene', 'cell', 'growth', 'activity', 'mrna', 'development', 'fibers', 'muscles', 'tissues', 'differentiation']\n",
      "19 ['milk', 'lactation', 'yield', 'dairy', 'replacer', 'colostrum', 'yields', 'gland', 'composition', 'calf', 'milking', 'cow', 'goats', 'fat', 'solids']\n",
      "20 ['lambs', 'lamb', 'ewe', 'ram', 'rams', 'wethers', 'suffolk', 'wether', 'birth', 'stilbestrol', 'trial', 'rambouillet', 'concentrate', 'growth', 'fed']\n",
      "21 ['bulls', 'semen', 'sperm', 'bull', 'testosterone', 'spermatozoa', 'motility', 'circumference', 'hereford', 'fertility', 'test', 'mo', 'angus', 'sc', 'ejaculates']\n",
      "22 ['energy', 'intake', 'maintenance', 'efficiency', 'requirements', 'feed', 'gain', 'utilization', 'level', 'levels', 'values', 'diet', 'heat', 'requirement', 'balance']\n",
      "23 ['steaks', 'tenderness', 'beef', 'meat', 'force', 'carcasses', 'color', 'postmortem', 'quality', 'values', 'flavor', 'muscle', 'muscles', 'panel', 'juiciness']\n",
      "24 ['acids', 'acid', 'amino', 'lysine', 'oil', 'plasma', 'nitrogen', 'methionine', 'threonine', 'levels', 'tryptophan', 'fat', 'tissue', 'diet', 'valine']\n",
      "25 ['plt', 'monensin', 'trial', 'pgt', 'matter', 'trials', 'levels', 'gain', 'level', 'hr', 'k', 'detergent', 'feed', 'percentage', 'gains']\n",
      "26 ['cu', 'zn', 'liver', 'ppm', 'copper', 'fe', 'mn', 'se', 'cuso', 'concentrations', 'zinc', 'sulfate', 'zno', 'supplementation', 'mo']\n",
      "27 ['days', 'day', 'period', 'progesterone', 'cycle', 'hr', 'levels', 'corpora', 'periods', 'lutea', 'parturition', 'time', 'cl', 'gestation', 'activity']\n",
      "28 ['vitamin', 'e', 'b', 'se', 'supplementation', 'selenium', 'liver', 'carotene', 'αtocopherol', 'iu', 'serum', 'levels', 'deficiency', 'coli', 'concentration']\n",
      "29 ['line', 'selection', 'lines', 'litter', 'size', 'generation', 'generations', 'rate', 'index', 'response', 'number', 'females', 'ovulation', 'boars', 'mice']\n",
      "30 ['cattle', 'university', 'livestock', 'state', 'beef', 'years', 'work', 'students', 'industry', 'management', 'society', 'farm', 'systems', 'committee', 'extension']\n",
      "31 ['temperature', 'c', 'heat', 'stress', 'temperatures', 'rate', 'hs', 'conditions', 'time', 'respiration', 'humidity', 'exposure', 'min', 'environment', 'semen']\n",
      "32 ['diets', 'meal', 'diet', 'cp', 'aa', 'sbm', 'ddgs', 'soybean', 'sid', 'source', 'performance', 'phytase', 'exp', 'trial', 'inclusion']\n",
      "33 ['group', 'groups', 'control', 'differences', 'period', 'horses', 'difference', 'study', 'ii', 'wk', 'slaughter', 'breed', 'controls', 'week', 'end']\n",
      "34 ['piglets', 'piglet', 'birth', 'litters', 'supplementation', 'litter', 'mortality', 'colostrum', 'survival', 'control', 'diarrhea', 'performance', 'growth', 'sow', 'jejunum']\n",
      "35 ['forage', 'hay', 'pasture', 'intake', 'grazing', 'grass', 'fescue', 'alfalfa', 'supplementation', 'forages', 'pastures', 'cp', 'supplement', 'winter', 'season']\n",
      "36 ['phosphorus', 'calcium', 'levels', 'level', 'magnesium', 'bone', 'zinc', 'phosphate', 'potassium', 'iron', 'sodium', 'blood', 'ash', 'copper', 'absorption']\n",
      "37 ['rumen', 'ph', 'digestion', 'fermentation', 'vfa', 'starch', 'concentration', 'ammonia', 'bacteria', 'acid', 'monensin', 'fluid', 'rate', 'vitro', 'degradation']\n",
      "38 ['body', 'water', 'composition', 'weight', 'feed', 'intake', 'growth', 'r', 'ad', 'libitum', 'bw', 'measurements', 'content', 'space', 'equations']\n",
      "39 ['age', 'puberty', 'mo', 'growth', 'weeks', 'boars', 'ages', 'months', 'wk', 'sex', 'years', 'year', 'rate', 'days', 'females']\n"
     ]
    }
   ],
   "source": [
    "#show top 15 words in each topic by looking up index in the vocab dictionary\n",
    "for i, component in enumerate(nmf_topic_words):\n",
    "     print(i, [abstracts_vocab[idx] for idx in component])"
   ]
  },
  {
   "cell_type": "markdown",
   "metadata": {},
   "source": [
    "# Label Components and visualize --in progress--"
   ]
  },
  {
   "cell_type": "code",
   "execution_count": 161,
   "metadata": {},
   "outputs": [
    {
     "data": {
      "text/plain": [
       "(27412, 40)"
      ]
     },
     "execution_count": 161,
     "metadata": {},
     "output_type": "execute_result"
    }
   ],
   "source": [
    "abstracts_vecs.shape"
   ]
  },
  {
   "cell_type": "code",
   "execution_count": 163,
   "metadata": {},
   "outputs": [
    {
     "data": {
      "text/plain": [
       "(27412,)"
      ]
     },
     "execution_count": 163,
     "metadata": {},
     "output_type": "execute_result"
    }
   ],
   "source": [
    "abstracts_vecs.argmax(axis=1)"
   ]
  },
  {
   "cell_type": "code",
   "execution_count": 166,
   "metadata": {},
   "outputs": [],
   "source": [
    "import seaborn as sns\n",
    "sns.set()"
   ]
  },
  {
   "cell_type": "code",
   "execution_count": 167,
   "metadata": {},
   "outputs": [
    {
     "name": "stderr",
     "output_type": "stream",
     "text": [
      "/home/douglas/anaconda3/lib/python3.6/site-packages/scipy/stats/stats.py:1713: FutureWarning: Using a non-tuple sequence for multidimensional indexing is deprecated; use `arr[tuple(seq)]` instead of `arr[seq]`. In the future this will be interpreted as an array index, `arr[np.array(seq)]`, which will result either in an error or a different result.\n",
      "  return np.add.reduce(sorted[indexer] * weights, axis=axis) / sumval\n"
     ]
    },
    {
     "data": {
      "text/plain": [
       "<matplotlib.axes._subplots.AxesSubplot at 0x7fdfa7517390>"
      ]
     },
     "execution_count": 167,
     "metadata": {},
     "output_type": "execute_result"
    },
    {
     "data": {
      "image/png": "[encoded data removed]",
      "text/plain": [
       "<matplotlib.figure.Figure at 0x7fdfa7517400>"
      ]
     },
     "metadata": {},
     "output_type": "display_data"
    }
   ],
   "source": [
    "# How much does biggest component contribute to the text?\n",
    "sns.distplot(abstracts_vecs.max(axis=1))"
   ]
  },
  {
   "cell_type": "code",
   "execution_count": 200,
   "metadata": {},
   "outputs": [],
   "source": [
    "component_labels = {0:'Feeding Trial(Generic)',\n",
    "                      1:'Cattle Offspring',\n",
    "                      2:'Feeding Trial(Pig)',\n",
    "                      3: 'Feed Formulation',\n",
    "                      4:'Estrous Cycle',\n",
    "                     5:'Cattle Offspring',\n",
    "                     6:'Sow Offspring',\n",
    "                     7:'Cattle Feedlot',\n",
    "                     8:'Meat and Carcass',\n",
    "                   9:'Genetics and Selection',\n",
    "                   10:'Cattle Offspring',\n",
    "                   11:'Cattle Offspring',\n",
    "                   12:'Sow Offspring',\n",
    "                   13: 'Grains and Silage',\n",
    "                   14:'Feed Formulation',\n",
    "                   15:'Feed Formulation',\n",
    "                   16:'Sheep',\n",
    "                   17:'Blood Samples',\n",
    "                   18:'Muscle tissues',\n",
    "                   19:'Milk',\n",
    "                   20:'Sheep',\n",
    "                   21:'Bull Semen',\n",
    "                   22:'Feed Formulation',\n",
    "                   23:'Meat and Carcass',\n",
    "                    24:'Feed Formulation',\n",
    "                    25:'Feeding Trial(Generic)',\n",
    "                    26:'Minerals',\n",
    "                    27:'Estrous Cycle',\n",
    "                    28:'Vitamins',\n",
    "                    29:'Genetics and Selection',\n",
    "                    30:'Not Research',\n",
    "                    31:'Heat Stress',\n",
    "                    32:'Feeding Trial(Generic)',\n",
    "                    33:'Feeding Trial(Generic)',\n",
    "                    34:'Sow Offspring',\n",
    "                    35:'Forages and Grazing',\n",
    "                    36:'Minerals',\n",
    "                    37:'Rumen',\n",
    "                    38:'Feeding Trial(Geneic)',\n",
    "                    39:'Feeding Trial(Pig)'\n",
    "                   }"
   ]
  },
  {
   "cell_type": "code",
   "execution_count": 198,
   "metadata": {},
   "outputs": [
    {
     "data": {
      "text/plain": [
       "30    2568\n",
       "18    1574\n",
       "2     1546\n",
       "5     1111\n",
       "32    1104\n",
       "37    1002\n",
       "9      949\n",
       "35     937\n",
       "7      835\n",
       "39     811\n",
       "23     752\n",
       "38     671\n",
       "10     663\n",
       "29     660\n",
       "17     649\n",
       "15     640\n",
       "6      618\n",
       "33     589\n",
       "16     585\n",
       "31     581\n",
       "36     573\n",
       "20     572\n",
       "21     561\n",
       "19     546\n",
       "28     540\n",
       "14     527\n",
       "24     526\n",
       "8      521\n",
       "27     519\n",
       "12     494\n",
       "25     448\n",
       "34     413\n",
       "13     401\n",
       "22     380\n",
       "26     361\n",
       "11     352\n",
       "3      337\n",
       "1      223\n",
       "4      197\n",
       "0       76\n",
       "dtype: int64"
      ]
     },
     "execution_count": 198,
     "metadata": {},
     "output_type": "execute_result"
    }
   ],
   "source": [
    "# np.unique(abstracts_vecs.argmax(axis=1), return_counts=True)\n",
    "pd.Series(abstracts_vecs.argmax(axis=1)).value_counts()"
   ]
  },
  {
   "cell_type": "markdown",
   "metadata": {},
   "source": [
    "To do:\n",
    "    1) Attach vectors to dataframe.\n",
    "    2) Assign topic (simple max?) \n",
    "    3) Plot by date to get topic evolution."
   ]
  },
  {
   "cell_type": "code",
   "execution_count": null,
   "metadata": {},
   "outputs": [],
   "source": [
    "# How important are the secondary components?"
   ]
  },
  {
   "cell_type": "code",
   "execution_count": 182,
   "metadata": {},
   "outputs": [],
   "source": [
    "sorted_vecs = np.sort(abstracts_vecs)"
   ]
  },
  {
   "cell_type": "code",
   "execution_count": 183,
   "metadata": {},
   "outputs": [
    {
     "data": {
      "text/plain": [
       "(27412, 40)"
      ]
     },
     "execution_count": 183,
     "metadata": {},
     "output_type": "execute_result"
    }
   ],
   "source": [
    "sorted_vecs.shape"
   ]
  },
  {
   "cell_type": "code",
   "execution_count": 201,
   "metadata": {},
   "outputs": [
    {
     "data": {
      "text/plain": [
       "0.4337844996089213"
      ]
     },
     "execution_count": 201,
     "metadata": {},
     "output_type": "execute_result"
    }
   ],
   "source": [
    "((sorted_vecs[:,-1] - sorted_vecs[:,-2])/sorted_vecs[:,-1]).mean()"
   ]
  },
  {
   "cell_type": "code",
   "execution_count": null,
   "metadata": {},
   "outputs": [],
   "source": []
  }
 ],
 "metadata": {
  "kernelspec": {
   "display_name": "Python 3",
   "language": "python",
   "name": "python3"
  },
  "language_info": {
   "codemirror_mode": {
    "name": "ipython",
    "version": 3
   },
   "file_extension": ".py",
   "mimetype": "text/x-python",
   "name": "python",
   "nbconvert_exporter": "python",
   "pygments_lexer": "ipython3",
   "version": "3.6.8"
  }
 },
 "nbformat": 4,
 "nbformat_minor": 2
}

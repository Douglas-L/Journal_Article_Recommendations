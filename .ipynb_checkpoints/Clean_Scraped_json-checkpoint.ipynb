{
 "cells": [
  {
   "cell_type": "code",
   "execution_count": 2,
   "metadata": {},
   "outputs": [
    {
     "name": "stdout",
     "output_type": "stream",
     "text": [
      "Populating the interactive namespace from numpy and matplotlib\n"
     ]
    }
   ],
   "source": [
    "import pandas as pd\n",
    "%pylab inline"
   ]
  },
  {
   "cell_type": "markdown",
   "metadata": {},
   "source": [
    "Dataframe variables\n",
    "Step 1:\n",
    "raw = loaded from jl\n",
    "raw2 = removed most announcements, duplicates\n",
    "Step 2:\n"
   ]
  },
  {
   "cell_type": "markdown",
   "metadata": {},
   "source": [
    "# Step 1: Read in and check out raw scraped data"
   ]
  },
  {
   "cell_type": "code",
   "execution_count": 3,
   "metadata": {},
   "outputs": [],
   "source": [
    "raw = pd.read_json('JAS/jas_abstracts2.jl', lines=True, orient='records')"
   ]
  },
  {
   "cell_type": "code",
   "execution_count": 4,
   "metadata": {},
   "outputs": [
    {
     "data": {
      "text/html": [
       "<div>\n",
       "<style scoped>\n",
       "    .dataframe tbody tr th:only-of-type {\n",
       "        vertical-align: middle;\n",
       "    }\n",
       "\n",
       "    .dataframe tbody tr th {\n",
       "        vertical-align: top;\n",
       "    }\n",
       "\n",
       "    .dataframe thead th {\n",
       "        text-align: right;\n",
       "    }\n",
       "</style>\n",
       "<table border=\"1\" class=\"dataframe\">\n",
       "  <thead>\n",
       "    <tr style=\"text-align: right;\">\n",
       "      <th></th>\n",
       "      <th>Issue</th>\n",
       "      <th>Journal</th>\n",
       "      <th>Pages</th>\n",
       "      <th>Volume</th>\n",
       "      <th>abstract</th>\n",
       "      <th>category</th>\n",
       "      <th>date</th>\n",
       "      <th>doi</th>\n",
       "      <th>title</th>\n",
       "    </tr>\n",
       "  </thead>\n",
       "  <tbody>\n",
       "    <tr>\n",
       "      <th>count</th>\n",
       "      <td>28300</td>\n",
       "      <td>28300</td>\n",
       "      <td>28300</td>\n",
       "      <td>28300</td>\n",
       "      <td>28300</td>\n",
       "      <td>28300</td>\n",
       "      <td>28300</td>\n",
       "      <td>28300</td>\n",
       "      <td>28300</td>\n",
       "    </tr>\n",
       "    <tr>\n",
       "      <th>unique</th>\n",
       "      <td>32</td>\n",
       "      <td>1</td>\n",
       "      <td>18660</td>\n",
       "      <td>127</td>\n",
       "      <td>27936</td>\n",
       "      <td>705</td>\n",
       "      <td>734</td>\n",
       "      <td>28300</td>\n",
       "      <td>27255</td>\n",
       "    </tr>\n",
       "    <tr>\n",
       "      <th>top</th>\n",
       "      <td>Issue 1</td>\n",
       "      <td>Journal of Animal Science</td>\n",
       "      <td>Pages 1–8</td>\n",
       "      <td>Volume 94</td>\n",
       "      <td>Announcements of available positions and prosp...</td>\n",
       "      <td>Ruminant Nutrition</td>\n",
       "      <td>2016-09-01 00:00:00</td>\n",
       "      <td>https://doi.org/10.2527/jas.2010-3388</td>\n",
       "      <td>News and Notes</td>\n",
       "    </tr>\n",
       "    <tr>\n",
       "      <th>freq</th>\n",
       "      <td>4932</td>\n",
       "      <td>28300</td>\n",
       "      <td>23</td>\n",
       "      <td>1195</td>\n",
       "      <td>22</td>\n",
       "      <td>4023</td>\n",
       "      <td>291</td>\n",
       "      <td>1</td>\n",
       "      <td>349</td>\n",
       "    </tr>\n",
       "    <tr>\n",
       "      <th>first</th>\n",
       "      <td>NaN</td>\n",
       "      <td>NaN</td>\n",
       "      <td>NaN</td>\n",
       "      <td>NaN</td>\n",
       "      <td>NaN</td>\n",
       "      <td>NaN</td>\n",
       "      <td>1910-01-01 00:00:00</td>\n",
       "      <td>NaN</td>\n",
       "      <td>NaN</td>\n",
       "    </tr>\n",
       "    <tr>\n",
       "      <th>last</th>\n",
       "      <td>NaN</td>\n",
       "      <td>NaN</td>\n",
       "      <td>NaN</td>\n",
       "      <td>NaN</td>\n",
       "      <td>NaN</td>\n",
       "      <td>NaN</td>\n",
       "      <td>2018-07-28 00:00:00</td>\n",
       "      <td>NaN</td>\n",
       "      <td>NaN</td>\n",
       "    </tr>\n",
       "  </tbody>\n",
       "</table>\n",
       "</div>"
      ],
      "text/plain": [
       "          Issue                    Journal      Pages     Volume  \\\n",
       "count     28300                      28300      28300      28300   \n",
       "unique       32                          1      18660        127   \n",
       "top     Issue 1  Journal of Animal Science  Pages 1–8  Volume 94   \n",
       "freq       4932                      28300         23       1195   \n",
       "first       NaN                        NaN        NaN        NaN   \n",
       "last        NaN                        NaN        NaN        NaN   \n",
       "\n",
       "                                                 abstract            category  \\\n",
       "count                                               28300               28300   \n",
       "unique                                              27936                 705   \n",
       "top     Announcements of available positions and prosp...  Ruminant Nutrition   \n",
       "freq                                                   22                4023   \n",
       "first                                                 NaN                 NaN   \n",
       "last                                                  NaN                 NaN   \n",
       "\n",
       "                       date                                    doi  \\\n",
       "count                 28300                                  28300   \n",
       "unique                  734                                  28300   \n",
       "top     2016-09-01 00:00:00  https://doi.org/10.2527/jas.2010-3388   \n",
       "freq                    291                                      1   \n",
       "first   1910-01-01 00:00:00                                    NaN   \n",
       "last    2018-07-28 00:00:00                                    NaN   \n",
       "\n",
       "                 title  \n",
       "count            28300  \n",
       "unique           27255  \n",
       "top     News and Notes  \n",
       "freq               349  \n",
       "first              NaN  \n",
       "last               NaN  "
      ]
     },
     "execution_count": 4,
     "metadata": {},
     "output_type": "execute_result"
    }
   ],
   "source": [
    "raw.describe()"
   ]
  },
  {
   "cell_type": "code",
   "execution_count": 5,
   "metadata": {},
   "outputs": [],
   "source": [
    "#raw['abstract'].value_counts()[:5] # most common abstracts are not real abstracts"
   ]
  },
  {
   "cell_type": "code",
   "execution_count": 6,
   "metadata": {},
   "outputs": [
    {
     "data": {
      "text/plain": [
       "<matplotlib.axes._subplots.AxesSubplot at 0x7faef833d5f8>"
      ]
     },
     "execution_count": 6,
     "metadata": {},
     "output_type": "execute_result"
    },
    {
     "data": {
      "image/png": "[encoded data removed]",
      "text/plain": [
       "<matplotlib.figure.Figure at 0x7faef83377f0>"
      ]
     },
     "metadata": {},
     "output_type": "display_data"
    }
   ],
   "source": [
    "raw['date'].hist() # more recent, more articles - journal got bigger\n",
    "# also noticed a bunch of old articles were in pdf form and not scraped"
   ]
  },
  {
   "cell_type": "code",
   "execution_count": 11,
   "metadata": {},
   "outputs": [
    {
     "data": {
      "text/plain": [
       "Ruminant Nutrition                                                                                            4023\n",
       "Article                                                                                                       3544\n",
       "Nonruminant Nutrition                                                                                         3051\n",
       "Physiology and Endocrinology                                                                                  2285\n",
       "Breeding and Genetics                                                                                         1716\n",
       "Applied Animal Science                                                                                        1627\n",
       "Meat Science                                                                                                   917\n",
       "Growth and Developmental Biology                                                                               884\n",
       "Meat Science and Muscle Biology                                                                                750\n",
       "Quantitative Genetics                                                                                          643\n",
       "Management                                                                                                     576\n",
       "Physiology, Endocrinology, and Reproduction                                                                    558\n",
       "OTHER                                                                                                          356\n",
       "Environment and Behavior                                                                                       278\n",
       "Health and Well-Being                                                                                          275\n",
       "Pharmacology and Toxicology                                                                                    259\n",
       "Molecular Genetics                                                                                             232\n",
       "Rangeland, Pasture, and Forage Utilization                                                                     223\n",
       "Animal Genetics                                                                                                186\n",
       "Swine                                                                                                          167\n",
       "Behavior                                                                                                       161\n",
       "News and Notes                                                                                                 130\n",
       "Animal Genetics and Genomics                                                                                   129\n",
       "Placement                                                                                                      124\n",
       "JOURNAL ARTICLE                                                                                                119\n",
       "Extension                                                                                                      105\n",
       "Articles                                                                                                       101\n",
       "Feedstuff Evaluation                                                                                            95\n",
       "Special Topics                                                                                                  95\n",
       "Meats                                                                                                           93\n",
       "                                                                                                              ... \n",
       "Northeastern Section ADSA-ASAS Young Scientist Award, 1982                                                       1\n",
       "Southern Section ASAS 1985 Extension Award                                                                       1\n",
       "Nonruminant Nutrition Symposium - Energy Density of Pig Diets                                                    1\n",
       "David Schingoethe Symposium: Equine Science                                                                      1\n",
       "A Scientist's Guide to Approaching Bioethics                                                                     1\n",
       "Midwestern Section ASAS 1984 Younger Animal Scientist Research Award                                             1\n",
       "Southern Section ASAS 1983 Distinguished Service Award                                                           1\n",
       "Memorial Elmer Roberts                                                                                           1\n",
       "Invited Speakers: Cattle Molecular Markers and Parentage Testing                                                 1\n",
       "Session 1: Role of Hypothalamic : Hypohyseal Axis                                                                1\n",
       "Animal Health Symposium: Integrative Aspects of Immunity, Nutrient Metabolism, and Production in Livestock       1\n",
       "Outstanding Senior Awards 1982                                                                                   1\n",
       "Midwest Section ASAS Younger Animal Scientist Extension Award                                                    1\n",
       "Northeast Section ASAS-ADSA 1987 Young Scientist Award                                                           1\n",
       "Southern Section ASAS 1981 Distinguished Service Award                                                           1\n",
       "Western Section Asas 1987 Young Scientist Award                                                                  1\n",
       "Physiology and Milk Synthesis 12: Male Reproduction                                                              1\n",
       "Western Section ASAS Distinguished Service Award, 1980                                                           1\n",
       "Planning Committee Members for the Diamond Jubilee                                                               1\n",
       "ANIMAL NUTRITION                                                                                                 1\n",
       "Symposium on Research Priorities for Developing Animal Agriculture in the Lesser Developed Nations               1\n",
       "Invited paper from the 1995 Midwest ASAS Meeting                                                                 1\n",
       "Invited Speakers: Comparative MHC                                                                                1\n",
       "Western Section ASAS 1986 Young Scientist Award                                                                  1\n",
       "Nonruminant Nutrition 6: Nutrient Management and Odor                                                            1\n",
       "Western Section ASAS Young Scientist Award, 1983                                                                 1\n",
       "Symposium on “Appraising Growth and Development of Feedlot Cattle”                                               1\n",
       "Outstanding Senior Awards 1983                                                                                   1\n",
       "Midwestern Section ASAS 1984 Younger Animal Scientist Extension Award                                            1\n",
       "Alternatives to Antibiotic Use Symposium                                                                         1\n",
       "Name: category, Length: 705, dtype: int64"
      ]
     },
     "execution_count": 11,
     "metadata": {},
     "output_type": "execute_result"
    }
   ],
   "source": [
    "raw['category'].value_counts()"
   ]
  },
  {
   "cell_type": "code",
   "execution_count": 14,
   "metadata": {},
   "outputs": [
    {
     "data": {
      "text/plain": [
       "Issue                                          Issue suppl_13\n",
       "Journal                             Journal of Animal Science\n",
       "Pages                                            Pages E7–E10\n",
       "Volume                                              Volume 85\n",
       "abstract    A major component of a successful graduate edu...\n",
       "category                  Casida Award for Graduate Education\n",
       "date                                      2007-03-01 00:00:00\n",
       "doi                      https://doi.org/10.2527/jas.2006-602\n",
       "title       CASIDA AWARD: Thoughts on the components of a ...\n",
       "Name: 3802, dtype: object"
      ]
     },
     "execution_count": 14,
     "metadata": {},
     "output_type": "execute_result"
    }
   ],
   "source": [
    "raw[raw['category'].str.contains('Award')].iloc[0,:] # might want to remove award articles"
   ]
  },
  {
   "cell_type": "code",
   "execution_count": 17,
   "metadata": {},
   "outputs": [
    {
     "data": {
      "text/plain": [
       "130"
      ]
     },
     "execution_count": 17,
     "metadata": {},
     "output_type": "execute_result"
    }
   ],
   "source": [
    "raw[raw['category'].str.contains('News and Notes')] #also Placement, \n",
    "# raw2[raw2['abstract'].str.contains('Announcements')] - need to get rid of new books"
   ]
  },
  {
   "cell_type": "code",
   "execution_count": 21,
   "metadata": {},
   "outputs": [],
   "source": [
    "#raw[raw['category'].str.contains('OTHER')] # has some real articles but mostly announcements\n",
    "#keep for now and see if it gets naturally filtered"
   ]
  },
  {
   "cell_type": "code",
   "execution_count": 7,
   "metadata": {},
   "outputs": [],
   "source": [
    "mask1 = (raw['category'].str.contains('News and Notes')) | (raw['category'].str.contains('Placement')) | (raw['category'].str.contains('New Books'))\n",
    "raw2 = raw[~mask1]"
   ]
  },
  {
   "cell_type": "code",
   "execution_count": 8,
   "metadata": {},
   "outputs": [
    {
     "data": {
      "text/html": [
       "<div>\n",
       "<style scoped>\n",
       "    .dataframe tbody tr th:only-of-type {\n",
       "        vertical-align: middle;\n",
       "    }\n",
       "\n",
       "    .dataframe tbody tr th {\n",
       "        vertical-align: top;\n",
       "    }\n",
       "\n",
       "    .dataframe thead th {\n",
       "        text-align: right;\n",
       "    }\n",
       "</style>\n",
       "<table border=\"1\" class=\"dataframe\">\n",
       "  <thead>\n",
       "    <tr style=\"text-align: right;\">\n",
       "      <th></th>\n",
       "      <th>Issue</th>\n",
       "      <th>Journal</th>\n",
       "      <th>Pages</th>\n",
       "      <th>Volume</th>\n",
       "      <th>abstract</th>\n",
       "      <th>category</th>\n",
       "      <th>date</th>\n",
       "      <th>doi</th>\n",
       "      <th>title</th>\n",
       "    </tr>\n",
       "  </thead>\n",
       "  <tbody>\n",
       "    <tr>\n",
       "      <th>count</th>\n",
       "      <td>28020</td>\n",
       "      <td>28020</td>\n",
       "      <td>28020</td>\n",
       "      <td>28020</td>\n",
       "      <td>28020</td>\n",
       "      <td>28020</td>\n",
       "      <td>28020</td>\n",
       "      <td>28020</td>\n",
       "      <td>28020</td>\n",
       "    </tr>\n",
       "    <tr>\n",
       "      <th>unique</th>\n",
       "      <td>32</td>\n",
       "      <td>1</td>\n",
       "      <td>18460</td>\n",
       "      <td>127</td>\n",
       "      <td>27707</td>\n",
       "      <td>702</td>\n",
       "      <td>734</td>\n",
       "      <td>28020</td>\n",
       "      <td>27255</td>\n",
       "    </tr>\n",
       "    <tr>\n",
       "      <th>top</th>\n",
       "      <td>Issue 1</td>\n",
       "      <td>Journal of Animal Science</td>\n",
       "      <td>Pages 1–8</td>\n",
       "      <td>Volume 94</td>\n",
       "      <td>This paper is not available for publication.</td>\n",
       "      <td>Ruminant Nutrition</td>\n",
       "      <td>2016-09-01 00:00:00</td>\n",
       "      <td>https://doi.org/10.2527/jas.2010-3388</td>\n",
       "      <td>News and Notes</td>\n",
       "    </tr>\n",
       "    <tr>\n",
       "      <th>freq</th>\n",
       "      <td>4889</td>\n",
       "      <td>28020</td>\n",
       "      <td>23</td>\n",
       "      <td>1195</td>\n",
       "      <td>7</td>\n",
       "      <td>4023</td>\n",
       "      <td>291</td>\n",
       "      <td>1</td>\n",
       "      <td>220</td>\n",
       "    </tr>\n",
       "    <tr>\n",
       "      <th>first</th>\n",
       "      <td>NaN</td>\n",
       "      <td>NaN</td>\n",
       "      <td>NaN</td>\n",
       "      <td>NaN</td>\n",
       "      <td>NaN</td>\n",
       "      <td>NaN</td>\n",
       "      <td>1910-01-01 00:00:00</td>\n",
       "      <td>NaN</td>\n",
       "      <td>NaN</td>\n",
       "    </tr>\n",
       "    <tr>\n",
       "      <th>last</th>\n",
       "      <td>NaN</td>\n",
       "      <td>NaN</td>\n",
       "      <td>NaN</td>\n",
       "      <td>NaN</td>\n",
       "      <td>NaN</td>\n",
       "      <td>NaN</td>\n",
       "      <td>2018-07-28 00:00:00</td>\n",
       "      <td>NaN</td>\n",
       "      <td>NaN</td>\n",
       "    </tr>\n",
       "  </tbody>\n",
       "</table>\n",
       "</div>"
      ],
      "text/plain": [
       "          Issue                    Journal      Pages     Volume  \\\n",
       "count     28020                      28020      28020      28020   \n",
       "unique       32                          1      18460        127   \n",
       "top     Issue 1  Journal of Animal Science  Pages 1–8  Volume 94   \n",
       "freq       4889                      28020         23       1195   \n",
       "first       NaN                        NaN        NaN        NaN   \n",
       "last        NaN                        NaN        NaN        NaN   \n",
       "\n",
       "                                            abstract            category  \\\n",
       "count                                          28020               28020   \n",
       "unique                                         27707                 702   \n",
       "top     This paper is not available for publication.  Ruminant Nutrition   \n",
       "freq                                               7                4023   \n",
       "first                                            NaN                 NaN   \n",
       "last                                             NaN                 NaN   \n",
       "\n",
       "                       date                                    doi  \\\n",
       "count                 28020                                  28020   \n",
       "unique                  734                                  28020   \n",
       "top     2016-09-01 00:00:00  https://doi.org/10.2527/jas.2010-3388   \n",
       "freq                    291                                      1   \n",
       "first   1910-01-01 00:00:00                                    NaN   \n",
       "last    2018-07-28 00:00:00                                    NaN   \n",
       "\n",
       "                 title  \n",
       "count            28020  \n",
       "unique           27255  \n",
       "top     News and Notes  \n",
       "freq               220  \n",
       "first              NaN  \n",
       "last               NaN  "
      ]
     },
     "execution_count": 8,
     "metadata": {},
     "output_type": "execute_result"
    }
   ],
   "source": [
    "raw2.describe()"
   ]
  },
  {
   "cell_type": "code",
   "execution_count": 9,
   "metadata": {},
   "outputs": [],
   "source": [
    "# raw2[raw2['abstract'].str.contains('Announcements of available positions')]\n",
    "mask2 = (raw2['abstract'].str.contains('This paper is not available')) | (raw2['title'] == 'Placement') | (raw2['title'] == 'News and Notes') # drop unavailable, more announcements\n",
    "raw2 =raw2[~mask2]"
   ]
  },
  {
   "cell_type": "code",
   "execution_count": 10,
   "metadata": {},
   "outputs": [],
   "source": [
    "raw2 = raw2.drop_duplicates(subset='abstract', keep='first')"
   ]
  },
  {
   "cell_type": "code",
   "execution_count": 11,
   "metadata": {},
   "outputs": [
    {
     "data": {
      "text/html": [
       "<div>\n",
       "<style scoped>\n",
       "    .dataframe tbody tr th:only-of-type {\n",
       "        vertical-align: middle;\n",
       "    }\n",
       "\n",
       "    .dataframe tbody tr th {\n",
       "        vertical-align: top;\n",
       "    }\n",
       "\n",
       "    .dataframe thead th {\n",
       "        text-align: right;\n",
       "    }\n",
       "</style>\n",
       "<table border=\"1\" class=\"dataframe\">\n",
       "  <thead>\n",
       "    <tr style=\"text-align: right;\">\n",
       "      <th></th>\n",
       "      <th>Issue</th>\n",
       "      <th>Journal</th>\n",
       "      <th>Pages</th>\n",
       "      <th>Volume</th>\n",
       "      <th>abstract</th>\n",
       "      <th>category</th>\n",
       "      <th>date</th>\n",
       "      <th>doi</th>\n",
       "      <th>title</th>\n",
       "    </tr>\n",
       "  </thead>\n",
       "  <tbody>\n",
       "    <tr>\n",
       "      <th>count</th>\n",
       "      <td>27421</td>\n",
       "      <td>27421</td>\n",
       "      <td>27421</td>\n",
       "      <td>27421</td>\n",
       "      <td>27421</td>\n",
       "      <td>27421</td>\n",
       "      <td>27421</td>\n",
       "      <td>27421</td>\n",
       "      <td>27421</td>\n",
       "    </tr>\n",
       "    <tr>\n",
       "      <th>unique</th>\n",
       "      <td>32</td>\n",
       "      <td>1</td>\n",
       "      <td>18246</td>\n",
       "      <td>127</td>\n",
       "      <td>27421</td>\n",
       "      <td>702</td>\n",
       "      <td>734</td>\n",
       "      <td>27421</td>\n",
       "      <td>27242</td>\n",
       "    </tr>\n",
       "    <tr>\n",
       "      <th>top</th>\n",
       "      <td>Issue 1</td>\n",
       "      <td>Journal of Animal Science</td>\n",
       "      <td>Pages 1–8</td>\n",
       "      <td>Volume 94</td>\n",
       "      <td>The effect of feeding a diet supplemented with...</td>\n",
       "      <td>Ruminant Nutrition</td>\n",
       "      <td>2016-09-01 00:00:00</td>\n",
       "      <td>https://doi.org/10.2527/jas.2010-3388</td>\n",
       "      <td>Discussion</td>\n",
       "    </tr>\n",
       "    <tr>\n",
       "      <th>freq</th>\n",
       "      <td>4716</td>\n",
       "      <td>27421</td>\n",
       "      <td>23</td>\n",
       "      <td>1194</td>\n",
       "      <td>1</td>\n",
       "      <td>4008</td>\n",
       "      <td>291</td>\n",
       "      <td>1</td>\n",
       "      <td>31</td>\n",
       "    </tr>\n",
       "    <tr>\n",
       "      <th>first</th>\n",
       "      <td>NaN</td>\n",
       "      <td>NaN</td>\n",
       "      <td>NaN</td>\n",
       "      <td>NaN</td>\n",
       "      <td>NaN</td>\n",
       "      <td>NaN</td>\n",
       "      <td>1910-01-01 00:00:00</td>\n",
       "      <td>NaN</td>\n",
       "      <td>NaN</td>\n",
       "    </tr>\n",
       "    <tr>\n",
       "      <th>last</th>\n",
       "      <td>NaN</td>\n",
       "      <td>NaN</td>\n",
       "      <td>NaN</td>\n",
       "      <td>NaN</td>\n",
       "      <td>NaN</td>\n",
       "      <td>NaN</td>\n",
       "      <td>2018-07-28 00:00:00</td>\n",
       "      <td>NaN</td>\n",
       "      <td>NaN</td>\n",
       "    </tr>\n",
       "  </tbody>\n",
       "</table>\n",
       "</div>"
      ],
      "text/plain": [
       "          Issue                    Journal      Pages     Volume  \\\n",
       "count     27421                      27421      27421      27421   \n",
       "unique       32                          1      18246        127   \n",
       "top     Issue 1  Journal of Animal Science  Pages 1–8  Volume 94   \n",
       "freq       4716                      27421         23       1194   \n",
       "first       NaN                        NaN        NaN        NaN   \n",
       "last        NaN                        NaN        NaN        NaN   \n",
       "\n",
       "                                                 abstract            category  \\\n",
       "count                                               27421               27421   \n",
       "unique                                              27421                 702   \n",
       "top     The effect of feeding a diet supplemented with...  Ruminant Nutrition   \n",
       "freq                                                    1                4008   \n",
       "first                                                 NaN                 NaN   \n",
       "last                                                  NaN                 NaN   \n",
       "\n",
       "                       date                                    doi       title  \n",
       "count                 27421                                  27421       27421  \n",
       "unique                  734                                  27421       27242  \n",
       "top     2016-09-01 00:00:00  https://doi.org/10.2527/jas.2010-3388  Discussion  \n",
       "freq                    291                                      1          31  \n",
       "first   1910-01-01 00:00:00                                    NaN         NaN  \n",
       "last    2018-07-28 00:00:00                                    NaN         NaN  "
      ]
     },
     "execution_count": 11,
     "metadata": {},
     "output_type": "execute_result"
    }
   ],
   "source": [
    "raw2.describe()"
   ]
  },
  {
   "cell_type": "code",
   "execution_count": 57,
   "metadata": {},
   "outputs": [
    {
     "data": {
      "text/plain": [
       "In 1913 the Development Commission invited the cooperation of the University of Edinburgh in formulating plans for an Animal Breeding Institute and a committee to consider ways and means soon began to function. War necessitated the postponement of the project but the echoes of the last shot had hardly died when, on a very humble scale, the Animal Breeding Research Department came into being in 1920 with Dr. F. A. E. Crew, then an assistant in the Department of Natural History, as director and complete staff.The original cramped quarters in High School Yards were soon outgrown and in 1924 the Department moved to seven rooms in the new chemistry building at the foot of Blackford Hill, where adjacent land and outbuildings permitted a more extensive programme of work than had previously been possible. Here the institute was rapidly outgrowing its accommodations when, in 1927, the International Education Board of the Rockefeller Foundation came to its aid with a conditional offer of $150,000 for the endowment of a Chair of Genetics at the University and the construction of a building to house the department, together with equipment therefor.                                                                                                                                                                                                                                                                                                                                                                                                                                                                                                                                                                                                                                                                                                                                                                                                                                                                                                                                                                                                                                                                                                                                                                                                                                                                                                                                                                                                                                                                                                                                     1\n",
       "Nine barrows (23.8 ± 0.9 kg) and 9 gilts (23.1 ± 0.9 kg) were used to determine the disposition of radiocarbon after oral [14C]clenbuterol (4-amino-α-[t-butylaminomethyl]-3,5-dichlorobenzyl [7-14C]alcohol hydrochloride) administration and to determine total and parent residues in edible tissues. Three barrows and three gilts, housed in metabolism crates, were fed 1 ppm [14C]clenbuterol HCl for seven consecutive days in three separate trials; a single barrow and gilt from each trial was slaughtered after 0-, 3-, or 7-d preslaughter withdrawal periods. Urine and feces were collected during the dosing and the withdrawal period; edible and inedible tissues were collected at slaughter. Total recovery of radiocarbon was 94.2 ± 6.5%. Total clenbuterol absorption was greater than 75% for barrows and 60% for gilts. Total radioactive residues in tissues were not different (P &gt; 0.05) between barrows and gilts. Concentrations of parent clenbuterol in liver, kidney, skeletal muscle, adipose tissue, and lung did not differ between barrows and gilts (P &gt; 0.05). Total radioactive and parent residues declined in tissues as withdrawal period increased. After the 0-d withdrawal period, total liver residues (286 ppb) were approximately equal to lung residues, twice those of the kidney, and about 15 times those of adipose tissue and skeletal muscle. After a 7-d withdrawal period, total radioactive residues in liver (15 ppb) were roughly three times greater than lung, kidney, and adipose tissue total residues and about 13 times those of skeletal muscle total residues. Parent clenbuterol represented 79, 63, 42, 67, and 100% of the total radioactive residue in adipose tissue, kidney, liver, lung, and skeletal muscle, respectively, in hogs slaughtered with a 0-d withdrawal period. With increasing withdrawal period, the percentage of total radioactive residue present as parent clenbuterol within edible tissues (including lung) decreased, so that after a 7-d withdrawal period, 7, 16, and 29% of the total residue was composed of parent clenbuterol in kidney, liver, and lung, respectively. After a 7-d withdrawal period, parent clenbuterol exceeded the European maximum residue limit (0.5 ppb) 4.6-fold in liver and 2.4-fold in lung. In muscle, clenbuterol was approximately 40 times the limit after a 0-d withdrawal period but had dropped below 0.5 ppb after a 3-d withdrawal period. Results from this study indicate that clenbuterol HCl is well absorbed in swine and that the use of clenbuterol in this species in an off-label manner is inconsistent with human food safety standards used in developed countries.    1\n",
       "The effect of biuret in the diet of rats, poultry, lambs, and steers was investigated. Biuret produced neither acute nor chronic toxicity in these animals. It appeared to increase water consumption among lambs to a greater degree than did urea. It also appeared to depress appetite in both lambs and steers and gain in steers when compared with urea and feed protein. However, the depressing effect on appetite and gain was overcome apparently by including in a biuret ration adequate protein from cottonseed meal or higher levels of urea. The variable response with biuret suggests that this substance is not a dependable source of nitrogen for ruminants.The limited value of biuret as a protein source and the fact that no toxic effects were observed in this series of experiments, indicates that the biuret content of commercial urea may be of greater concern when such urea is used as fertilizer than when it is used as a feed for animals.                                                                                                                                                                                                                                                                                                                                                                                                                                                                                                                                                                                                                                                                                                                                                                                                                                                                                                                                                                                                                                                                                                                                                                                                                                                                                                                                                                                                                                                                                                                                                                                                                                                                                                                                                        1\n",
       "AIBS held its 1976 annual meeting on the campus of Tulane University in New Orleans from May 30 through June 4 with more than 4,000 scientists in attendance. Two anniversaries were celebrated — the 25th anniversary of the Council of Biology Editors and the 50th anniversary of Biology, the major abstracting and service agency supporting biology.As a member of the AIBS Public Responsibilities Committee, I was asked to present to the Public Responsibility Representatives how A.S.A.S. handles its public responsibility functions. I pointed out that A.S.A.S. has no one individual or committee specifically assigned this responsibility. However, there are several committees that share this responsibility. The major ones being the Committee on Information and Public Relations and the Regulatory Agencies Committee. I outlined the major responsibilities of these two committees. Other committees that have some activities related to public responsibility include the Carcass Evaluation Committee, Committee on Future Needs for Animal Science Graduates, Committee on Information Storage and Retrieval, Placement Committee, Committee on Professional Training Status and Standards and the Research Committee.                                                                                                                                                                                                                                                                                                                                                                                                                                                                                                                                                                                                                                                                                                                                                                                                                                                                                                                                                                                                                                                                                                                                                                                                                                                                                                                                                                                                                                                                                 1\n",
       "To determine if specific binding of 125I-labeled gonadotropins to granulosa and thecal cells, or concentrations of steroids in ovarian follicles change during the postpartum anovulatory period, 21 suckled beef cows were slaughtered on d 7, 14, 28, 42 or 56 after parturition (n=4 to 6 per d). After slaughter, 10 to 15 follicles were dissected from each pair of ovaries and categorized by diameter: small (1.0 to 3.9 mm), medium (4.0 to 7.9 mm) or large (≥8 mm). Progesterone (221 to 612 ng/ml), androstenedione (48 to 94 ng/ml) and estradiol (2.7 to 23.9 ng/ml) did not change (P&gt;.10) in fluid of small or medium follicles from d 7 to 42 to 56 after parturition. Similarly, specific binding of human chorionic gonadotropin (125I-hCG) or follicle stimulating hormone (125I-oFSH) to homogenates of small, medium or large follicles did not change (P&gt;.05). In contrast, progesterone in fluid of large follicles increased (P&lt;.05) 3.4-fold between d 7 and 14, but decreased (P&lt;.05) 55% between d 14 and 28. Concentrations of androstenedione in fluid of large follicles did not change (P&gt;.10) from d 7 to 42 to 56. Concentrations of estradiol in fluid of large follicles remained constant between d 7 and 14, but increased (P&lt;.05) 4.2-fold between d 14 and 28. We conclude that during the postpartum anovulatory period, there is no change in steroidogenic capabilities of small or medium follicles, both of which predominantly produce progesterone. In contrast, a shift from progesterone to estradiol production occurred in large follicles without coincident changes in luteinizing hormone or FSH binding. This increase in concentration of estradiol in fluid of large follicles may be an essential step toward resumption of ovulatory cycles in postpartum, suckled beef cows.                                                                                                                                                                                                                                                                                                                                                                                                                                                                                                                                                                                                                                                                                                                                                                                                                                                                             1\n",
       "The variation in growth and carcass composition responses of lambs to somatotropin (ST) treatment may depend on the source of ST used as well as on other experimental conditions. In the present experiment, growth, carcass composition, and clinical chemistry responses to recombinantly produced ovine ST (oST) and two bovine ST (N-methionyl-bST[M-bST] and N-alanyl-bST[A-bST] were compared. Lambs weighing 42 kg were assigned to treatment groups of control (no injection) or 4 mg/d of M-bST, A-bST, or oST administered by s.c. injection for 6 wk. Growth rate was increased by an average of 30% and feed efficiency was improved by an average of 22% by ST treatment compared with control, and responses did not differ among ST. The IGF-I, insulin, and glucose concentrations were increased by 107, 700, and 53% compared with control, respectively, and did not differ among ST treatment groups. Urea nitrogen responses to A-bST and oST were transiently greater than those to M-bST. Although quality grade was not affected by treatment, an average .8-kg increase in weight of retail cuts was calculated from yield grade. Carcasses of ST-treated lambs were calculated to have 1.3 kg more muscle and 1.9 kg less fat. Although fat and muscle were affected more by oST than by M-bST on a percentage basis, they did not differ among treatment groups on a total weight basis. Thus, both bST variants and oST improved growth performance and carcass leanness. Decreased responses of some carcass variables to M-bST treatment may have been related to the presence of antibodies that were indicated by an increased number of positive responders in a relative bST binding assay.                                                                                                                                                                                                                                                                                                                                                                                                                                                                                                                                                                                                                                                                                                                                                                                                                                                                                                                                                                                                         1\n",
       "Two trials evaluated bovine corpus luteum (CL) regression and estrous response following treatment with alfaprostol (AP), a prostaglandin F2α analogue. Expression of at least one estrous cycle (16 to 26 d) and a palpable mid-cycle CL were required prior to random assignment of females to receive 0, .38, .75, 1.50 or 2.25 mg AP/100 kg body weight. Alfaprostol was evaluated in Brahman cows and heifers that were treated on d 11 to 13 (trial 1) and in Simmental × Brahman-Hereford (crossbred) heifers that were treated on d 8 to 10 or d 11 to 13 of the estrous cycle (trial 2). In trial 1, Brahman heifers appeared to require a higher AP dose (&gt;.38 mg/100 kg body weight) to elicit luteolysis and expression of estrus than Brahman cows. Alfaprostol treatment (⩾.75 mg/100 kg body weight) induced (P&lt;.0001) luteolysis followed by estrus in Brahman cows and heifers. In trial 2, crossbred heifers that received AP on d 8 to 10 appeared to require a higher dose of AP (&gt;.38 mg/100 kg body weight) to elicit luteolysis and estrus than heifers that received AP on d 11 to 13 of the estrous cycle. Alfaprostol treatment ⩾.75 mg/100 kg body weight on d 8 to 10 and d 11 to 13 of the estrous cycle induced (P&lt;.0001) luteolysis followed by estrus in crossbred heifers. Alfaprostol may be used to induce luteolysis and estrus when administered at doses ⩾.75 mg/100 kg body weight in Brahman cows and heifers and crossbred heifers.                                                                                                                                                                                                                                                                                                                                                                                                                                                                                                                                                                                                                                                                                                                                                                                                                                                                                                                                                                                                                                                                                                                                                                                                                                               1\n",
       "We tested the effect of Trp addition to a standard weaning diet and oral challenge with enterotoxigenic Escherichia coli K88 (ETEC) on growth and health of piglets susceptible or nonsusceptible to the intestinal adhesion of ETEC. Sixty-four pigs weaned at 21 d of age were divided into 3 groups based on their ancestry and BW: a control group of 8 pigs fed a basal diet (B), the first challenged group of 28 pigs fed B diet (BCh), and the second challenged group of 28 pigs fed a diet with Trp (TrpCh). The Trp diet was produced by the addition of 1 g of L-Trp/kg to the basal diet. On d 5, pigs were orally challenged with 1.5 mL suspension containing 1010 cfu ETEC/mL or placebo, and killed on d 9 or 23. Based on in vitro villus adhesion assay, the pigs (except the B group) were classified as susceptible (s+) or nonsusceptible (s−) to the intestinal ETEC adhesion. Thus, after the challenge, treatments were B, BChs−, BChs+, TrpChs−, and TrpChs+. Pigs susceptible to ETEC were 50.0% in the BChs+ group (3 pigs lost included) and 46.4% in the TrpChs + group (1 pig lost included). During the first 4 d after challenge, the challenge reduced ADG (P &lt; 0.05), and this reduction was greater in susceptible pigs (P &lt; 0.05) than nonsusceptible ones. Tryptophan increased ADG and feed intake in susceptible pigs (P &lt; 0.05) from challenge to d 4, but not thereafter. Tryptophan supplementation did not improve the fecal consistency and did not reduce the number of pigs positive for ETEC in feces on d 4 after the challenge. The K88-specific immunoglobulin A activity in blood serum tended to be greater in challenged pigs (P = 0.102) and was not affected by the addition of Trp. Villous height was affected by the addition of Trp and challenge in different ways, depending on the site of small intestine. The need to consider the phenotype for the adhesion of the ETEC in studies with different supply of Trp was clearly evident. When compared with practical weaning standard diets, Trp supplementation allowed susceptible pigs to partially compensate for the effects of ETEC challenge by increasing feed intake and maintaining an adequate BW growth. This is of practical importance for the formulation of diets for pigs selected for lean growth because of the presence of an association between this trait and the susceptibility to the intestinal adhesion of ETEC.                                                                                                                                                                                                                                                                   1\n",
       "Discriminant analysis based upon blood serum levels of inorganic phosphorus, total serum calcium, magnesium and potassium and urine excretion values for 24 hr. volume, specific gravity, pH, titratable acidity, total calcium, magnesium, phosphorus and potassium has been used to predict urolithiasis in sheep. Data collected between 29 and 56 days on test (period 2) could be used for the prediction equation. Using these 12 variables, the equation is approximately 75% accurate in classifying the sheep as uroliths or non-uroliths.                                                                                                                                                                                                                                                                                                                                                                                                                                                                                                                                                                                                                                                                                                                                                                                                                                                                                                                                                                                                                                                                                                                                                                                                                                                                                                                                                                                                                                                                                                                                                                                                                                                                                                                                                                                                                                                                                                                                                                                                                                                                                                                                                                                    1\n",
       "Four Holstein steers (164 kg) with cannulas in the rumen and proximal duodenum were used to evaluate the effects of oral antibiotic administration on characteristics of digestion of a 71% concentrate diet. Treatments were as follows: 1) no antibiotic; 2) 350 mg•steer−1•d−1 of chlortetracycline (CTC) provided in the feed (A350); 3) 350 mg•steer−1•d−1 of CTC plus 350 mg•steer−1•d−1 of sulfamethazine provided in the feed (AS700); 4) 22 mg of CTC/kg BW (3.6 gsteer−1•d−1) provided in the drinking water (A3600). Drinking water intake averaged 23.5 L/d and was not affected (P &gt; .10) by treatments. Antibiotic treatments increased passage (P &lt; .05) of OM to the small intestine. This effect was largely due to decreased (27%, P &lt; .05) ruminal ADF digestion. Passage of nonammonia N to the small intestine was greater (10.4%, P &lt; .01) for A3600 vs A350 and AS700; the latter was similar to the control. This effect was due to an increased (23.4%, P &lt; .05) synthesis of microbial N. Total tract digestion of OM (P &lt; .05), starch (P &lt; .05), N (P &lt; .10), and DE (P &lt; .10) were slightly lower (2.7, 1.6, 2.8, and 2.7%, respectively) for antibiotic-supplemented diets. Total tract starch (P &lt; .10) and N (P &lt; .01) digestion were further decreased (1.2 and 3.5%, respectively) for A3600 vs A350 and AS700. Postruminal digestion of ADF was greater (131%, P &lt; .10) for antibiotic-supplemented diets, compensating for the lower ruminal digestion. There were no treatment effects (P &gt; .10) on ruminal pH.(ABSTRACT TRUNCATED AT 250 WORDS)                                                                                                                                                                                                                                                                                                                                                                                                                                                                                                                                                                                                                                                                                                                                                                                                                                                                                                                                                                                                                                                                                                           1\n",
       "Name: abstract, dtype: int64"
      ]
     },
     "execution_count": 57,
     "metadata": {},
     "output_type": "execute_result"
    }
   ],
   "source": [
    "raw2['abstract'].value_counts()[:10] "
   ]
  },
  {
   "cell_type": "code",
   "execution_count": 12,
   "metadata": {},
   "outputs": [],
   "source": [
    "mask3 = raw2['abstract'].str.len() < 100 # too short - probably not an abstract, 100 + start to have more real abstracts\n",
    "raw2 = raw2[~mask3]"
   ]
  },
  {
   "cell_type": "code",
   "execution_count": 13,
   "metadata": {},
   "outputs": [],
   "source": [
    "# [raw2['abstract'].str.contains('Bulletin')] more non abstracts but too impure to easily filter - see if gets naturally filtered"
   ]
  },
  {
   "cell_type": "code",
   "execution_count": 14,
   "metadata": {},
   "outputs": [
    {
     "data": {
      "text/html": [
       "<div>\n",
       "<style scoped>\n",
       "    .dataframe tbody tr th:only-of-type {\n",
       "        vertical-align: middle;\n",
       "    }\n",
       "\n",
       "    .dataframe tbody tr th {\n",
       "        vertical-align: top;\n",
       "    }\n",
       "\n",
       "    .dataframe thead th {\n",
       "        text-align: right;\n",
       "    }\n",
       "</style>\n",
       "<table border=\"1\" class=\"dataframe\">\n",
       "  <thead>\n",
       "    <tr style=\"text-align: right;\">\n",
       "      <th></th>\n",
       "      <th>Issue</th>\n",
       "      <th>Journal</th>\n",
       "      <th>Pages</th>\n",
       "      <th>Volume</th>\n",
       "      <th>abstract</th>\n",
       "      <th>category</th>\n",
       "      <th>date</th>\n",
       "      <th>doi</th>\n",
       "      <th>title</th>\n",
       "    </tr>\n",
       "  </thead>\n",
       "  <tbody>\n",
       "  </tbody>\n",
       "</table>\n",
       "</div>"
      ],
      "text/plain": [
       "Empty DataFrame\n",
       "Columns: [Issue, Journal, Pages, Volume, abstract, category, date, doi, title]\n",
       "Index: []"
      ]
     },
     "execution_count": 14,
     "metadata": {},
     "output_type": "execute_result"
    }
   ],
   "source": [
    "raw2[raw2['abstract'].isnull()] # scraped fine!"
   ]
  },
  {
   "cell_type": "code",
   "execution_count": 15,
   "metadata": {},
   "outputs": [],
   "source": [
    "raw2.to_pickle('abstracts1.pkl') # cleaner abstracts"
   ]
  },
  {
   "cell_type": "markdown",
   "metadata": {},
   "source": [
    "# Step 2: Process text for tokenizing"
   ]
  },
  {
   "cell_type": "code",
   "execution_count": 80,
   "metadata": {},
   "outputs": [],
   "source": [
    "from nltk.tokenize import word_tokenize\n",
    "from nltk.corpus import stopwords\n",
    "from nltk.stem import SnowballStemmer\n",
    "import string\n",
    "\n",
    "def custom_tokenizer(text):\n",
    "\n",
    "    # remove punctuation\n",
    "    remove_punct = str.maketrans('', '', string.punctuation)\n",
    "    text = text.translate(remove_punct)\n",
    "\n",
    "    # remove digits and convert to lower case\n",
    "    remove_digits = str.maketrans('', '', string.digits)\n",
    "    text = text.lower().translate(remove_digits)\n",
    "\n",
    "    # tokenize\n",
    "    tokens = word_tokenize(text)\n",
    "\n",
    "    # remove stop words\n",
    "    stop_words = stopwords.words('english')\n",
    "    JAS_words = ['use', 'model', 'anim', 'method', 'result']\n",
    "    stop_words.extend(JAS_words)\n",
    "    tokens_stop = [y for y in tokens if y not in stop_words]\n",
    "\n",
    "    # stem\n",
    "    stemmer = SnowballStemmer('english')\n",
    "    tokens_stem = [stemmer.stem(y) for y in tokens_stop] \n",
    "\n",
    "    return tokens_stem"
   ]
  },
  {
   "cell_type": "code",
   "execution_count": 81,
   "metadata": {},
   "outputs": [],
   "source": [
    "abstracts1 = raw2['abstract']"
   ]
  },
  {
   "cell_type": "code",
   "execution_count": 83,
   "metadata": {},
   "outputs": [],
   "source": [
    "abstracts2 = abstracts1.sample(3000) # train on a 10% sample"
   ]
  },
  {
   "cell_type": "code",
   "execution_count": 103,
   "metadata": {},
   "outputs": [],
   "source": [
    "from sklearn.feature_extraction.text import CountVectorizer, TfidfVectorizer\n",
    "from gensim import corpora, models, similarities, matutils\n",
    "\n",
    "def vec_and_lda(corpus):\n",
    "    '''Input: List of documents\n",
    "       Output: LDA model trained and transformed on input corpus\n",
    "       \n",
    "       Requires customer_tokenizer defined'''\n",
    "    # countvectorizing and training\n",
    "    cv = CountVectorizer(tokenizer=custom_tokenizer, max_df=0.9)\n",
    "    X_train_cv = cv.fit(corpus)\n",
    "    \n",
    "    # Create the term-document matrix\n",
    "    # Transpose it so the terms are the rows\n",
    "    counts = cv.transform(corpus).transpose()\n",
    "    \n",
    "    # gensim\n",
    "    \n",
    "    # Convert sparse matrix of counts to a gensim corpus\n",
    "    corpus = matutils.Sparse2Corpus(counts)\n",
    "    id2word = dict((v, k) for k, v in cv.vocabulary_.items())\n",
    "    \n",
    "    # Create lda model (equivalent to \"fit\" in sklearn)\n",
    "    lda = models.LdaModel(corpus=corpus, num_topics=20, id2word=id2word, passes=10)\n",
    "    return lda"
   ]
  },
  {
   "cell_type": "code",
   "execution_count": 84,
   "metadata": {},
   "outputs": [],
   "source": [
    "# # countvectorizing and training\n",
    "# from sklearn.feature_extraction.text import CountVectorizer, TfidfVectorizer\n",
    "# cv = CountVectorizer(tokenizer=custom_tokenizer, max_df=0.9)\n",
    "\n",
    "# X_train_cv = cv.fit(abstracts2)\n",
    "# #"
   ]
  },
  {
   "cell_type": "code",
   "execution_count": 85,
   "metadata": {},
   "outputs": [],
   "source": [
    "# # Create the term-document matrix\n",
    "# # Transpose it so the terms are the rows\n",
    "# counts = cv.transform(abstracts2).transpose()"
   ]
  },
  {
   "cell_type": "code",
   "execution_count": 86,
   "metadata": {},
   "outputs": [],
   "source": [
    "# # gensim\n",
    "# from gensim import corpora, models, similarities, matutils\n",
    "# # Convert sparse matrix of counts to a gensim corpus\n",
    "# corpus = matutils.Sparse2Corpus(counts)"
   ]
  },
  {
   "cell_type": "code",
   "execution_count": 87,
   "metadata": {},
   "outputs": [],
   "source": [
    "# id2word = dict((v, k) for k, v in cv.vocabulary_.items())"
   ]
  },
  {
   "cell_type": "code",
   "execution_count": 88,
   "metadata": {},
   "outputs": [],
   "source": [
    "# # Create lda model (equivalent to \"fit\" in sklearn)\n",
    "# lda = models.LdaModel(corpus=corpus, num_topics=20, id2word=id2word, passes=10)"
   ]
  },
  {
   "cell_type": "code",
   "execution_count": 89,
   "metadata": {},
   "outputs": [
    {
     "data": {
      "text/plain": [
       "[(0,\n",
       "  '0.019*\"protein\" + 0.018*\"muscl\" + 0.016*\"express\" + 0.012*\"cell\" + 0.012*\"tissu\" + 0.012*\"gene\" + 0.010*\"growth\" + 0.009*\"increas\" + 0.009*\"pig\" + 0.007*\"metabol\"'),\n",
       " (1,\n",
       "  '0.033*\"p\" + 0.027*\"diet\" + 0.020*\"digest\" + 0.016*\"lt\" + 0.012*\"n\" + 0.011*\"increas\" + 0.011*\"rumin\" + 0.011*\"intak\" + 0.011*\"corn\" + 0.011*\"fed\"'),\n",
       " (2,\n",
       "  '0.043*\"carcass\" + 0.025*\"fat\" + 0.016*\"lean\" + 0.016*\"weight\" + 0.013*\"measur\" + 0.012*\"correl\" + 0.010*\"predict\" + 0.010*\"muscl\" + 0.010*\"r\" + 0.009*\"yield\"'),\n",
       " (3,\n",
       "  '0.042*\"acid\" + 0.025*\"fat\" + 0.021*\"fatti\" + 0.017*\"tissu\" + 0.017*\"increas\" + 0.014*\"liver\" + 0.012*\"content\" + 0.011*\"lipid\" + 0.009*\"adipos\" + 0.008*\"weight\"'),\n",
       " (4,\n",
       "  '0.044*\"diet\" + 0.038*\"pig\" + 0.035*\"fed\" + 0.021*\"feed\" + 0.021*\"supplement\" + 0.020*\"p\" + 0.015*\"level\" + 0.015*\"gain\" + 0.013*\"increas\" + 0.012*\"dietari\"'),\n",
       " (5,\n",
       "  '0.029*\"genet\" + 0.021*\"trait\" + 0.018*\"select\" + 0.018*\"effect\" + 0.017*\"estim\" + 0.014*\"use\" + 0.014*\"breed\" + 0.012*\"correl\" + 0.011*\"data\" + 0.011*\"anim\"'),\n",
       " (6,\n",
       "  '0.055*\"heifer\" + 0.014*\"±\" + 0.013*\"p\" + 0.010*\"treatment\" + 0.010*\"pregnanc\" + 0.009*\"bw\" + 0.008*\"cow\" + 0.008*\"lt\" + 0.007*\"rate\" + 0.006*\"use\"'),\n",
       " (7,\n",
       "  '0.033*\"sow\" + 0.022*\"p\" + 0.019*\"litter\" + 0.018*\"pig\" + 0.014*\"lt\" + 0.013*\"group\" + 0.013*\"gestat\" + 0.012*\"weight\" + 0.011*\"piglet\" + 0.011*\"lactat\"'),\n",
       " (8,\n",
       "  '0.021*\"plt\" + 0.016*\"digest\" + 0.015*\"fed\" + 0.013*\"level\" + 0.013*\"diet\" + 0.012*\"trial\" + 0.012*\"protein\" + 0.012*\"lamb\" + 0.011*\"nitrogen\" + 0.011*\"increas\"'),\n",
       " (9,\n",
       "  '0.016*\"select\" + 0.015*\"rate\" + 0.014*\"±\" + 0.012*\"matur\" + 0.011*\"oocyt\" + 0.010*\"l\" + 0.010*\"generat\" + 0.009*\"g\" + 0.009*\"pa\" + 0.008*\"respons\"'),\n",
       " (10,\n",
       "  '0.031*\"weight\" + 0.023*\"breed\" + 0.023*\"calv\" + 0.018*\"age\" + 0.017*\"wean\" + 0.016*\"lamb\" + 0.011*\"gain\" + 0.011*\"cow\" + 0.011*\"signific\" + 0.010*\"birth\"'),\n",
       " (11,\n",
       "  '0.016*\"intestin\" + 0.014*\"feed\" + 0.013*\"weight\" + 0.010*\"increas\" + 0.009*\"small\" + 0.009*\"wk\" + 0.009*\"lb\" + 0.009*\"activ\" + 0.009*\"βar\" + 0.008*\"milk\"'),\n",
       " (12,\n",
       "  '0.080*\"p\" + 0.050*\"lt\" + 0.016*\"treatment\" + 0.015*\"steer\" + 0.014*\"increas\" + 0.012*\"greater\" + 0.010*\"control\" + 0.010*\"carcass\" + 0.010*\"fed\" + 0.009*\"vs\"'),\n",
       " (13,\n",
       "  '0.033*\"concentr\" + 0.027*\"h\" + 0.024*\"plasma\" + 0.019*\"p\" + 0.017*\"glucos\" + 0.016*\"blood\" + 0.015*\"lt\" + 0.012*\"treatment\" + 0.011*\"infus\" + 0.010*\"insulin\"'),\n",
       " (14,\n",
       "  '0.022*\"graze\" + 0.017*\"pastur\" + 0.014*\"cattl\" + 0.014*\"product\" + 0.012*\"forag\" + 0.011*\"beef\" + 0.009*\"consum\" + 0.009*\"system\" + 0.008*\"feed\" + 0.006*\"yr\"'),\n",
       " (15,\n",
       "  '0.021*\"embryo\" + 0.014*\"fertil\" + 0.011*\"±\" + 0.010*\"cultur\" + 0.009*\"serum\" + 0.009*\"−\" + 0.008*\"develop\" + 0.008*\"semen\" + 0.008*\"respect\" + 0.007*\"treatment\"'),\n",
       " (16,\n",
       "  '0.030*\"cow\" + 0.022*\"day\" + 0.017*\"ewe\" + 0.014*\"±\" + 0.013*\"treatment\" + 0.011*\"concentr\" + 0.011*\"lh\" + 0.011*\"group\" + 0.011*\"estrus\" + 0.009*\"p\"'),\n",
       " (17,\n",
       "  '0.009*\"rqr\" + 0.007*\"use\" + 0.007*\"gene\" + 0.006*\"anim\" + 0.006*\"region\" + 0.005*\"cpp\" + 0.005*\"cattl\" + 0.005*\"graduat\" + 0.004*\"studi\" + 0.004*\"posit\"'),\n",
       " (18,\n",
       "  '0.020*\"anim\" + 0.011*\"research\" + 0.007*\"program\" + 0.007*\"state\" + 0.006*\"work\" + 0.006*\"product\" + 0.006*\"report\" + 0.006*\"one\" + 0.006*\"develop\" + 0.006*\"agricultur\"'),\n",
       " (19,\n",
       "  '0.015*\"infect\" + 0.012*\"food\" + 0.010*\"product\" + 0.010*\"energi\" + 0.010*\"anim\" + 0.009*\"lamb\" + 0.008*\"ch\" + 0.007*\"differ\" + 0.007*\"system\" + 0.007*\"temperatur\"')]"
      ]
     },
     "execution_count": 89,
     "metadata": {},
     "output_type": "execute_result"
    }
   ],
   "source": [
    "lda.print_topics()"
   ]
  },
  {
   "cell_type": "code",
   "execution_count": 95,
   "metadata": {},
   "outputs": [
    {
     "data": {
      "text/plain": [
       "[(12258, 0.032847907),\n",
       " (4260, 0.026659748),\n",
       " (4296, 0.020272415),\n",
       " (9768, 0.01606815),\n",
       " (11107, 0.011898112),\n",
       " (8133, 0.011425007),\n",
       " (14702, 0.011297463),\n",
       " (8343, 0.010993166),\n",
       " (3352, 0.010915074),\n",
       " (5732, 0.010737224)]"
      ]
     },
     "execution_count": 95,
     "metadata": {},
     "output_type": "execute_result"
    }
   ],
   "source": [
    "lda.get_topic_terms(1)"
   ]
  },
  {
   "cell_type": "markdown",
   "metadata": {},
   "source": [
    "# Check out titles"
   ]
  },
  {
   "cell_type": "code",
   "execution_count": 96,
   "metadata": {},
   "outputs": [],
   "source": [
    "titles1 = raw2['title']"
   ]
  },
  {
   "cell_type": "code",
   "execution_count": 53,
   "metadata": {},
   "outputs": [],
   "source": [
    "# from sklearn.decomposition import LatentDirichletAllocation - no innate word coefficients"
   ]
  },
  {
   "cell_type": "code",
   "execution_count": 104,
   "metadata": {},
   "outputs": [],
   "source": [
    "title_lda = vec_and_lda(titles1)\n"
   ]
  },
  {
   "cell_type": "code",
   "execution_count": 105,
   "metadata": {},
   "outputs": [
    {
     "data": {
      "text/plain": [
       "[(0,\n",
       "  '0.081*\"corn\" + 0.078*\"valu\" + 0.050*\"nutrit\" + 0.044*\"dri\" + 0.043*\"grain\" + 0.037*\"silag\" + 0.030*\"feed\" + 0.024*\"rat\" + 0.020*\"follow\" + 0.019*\"solubl\"'),\n",
       " (1,\n",
       "  '0.048*\"cow\" + 0.036*\"beef\" + 0.035*\"hormon\" + 0.034*\"dairi\" + 0.031*\"heifer\" + 0.031*\"effect\" + 0.028*\"gilt\" + 0.024*\"bull\" + 0.021*\"fertil\" + 0.018*\"ewe\"'),\n",
       " (2,\n",
       "  '0.061*\"vitamin\" + 0.030*\"activ\" + 0.027*\"effect\" + 0.026*\"function\" + 0.024*\"stress\" + 0.023*\"sodium\" + 0.022*\"day\" + 0.021*\"heat\" + 0.020*\"pig\" + 0.019*\"wean\"'),\n",
       " (3,\n",
       "  '0.052*\"blood\" + 0.046*\"effect\" + 0.042*\"serum\" + 0.040*\"concentr\" + 0.036*\"plasma\" + 0.028*\"respons\" + 0.027*\"pig\" + 0.026*\"high\" + 0.025*\"level\" + 0.025*\"growth\"'),\n",
       " (4,\n",
       "  '0.060*\"bovin\" + 0.035*\"control\" + 0.031*\"three\" + 0.026*\"physic\" + 0.025*\"oral\" + 0.022*\"cell\" + 0.019*\"combin\" + 0.019*\"releas\" + 0.016*\"fluid\" + 0.016*\"excret\"'),\n",
       " (5,\n",
       "  '0.054*\"protein\" + 0.046*\"digest\" + 0.046*\"pig\" + 0.040*\"effect\" + 0.038*\"diet\" + 0.029*\"fed\" + 0.029*\"meal\" + 0.023*\"grow\" + 0.022*\"supplement\" + 0.022*\"sourc\"'),\n",
       " (6,\n",
       "  '0.073*\"effect\" + 0.064*\"carcass\" + 0.052*\"characterist\" + 0.052*\"perform\" + 0.038*\"steer\" + 0.034*\"growth\" + 0.032*\"qualiti\" + 0.028*\"swine\" + 0.023*\"fatten\" + 0.023*\"feedlot\"'),\n",
       " (7,\n",
       "  '0.038*\"progesteron\" + 0.034*\"treatment\" + 0.025*\"livestock\" + 0.022*\"embryo\" + 0.021*\"teach\" + 0.018*\"diethylstilbestrol\" + 0.018*\"bovin\" + 0.017*\"cultur\" + 0.017*\"experi\" + 0.016*\"vitro\"'),\n",
       " (8,\n",
       "  '0.048*\"temperatur\" + 0.038*\"boar\" + 0.030*\"report\" + 0.029*\"lean\" + 0.028*\"ram\" + 0.024*\"pituitari\" + 0.022*\"muscl\" + 0.021*\"longissimus\" + 0.021*\"test\" + 0.020*\"committe\"'),\n",
       " (9,\n",
       "  '0.090*\"feed\" + 0.047*\"intak\" + 0.045*\"beef\" + 0.042*\"effici\" + 0.037*\"cattl\" + 0.025*\"cycl\" + 0.019*\"estrous\" + 0.016*\"length\" + 0.014*\"meet\" + 0.014*\"residu\"'),\n",
       " (10,\n",
       "  '0.071*\"effect\" + 0.045*\"perform\" + 0.044*\"sow\" + 0.042*\"ewe\" + 0.040*\"lamb\" + 0.036*\"reproduct\" + 0.026*\"lactat\" + 0.022*\"feed\" + 0.021*\"breed\" + 0.021*\"gestat\"'),\n",
       " (11,\n",
       "  '0.048*\"swine\" + 0.046*\"crossbr\" + 0.036*\"pig\" + 0.032*\"determin\" + 0.031*\"techniqu\" + 0.025*\"cross\" + 0.021*\"requir\" + 0.020*\"line\" + 0.019*\"lysin\" + 0.017*\"comparison\"'),\n",
       " (12,\n",
       "  '0.084*\"factor\" + 0.072*\"affect\" + 0.054*\"tissu\" + 0.029*\"matur\" + 0.025*\"adipos\" + 0.021*\"stage\" + 0.020*\"rate\" + 0.016*\"pattern\" + 0.014*\"porcin\" + 0.014*\"passag\"'),\n",
       " (13,\n",
       "  '0.080*\"fat\" + 0.029*\"variat\" + 0.028*\"award\" + 0.023*\"compon\" + 0.023*\"among\" + 0.021*\"heterosi\" + 0.020*\"swine\" + 0.016*\"vs\" + 0.016*\"econom\" + 0.014*\"resist\"'),\n",
       " (14,\n",
       "  '0.090*\"composit\" + 0.059*\"bodi\" + 0.045*\"weight\" + 0.038*\"carcass\" + 0.032*\"measur\" + 0.030*\"energi\" + 0.028*\"chemic\" + 0.026*\"swine\" + 0.021*\"yield\" + 0.021*\"gain\"'),\n",
       " (15,\n",
       "  '0.050*\"genet\" + 0.037*\"select\" + 0.036*\"cattl\" + 0.035*\"trait\" + 0.029*\"estim\" + 0.029*\"breed\" + 0.028*\"weight\" + 0.025*\"growth\" + 0.019*\"size\" + 0.018*\"effect\"'),\n",
       " (16,\n",
       "  '0.051*\"acid\" + 0.038*\"effect\" + 0.036*\"rumen\" + 0.034*\"rumin\" + 0.033*\"ration\" + 0.026*\"digest\" + 0.024*\"metabol\" + 0.024*\"sheep\" + 0.022*\"urea\" + 0.021*\"steer\"'),\n",
       " (17,\n",
       "  '0.118*\"anim\" + 0.073*\"studi\" + 0.030*\"certain\" + 0.022*\"product\" + 0.022*\"societi\" + 0.019*\"scienc\" + 0.019*\"iii\" + 0.018*\"american\" + 0.016*\"biolog\" + 0.015*\"research\"'),\n",
       " (18,\n",
       "  '0.074*\"beef\" + 0.060*\"cattl\" + 0.044*\"calv\" + 0.030*\"hereford\" + 0.029*\"product\" + 0.029*\"cow\" + 0.026*\"pastur\" + 0.025*\"rang\" + 0.024*\"graze\" + 0.022*\"comparison\"'),\n",
       " (19,\n",
       "  '0.077*\"muscl\" + 0.046*\"growth\" + 0.022*\"cellulos\" + 0.020*\"liver\" + 0.020*\"gene\" + 0.019*\"pregnant\" + 0.018*\"express\" + 0.017*\"protein\" + 0.016*\"pig\" + 0.016*\"factor\"')]"
      ]
     },
     "execution_count": 105,
     "metadata": {},
     "output_type": "execute_result"
    }
   ],
   "source": [
    "title_lda.print_topics()"
   ]
  },
  {
   "cell_type": "code",
   "execution_count": null,
   "metadata": {},
   "outputs": [],
   "source": []
  },
  {
   "cell_type": "code",
   "execution_count": null,
   "metadata": {},
   "outputs": [],
   "source": [
    "# Try NMF"
   ]
  },
  {
   "cell_type": "code",
   "execution_count": 146,
   "metadata": {},
   "outputs": [],
   "source": [
    "from sklearn.feature_extraction.text import CountVectorizer, TfidfVectorizer\n",
    "from sklearn.decomposition import NMF\n",
    "\n",
    "def cvec_and_nmf(corpus):\n",
    "    '''Input: List of documents\n",
    "       Output: tuple(nmf model, Nxk matrix)\n",
    "       \n",
    "       Requires customer_tokenizer defined'''\n",
    "    # countvectorizing and training\n",
    "    cv = CountVectorizer(tokenizer=custom_tokenizer, max_df=0.9)\n",
    "    X_train_cv = cv.fit_transform(corpus)\n",
    "    vocab = dict((v, k) for k, v in cv.vocabulary_.items())\n",
    "    nmf = NMF(n_components=20)\n",
    "    nmf_vecs = nmf.fit_transform(X_train_cv)\n",
    "    return vocab, nmf, nmf_vecs"
   ]
  },
  {
   "cell_type": "code",
   "execution_count": 125,
   "metadata": {},
   "outputs": [],
   "source": [
    "abstracts_vocab, abstracts_nmf, abstracts_vecs = cvec_and_nmf(abstracts1)"
   ]
  },
  {
   "cell_type": "code",
   "execution_count": 128,
   "metadata": {},
   "outputs": [],
   "source": [
    "# nmf_words = dict((v, k) for k, v in abstracts_vocab.items())"
   ]
  },
  {
   "cell_type": "code",
   "execution_count": 131,
   "metadata": {},
   "outputs": [
    {
     "data": {
      "text/plain": [
       "(20, 71206)"
      ]
     },
     "execution_count": 131,
     "metadata": {},
     "output_type": "execute_result"
    }
   ],
   "source": [
    "km = abstracts_nmf.components_\n",
    "km.shape"
   ]
  },
  {
   "cell_type": "code",
   "execution_count": 137,
   "metadata": {},
   "outputs": [],
   "source": [
    "nmf_topic_words = [topic[:10] for topic in np.argsort(-km)]"
   ]
  },
  {
   "cell_type": "code",
   "execution_count": 138,
   "metadata": {},
   "outputs": [
    {
     "name": "stdout",
     "output_type": "stream",
     "text": [
      "['p', 'lt', 'greater', 'treatment', 'bw', 'gt', 'vs', '×', 'compar', 'effect']\n",
      "['genet', 'anim', 'use', 'effect', 'trait', 'estim', 'select', 'breed', 'correl', 'studi']\n",
      "['diet', 'fed', 'contain', 'dietari', 'meal', 'corn', 'cp', 'exp', 'ad', 'soybean']\n",
      "['pig', 'fed', 'kg', 'growth', 'perform', 'adg', 'pen', 'compar', 'bw', 'per']\n",
      "['±', 'kg', 'vs', 'respect', 'bw', 'b', 'mean', '−', 'age', 'hs']\n",
      "['weight', 'birth', 'wean', 'gain', 'kg', 'age', 'signific', 'bodi', 'litter', 'dam']\n",
      "['cow', 'milk', 'product', 'beef', 'postpartum', 'lactat', 'calf', 'bcs', 'estrus', 'pregnanc']\n",
      "['lamb', 'ewe', 'breed', 'ram', 'wean', 'fed', 'birth', 'born', 'per', 'product']\n",
      "['steer', 'fed', 'kg', 'cattl', 'corn', 'greater', 'gain', 'finish', 'graze', 'treatment']\n",
      "['feed', 'intak', 'gain', 'effici', 'daili', 'period', 'level', 'fed', 'energi', 'ad']\n",
      "['increas', 'decreas', 'level', 'linear', 'dietari', 'effect', 'quadrat', 'rate', 'product', 'chang']\n",
      "['sow', 'lactat', 'litter', 'piglet', 'wean', 'gestat', 'milk', 'farrow', 'pariti', 'size']\n",
      "['carcass', 'fat', 'muscl', 'measur', 'percentag', 'lean', 'slaughter', 'yield', 'grade', 'composit']\n",
      "['digest', 'corn', 'rumin', 'dm', 'total', 'dri', 'hay', 'forag', 'matter', 'intak']\n",
      "['supplement', 'treatment', 'bw', 'effect', 'control', 'cu', 'p', 'forag', 'vitamin', 'kg']\n",
      "['protein', 'level', 'acid', 'meal', 'signific', 'gain', 'muscl', 'ration', 'plt', 'express']\n",
      "['day', 'treatment', 'group', 'heifer', 'plt', 'control', 'estrus', 'gilt', 'rate', 'differ']\n",
      "['concentr', 'h', 'plasma', 'serum', 'sampl', 'blood', 'acid', 'glucos', 'collect', 'lh']\n",
      "['calv', 'wean', 'age', 'breed', 'heifer', 'calf', 'dam', 'bull', 'angus', 'birth']\n",
      "['n', 'urea', 'cp', 'excret', 'g', 'gd', 'intak', 'rumin', 'h', 'use']\n"
     ]
    }
   ],
   "source": [
    "for i in range(20):\n",
    "     print([nmf_words[idx].strip() for idx in nmf_topic_words[i]])"
   ]
  },
  {
   "cell_type": "code",
   "execution_count": 164,
   "metadata": {},
   "outputs": [
    {
     "name": "stdout",
     "output_type": "stream",
     "text": [
      "[array([-37.86255008, -21.68136999,  -3.47462685,  -2.85177949,\n",
      "        -2.57644041,  -2.48759292,  -1.76643704,  -1.70139546,\n",
      "        -1.63300358,  -1.22247444]), array([-8.49363131, -8.33604754, -8.29628212, -6.96168124, -6.56806635,\n",
      "       -6.56112761, -6.09895364, -5.24921681, -4.4698805 , -4.11933235]), array([-23.37876005,  -8.75560721,  -2.47731179,  -2.23183375,\n",
      "        -1.91481242,  -1.32624092,  -1.15189832,  -1.02749243,\n",
      "        -0.98617959,  -0.95678494]), array([-24.35062813,  -3.0518183 ,  -2.4969215 ,  -1.57529517,\n",
      "        -1.52430198,  -1.51866512,  -1.51063878,  -1.29947247,\n",
      "        -1.20513123,  -1.15725482]), array([-25.51429124,  -1.94830106,  -1.91064012,  -1.86972538,\n",
      "        -1.48652876,  -1.14045236,  -0.88148804,  -0.70563928,\n",
      "        -0.65464195,  -0.59719043]), array([-20.49657394,  -4.2066034 ,  -3.533225  ,  -3.5285222 ,\n",
      "        -3.1253362 ,  -2.72049532,  -2.51339439,  -2.47996946,\n",
      "        -2.27547842,  -2.02044953]), array([-20.37956888,  -2.91729213,  -1.51541084,  -1.50385169,\n",
      "        -1.38100175,  -1.30813508,  -1.27412958,  -1.22708712,\n",
      "        -1.06831664,  -1.06604504]), array([-14.30164753, -11.10303738,  -2.12792718,  -1.64900783,\n",
      "        -1.07582937,  -1.01013957,  -0.72572726,  -0.72380697,\n",
      "        -0.7192315 ,  -0.70134158]), array([-20.37116046,  -5.50776758,  -2.48432377,  -2.31644053,\n",
      "        -2.09158814,  -2.06288626,  -1.85152805,  -1.72204541,\n",
      "        -1.41224761,  -1.38155275]), array([-20.2609734 ,  -5.95597393,  -3.96078088,  -3.24275977,\n",
      "        -2.27737615,  -2.25835765,  -1.84954744,  -1.65069824,\n",
      "        -1.5799034 ,  -1.43264657]), array([-23.0698006 ,  -5.48890149,  -4.11678111,  -3.78448297,\n",
      "        -3.30166844,  -3.03741809,  -1.41423405,  -1.38213638,\n",
      "        -1.22418334,  -0.97852836]), array([-19.4624615 ,  -5.95279422,  -5.39610232,  -4.36097802,\n",
      "        -4.17497898,  -3.53676181,  -3.20910625,  -2.74314395,\n",
      "        -2.20479941,  -1.5495663 ]), array([-17.53959378, -15.29171387,  -6.79558252,  -4.16566256,\n",
      "        -3.99813665,  -3.49682188,  -3.19206674,  -3.1229445 ,\n",
      "        -2.7988354 ,  -2.76981291]), array([-16.49700536,  -4.71876477,  -3.97420591,  -3.32503354,\n",
      "        -3.02665635,  -3.02344568,  -2.70707981,  -2.64604067,\n",
      "        -2.54956709,  -2.51203645]), array([-21.44078635,  -5.14702408,  -2.76483754,  -2.48290201,\n",
      "        -2.15764705,  -2.13495855,  -2.11307922,  -2.06740918,\n",
      "        -2.01773665,  -2.0150417 ]), array([-17.60578291,  -5.35865179,  -2.71555892,  -2.45192075,\n",
      "        -2.3212116 ,  -2.25363999,  -2.24710557,  -2.16484828,\n",
      "        -1.83618092,  -1.8335236 ]), array([-10.12288053,  -6.69855143,  -6.60197312,  -5.24432462,\n",
      "        -3.98136858,  -3.51546879,  -3.37309743,  -3.36835752,\n",
      "        -2.57095654,  -2.51140907]), array([-18.42137776,  -6.7344081 ,  -5.50824934,  -4.35533843,\n",
      "        -3.77960907,  -3.7048429 ,  -2.34763496,  -2.15845474,\n",
      "        -1.99172612,  -1.86532936]), array([-17.97720831,  -4.48706437,  -3.93006059,  -3.77292097,\n",
      "        -3.57692145,  -2.74617372,  -2.36056291,  -2.02026395,\n",
      "        -1.87177955,  -1.77359751]), array([-20.94058449,  -2.4532994 ,  -1.47126925,  -1.36856454,\n",
      "        -1.28337935,  -1.1949269 ,  -1.15543252,  -1.15407721,\n",
      "        -1.08929846,  -1.08868852])]\n"
     ]
    }
   ],
   "source": [
    "print([topic[:10] for topic in np.sort(-km)])"
   ]
  },
  {
   "cell_type": "code",
   "execution_count": 167,
   "metadata": {},
   "outputs": [
    {
     "data": {
      "text/plain": [
       "'!\"#$%&\\'()*+,-./:;<=>?@[\\\\]^_`{|}~±−'"
      ]
     },
     "execution_count": 167,
     "metadata": {},
     "output_type": "execute_result"
    }
   ],
   "source": [
    "string.punctuation + '±−'"
   ]
  },
  {
   "cell_type": "code",
   "execution_count": 147,
   "metadata": {},
   "outputs": [],
   "source": [
    "titles_vocab, titles_nmf, titles_vecs = cvec_and_nmf(titles1)"
   ]
  },
  {
   "cell_type": "code",
   "execution_count": 148,
   "metadata": {},
   "outputs": [
    {
     "name": "stdout",
     "output_type": "stream",
     "text": [
      "['effect', 'temperatur', 'matern', 'ferment', 'age', 'metabol', 'upon', 'activ', 'treatment', 'blood']\n",
      "['beef', 'heifer', 'tender', 'calv', 'muscl', 'evalu', 'system', 'bull', 'age', 'measur']\n",
      "['pig', 'grow', 'weanl', 'respons', 'meal', 'young', 'wean', 'nurseri', 'phosphorus', 'intestin']\n",
      "['growth', 'hormon', 'factor', 'insulinlik', 'rate', 'develop', 'porcin', 'bovin', 'heifer', 'muscl']\n",
      "['steer', 'rumin', 'finish', 'feedlot', 'graze', 'fed', 'grow', 'corn', 'holstein', 'pastur']\n",
      "['digest', 'rumin', 'nutrient', 'intak', 'energi', 'sheep', 'forag', 'corn', 'ferment', 'nitrogen']\n",
      "['feed', 'intak', 'effici', 'behavior', 'residu', 'valu', 'gain', 'restrict', 'select', 'bodi']\n",
      "['carcass', 'characterist', 'qualiti', 'trait', 'composit', 'meat', 'muscl', 'fat', 'pork', 'finish']\n",
      "['cattl', 'feedlot', 'dairi', 'breed', 'associ', 'evalu', 'valu', 'hereford', 'angus', 'corn']\n",
      "['perform', 'reproduct', 'feedlot', 'sow', 'characterist', 'finish', 'lactat', 'wean', 'calv', 'subsequ']\n",
      "['acid', 'fatti', 'amino', 'composit', 'tissu', 'plasma', 'volatil', 'muscl', 'adipos', 'profil']\n",
      "['protein', 'sourc', 'nitrogen', 'rumin', 'degrad', 'crude', 'synthesi', 'energi', 'muscl', 'util']\n",
      "['diet', 'fed', 'corn', 'contain', 'grain', 'meal', 'finish', 'high', 'distil', 'concentr']\n",
      "['swine', 'grow', 'nutrit', 'rate', 'select', 'corn', 'growingfinish', 'valu', 'meal', 'ration']\n",
      "['product', 'anim', 'system', 'milk', 'effici', 'breed', 'evalu', 'ewe', 'vitro', 'manag']\n",
      "['genet', 'weight', 'trait', 'bodi', 'select', 'estim', 'paramet', 'breed', 'wean', 'sheep']\n",
      "['dietari', 'level', 'influenc', 'energi', 'concentr', 'sow', 'sourc', 'fat', 'metabol', 'calcium']\n",
      "['supplement', 'forag', 'vitamin', 'meal', 'respons', 'graze', 'qualiti', 'consum', 'e', 'hay']\n",
      "['cow', 'hormon', 'dairi', 'lactat', 'postpartum', 'respons', 'milk', 'reproduct', 'calv', 'calf']\n",
      "['lamb', 'ewe', 'breed', 'sheep', 'nitrogen', 'influenc', 'ram', 'fatten', 'metabol', 'nutrit']\n"
     ]
    }
   ],
   "source": [
    "titles_km = titles_nmf.components_\n",
    "titles_topic_words = [topic[:10] for topic in np.argsort(-titles_km)]\n",
    "for i in range(20):\n",
    "     print([titles_vocab[idx].strip() for idx in titles_topic_words[i]])"
   ]
  },
  {
   "cell_type": "code",
   "execution_count": 168,
   "metadata": {},
   "outputs": [
    {
     "data": {
      "text/plain": [
       "[('Who', 'WP'), (\"'s\", 'VBZ'), ('going', 'VBG'), ('to', 'TO'), ('that', 'DT'), ('thing', 'NN'), ('today', 'NN'), ('?', '.')]"
      ]
     },
     "execution_count": 168,
     "metadata": {},
     "output_type": "execute_result"
    }
   ],
   "source": []
  },
  {
   "cell_type": "raw",
   "metadata": {},
   "source": [
    "#to do list\n",
    "1. take out ± − \n",
    "2. try just nouns and no stemming\n",
    "3. tfidi nmf\n",
    "4. what do coefficients really mean\n",
    "    a. for lda\n",
    "    b. nmf \n",
    "5. try to visualize words - word cloud\n",
    "6. read resources\n",
    "7. worth clustering? silhouette scores"
   ]
  },
  {
   "cell_type": "code",
   "execution_count": 237,
   "metadata": {},
   "outputs": [],
   "source": [
    "#  nouns\n",
    "from nltk.tokenize import word_tokenize\n",
    "from nltk.corpus import stopwords\n",
    "from nltk.stem import SnowballStemmer\n",
    "import string\n",
    "from nltk.tag import pos_tag\n",
    "\n",
    "def noun_tokenizer(text):\n",
    "\n",
    "    # remove punctuation\n",
    "    punct = string.punctuation + '±−≤'\n",
    "    remove_punct = str.maketrans('', '', punct)\n",
    "    text = text.translate(remove_punct)\n",
    "\n",
    "    # remove digits and convert to lower case\n",
    "    remove_digits = str.maketrans('', '', string.digits)\n",
    "    text = text.lower().translate(remove_digits)\n",
    "\n",
    "    # tokenize\n",
    "    tokens = word_tokenize(text)\n",
    "\n",
    "    is_noun = lambda pos: (pos == 'NN') | (pos == 'NNS') #only nouns - no proper nouns\n",
    "    nouns = [word for (word, pos) in pos_tag(tokens) if is_noun(pos)]\n",
    "    # remove stop words\n",
    "    stop_words = stopwords.words('english')\n",
    "    JAS_words = ['use', 'model', 'anim', 'method', 'result', 'kg', 'vs', 'treatment', 'mgkg', 'per', 'h', 'x']\n",
    "    stop_words.extend(JAS_words)\n",
    "    tokens_stop = [y for y in tokens if y not in stop_words]\n",
    "\n",
    "    # stem\n",
    "    #stemmer = SnowballStemmer('english')\n",
    "    #tokens_stem = [stemmer.stem(y) for y in tokens_stop] \n",
    "\n",
    "    return tokens_stop"
   ]
  },
  {
   "cell_type": "code",
   "execution_count": 221,
   "metadata": {},
   "outputs": [],
   "source": [
    "from sklearn.feature_extraction.text import CountVectorizer, TfidfVectorizer\n",
    "from gensim import corpora, models, similarities, matutils\n",
    "\n",
    "def noun_vec_and_lda(corpus):\n",
    "    '''Input: List of documents\n",
    "       Output: LDA model trained and transformed on input corpus\n",
    "       \n",
    "       Requires customer_tokenizer defined'''\n",
    "    # countvectorizing and training\n",
    "    cv = CountVectorizer(tokenizer=noun_tokenizer, max_df=0.9)\n",
    "    X_train_cv = cv.fit(corpus)\n",
    "    \n",
    "    # Create the term-document matrix\n",
    "    # Transpose it so the terms are the rows\n",
    "    counts = cv.transform(corpus).transpose()\n",
    "    \n",
    "    # gensim\n",
    "    \n",
    "    # Convert sparse matrix of counts to a gensim corpus\n",
    "    corpus = matutils.Sparse2Corpus(counts)\n",
    "    id2word = dict((v, k) for k, v in cv.vocabulary_.items())\n",
    "    \n",
    "    # Create lda model (equivalent to \"fit\" in sklearn)\n",
    "    lda = models.LdaModel(corpus=corpus, num_topics=20, id2word=id2word, passes=10)\n",
    "    return lda"
   ]
  },
  {
   "cell_type": "code",
   "execution_count": 197,
   "metadata": {},
   "outputs": [],
   "source": [
    "noun_abstract_lda = noun_vec_and_lda(abstracts1)"
   ]
  },
  {
   "cell_type": "code",
   "execution_count": 209,
   "metadata": {
    "scrolled": true
   },
   "outputs": [
    {
     "name": "stdout",
     "output_type": "stream",
     "text": [
      "0.122*\"plt\" + 0.085*\"lambs\" + 0.065*\"ewes\" + 0.018*\"lamb\" + 0.016*\"ewe\" + 0.016*\"rams\" + 0.012*\"higher\" + 0.010*\"weight\" + 0.009*\"age\" + 0.009*\"significantly\"\n",
      "0.017*\"animal\" + 0.009*\"“\" + 0.009*\"”\" + 0.008*\"production\" + 0.008*\"research\" + 0.006*\"livestock\" + 0.006*\"university\" + 0.005*\"use\" + 0.005*\"may\" + 0.005*\"work\"\n",
      "0.044*\"muscle\" + 0.028*\"fat\" + 0.024*\"tissue\" + 0.022*\"fatty\" + 0.021*\"acid\" + 0.015*\"content\" + 0.015*\"acids\" + 0.014*\"lipid\" + 0.012*\"adipose\" + 0.011*\"°\"\n",
      "0.080*\"cows\" + 0.038*\"milk\" + 0.031*\"calves\" + 0.018*\"grazing\" + 0.017*\"cow\" + 0.015*\"production\" + 0.015*\"calf\" + 0.014*\"forage\" + 0.013*\"pasture\" + 0.012*\"calving\"\n",
      "0.056*\"pigs\" + 0.029*\"diet\" + 0.029*\"fed\" + 0.019*\"diets\" + 0.016*\"dietary\" + 0.012*\"protein\" + 0.011*\"p\" + 0.010*\"levels\" + 0.010*\"increased\" + 0.010*\"meal\"\n",
      "0.012*\"cattle\" + 0.011*\"gene\" + 0.009*\"genes\" + 0.009*\"using\" + 0.008*\"animals\" + 0.008*\"genotypes\" + 0.008*\"population\" + 0.007*\"genetic\" + 0.007*\"genotype\" + 0.007*\"analysis\"\n",
      "0.096*\"p\" + 0.060*\"lt\" + 0.017*\"concentrations\" + 0.015*\"h\" + 0.014*\"n\" + 0.014*\"bw\" + 0.014*\"greater\" + 0.014*\"treatment\" + 0.013*\"vs\" + 0.010*\"×\"\n",
      "0.045*\"carcass\" + 0.040*\"fat\" + 0.027*\"weight\" + 0.015*\"body\" + 0.015*\"lean\" + 0.013*\"percentage\" + 0.012*\"carcasses\" + 0.011*\"area\" + 0.011*\"thickness\" + 0.011*\"measurements\"\n",
      "0.027*\"weight\" + 0.018*\"age\" + 0.013*\"weaning\" + 0.013*\"birth\" + 0.013*\"genetic\" + 0.011*\"effects\" + 0.011*\"traits\" + 0.011*\"selection\" + 0.011*\"breed\" + 0.008*\"data\"\n",
      "0.019*\"behavior\" + 0.018*\"horses\" + 0.017*\"time\" + 0.009*\"space\" + 0.008*\"pen\" + 0.007*\"system\" + 0.006*\"spent\" + 0.006*\"pens\" + 0.005*\"horse\" + 0.005*\"floor\"\n",
      "0.019*\"vitamin\" + 0.018*\"blood\" + 0.016*\"plasma\" + 0.015*\"mg\" + 0.013*\"levels\" + 0.013*\"acid\" + 0.013*\"concentrations\" + 0.011*\"e\" + 0.011*\"concentration\" + 0.010*\"increased\"\n",
      "0.103*\"c\" + 0.064*\"b\" + 0.042*\"boars\" + 0.015*\"testosterone\" + 0.015*\"pigs\" + 0.014*\"males\" + 0.013*\"yorkshire\" + 0.012*\"x\" + 0.010*\"duroc\" + 0.009*\"testicular\"\n",
      "0.020*\"sows\" + 0.019*\"days\" + 0.019*\"gilts\" + 0.018*\"day\" + 0.017*\"estrus\" + 0.012*\"lh\" + 0.012*\"gestation\" + 0.011*\"progesterone\" + 0.011*\"treatment\" + 0.011*\"heifers\"\n",
      "0.031*\"feed\" + 0.031*\"fed\" + 0.022*\"steers\" + 0.019*\"gain\" + 0.016*\"protein\" + 0.016*\"ration\" + 0.016*\"feeding\" + 0.016*\"intake\" + 0.015*\"energy\" + 0.013*\"daily\"\n",
      "0.012*\"animals\" + 0.009*\"method\" + 0.009*\"used\" + 0.008*\"sheep\" + 0.008*\"al\" + 0.007*\"two\" + 0.007*\"found\" + 0.007*\"data\" + 0.007*\"et\" + 0.006*\"results\"\n",
      "0.016*\"tenderness\" + 0.015*\"meat\" + 0.014*\"quality\" + 0.012*\"steaks\" + 0.012*\"p\" + 0.011*\"color\" + 0.011*\"carcasses\" + 0.011*\"beef\" + 0.010*\"lt\" + 0.010*\"values\"\n",
      "0.031*\"temperature\" + 0.023*\"heat\" + 0.021*\"pigs\" + 0.015*\"stress\" + 0.012*\"temperatures\" + 0.009*\"rate\" + 0.008*\"body\" + 0.008*\"°c\" + 0.007*\"water\" + 0.007*\"conditions\"\n",
      "0.021*\"digestibility\" + 0.013*\"diets\" + 0.012*\"n\" + 0.012*\"p\" + 0.012*\"protein\" + 0.012*\"digestion\" + 0.011*\"diet\" + 0.010*\"corn\" + 0.010*\"ruminal\" + 0.009*\"fed\"\n",
      "0.014*\"growth\" + 0.010*\"activity\" + 0.009*\"cells\" + 0.009*\"protein\" + 0.008*\"hormone\" + 0.007*\"cell\" + 0.006*\"increased\" + 0.006*\"may\" + 0.006*\"tissue\" + 0.005*\"expression\"\n",
      "0.024*\"sperm\" + 0.024*\"semen\" + 0.014*\"spermatozoa\" + 0.012*\"potassium\" + 0.011*\"phosphorus\" + 0.011*\"embryos\" + 0.009*\"bulls\" + 0.009*\"fiber\" + 0.008*\"motility\" + 0.007*\"fibers\"\n"
     ]
    }
   ],
   "source": [
    "for i in range(20):\n",
    "    print(noun_abstract_lda.print_topic(i))"
   ]
  },
  {
   "cell_type": "code",
   "execution_count": 210,
   "metadata": {},
   "outputs": [],
   "source": [
    "from sklearn.feature_extraction.text import CountVectorizer, TfidfVectorizer\n",
    "from sklearn.decomposition import NMF\n",
    "\n",
    "def noun_vec_and_nmf(corpus):\n",
    "    '''Input: List of documents\n",
    "       Output: tuple(nmf model, Nxk matrix)\n",
    "       \n",
    "       Requires customer_tokenizer defined'''\n",
    "    # countvectorizing and training\n",
    "    cv = CountVectorizer(tokenizer=noun_tokenizer, max_df=0.9)\n",
    "    X_train_cv = cv.fit_transform(corpus)\n",
    "    vocab = dict((v, k) for k, v in cv.vocabulary_.items())\n",
    "    nmf = NMF(n_components=20)\n",
    "    nmf_vecs = nmf.fit_transform(X_train_cv)\n",
    "    return vocab, nmf, nmf_vecs"
   ]
  },
  {
   "cell_type": "code",
   "execution_count": 212,
   "metadata": {},
   "outputs": [
    {
     "name": "stdout",
     "output_type": "stream",
     "text": [
      "CPU times: user 6min 53s, sys: 2.22 s, total: 6min 55s\n",
      "Wall time: 7min 41s\n",
      "['p', 'lt', 'greater', 'treatment', 'bw', 'gt', 'vs', '×', 'compar', 'effect']\n",
      "['genet', 'anim', 'use', 'effect', 'trait', 'estim', 'select', 'breed', 'correl', 'studi']\n",
      "['diet', 'fed', 'contain', 'dietari', 'meal', 'corn', 'cp', 'exp', 'ad', 'soybean']\n",
      "['pig', 'fed', 'kg', 'growth', 'perform', 'adg', 'pen', 'compar', 'bw', 'per']\n",
      "['±', 'kg', 'vs', 'respect', 'bw', 'b', 'mean', '−', 'age', 'hs']\n",
      "['weight', 'birth', 'wean', 'gain', 'kg', 'age', 'signific', 'bodi', 'litter', 'dam']\n",
      "['cow', 'milk', 'product', 'beef', 'postpartum', 'lactat', 'calf', 'bcs', 'estrus', 'pregnanc']\n",
      "['lamb', 'ewe', 'breed', 'ram', 'wean', 'fed', 'birth', 'born', 'per', 'product']\n",
      "['steer', 'fed', 'kg', 'cattl', 'corn', 'greater', 'gain', 'finish', 'graze', 'treatment']\n",
      "['feed', 'intak', 'gain', 'effici', 'daili', 'period', 'level', 'fed', 'energi', 'ad']\n",
      "['increas', 'decreas', 'level', 'linear', 'dietari', 'effect', 'quadrat', 'rate', 'product', 'chang']\n",
      "['sow', 'lactat', 'litter', 'piglet', 'wean', 'gestat', 'milk', 'farrow', 'pariti', 'size']\n",
      "['carcass', 'fat', 'muscl', 'measur', 'percentag', 'lean', 'slaughter', 'yield', 'grade', 'composit']\n",
      "['digest', 'corn', 'rumin', 'dm', 'total', 'dri', 'hay', 'forag', 'matter', 'intak']\n",
      "['supplement', 'treatment', 'bw', 'effect', 'control', 'cu', 'p', 'forag', 'vitamin', 'kg']\n",
      "['protein', 'level', 'acid', 'meal', 'signific', 'gain', 'muscl', 'ration', 'plt', 'express']\n",
      "['day', 'treatment', 'group', 'heifer', 'plt', 'control', 'estrus', 'gilt', 'rate', 'differ']\n",
      "['concentr', 'h', 'plasma', 'serum', 'sampl', 'blood', 'acid', 'glucos', 'collect', 'lh']\n",
      "['calv', 'wean', 'age', 'breed', 'heifer', 'calf', 'dam', 'bull', 'angus', 'birth']\n",
      "['n', 'urea', 'cp', 'excret', 'g', 'gd', 'intak', 'rumin', 'h', 'use']\n"
     ]
    }
   ],
   "source": [
    "%time abstracts_vocab, abstracts_nmf, abstracts_vecs = noun_vec_and_nmf(abstracts1)\n"
   ]
  },
  {
   "cell_type": "code",
   "execution_count": 215,
   "metadata": {},
   "outputs": [
    {
     "name": "stdout",
     "output_type": "stream",
     "text": [
      "['p', 'greater', 'gt', 'treatments', 'total', 'increased', 'bw', 'ca', '≤', 'compared']\n",
      "['fed', 'corn', 'diets', 'feeding', 'meal', 'hay', 'containing', 'trial', 'plt', 'grain']\n",
      "['genetic', 'traits', 'effects', 'selection', 'data', 'model', 'animal', 'using', 'cattle', 'used']\n",
      "['pigs', 'growth', 'pig', 'compared', 'age', 'control', 'performance', 'wk', 'fed', 'adg']\n",
      "['concentrations', 'plt', 'increased', 'plasma', 'serum', 'treatment', 'blood', 'levels', 'mg', 'concentration']\n",
      "['cows', 'milk', 'cow', 'calving', 'estrus', 'postpartum', 'beef', 'pregnancy', 'bcs', 'calf']\n",
      "['steers', 'cattle', 'greater', 'ruminal', 'finishing', 'corn', 'beef', 'feedlot', 'grazing', 'dm']\n",
      "['weight', 'birth', 'weaning', 'age', 'gain', 'plt', 'body', 'weights', 'kg', 'breed']\n",
      "['fat', 'carcass', 'muscle', 'carcasses', 'lean', 'percentage', 'composition', 'thickness', 'quality', 'yield']\n",
      "['feed', 'intake', 'gain', 'efficiency', 'feeding', 'energy', 'daily', 'rfi', 'period', 'level']\n",
      "['n', 'urea', 'ruminal', 'intake', 'dm', 'cp', 'total', 'digestibility', 'g', 'gd']\n",
      "['lambs', 'ewes', 'ewe', 'lamb', 'lambing', 'rams', 'age', 'greater', 'breeding', 'per']\n",
      "['heifers', 'estrus', 'pregnancy', 'treatment', 'age', 'puberty', 'greater', 'control', 'rate', 'beef']\n",
      "['sows', 'lactation', 'litter', 'gestation', 'weaning', 'sow', 'milk', 'gilts', 'piglets', 'farrowing']\n",
      "['lt', 'p', 'increased', 'greater', 'decreased', 'gt', 'vs', 'lower', '×', 'compared']\n",
      "['protein', 'meal', 'energy', 'nitrogen', 'levels', 'level', 'increased', 'digestibility', 'crude', 'soybean']\n",
      "['h', '×', 'time', 'c', 'treatment', 'samples', 'ph', 'temperature', 'min', '°c']\n",
      "['calves', 'age', 'weaning', 'calf', 'angus', '×', 'dams', 'breed', 'birth', 'bulls']\n",
      "['kg', 'bw', 'vs', 'adg', 'exp', 'respectively', '×', 'treatments', 'performance', 'growth']\n",
      "['diet', 'diets', 'dietary', 'digestibility', 'cp', 'meal', 'dm', 'total', 'basal', 'acid']\n"
     ]
    }
   ],
   "source": [
    "nmf_topic_words = [topic[:10] for topic in np.argsort(-abstracts_nmf.components_)]\n",
    "for i in range(20):\n",
    "     print([abstracts_vocab[idx].strip() for idx in nmf_topic_words[i]])"
   ]
  },
  {
   "cell_type": "code",
   "execution_count": 236,
   "metadata": {},
   "outputs": [],
   "source": [
    "from sklearn.feature_extraction.text import CountVectorizer, TfidfVectorizer\n",
    "from sklearn.decomposition import NMF\n",
    "\n",
    "def noun_tfidf_and_nmf(corpus, max_df=0.9):\n",
    "    '''Input: List of documents\n",
    "       Output: tuple(nmf model, Nxk matrix)\n",
    "       \n",
    "       Requires customer_tokenizer defined'''\n",
    "    # countvectorizing and training\n",
    "    tfidf = TfidfVectorizer(tokenizer=noun_tokenizer, max_df=max_df)\n",
    "    X_train_tfidf = tfidf.fit_transform(corpus)\n",
    "    vocab = dict((v, k) for k, v in tfidf.vocabulary_.items())\n",
    "    nmf = NMF(n_components=20)\n",
    "    nmf_vecs = nmf.fit_transform(X_train_tfidf)\n",
    "    return vocab, nmf, nmf_vecs"
   ]
  },
  {
   "cell_type": "code",
   "execution_count": 218,
   "metadata": {},
   "outputs": [
    {
     "name": "stdout",
     "output_type": "stream",
     "text": [
      "CPU times: user 6min 46s, sys: 1.79 s, total: 6min 48s\n",
      "Wall time: 7min 15s\n",
      "['p', 'lt', 'bw', 'n', 'gt', 'increased', 'greater', 'vs', 'h', 'concentrations']\n",
      "['genetic', 'selection', 'traits', 'estimates', 'maternal', 'model', 'correlations', 'heritability', 'direct', 'effects']\n",
      "['corn', 'ration', 'fed', 'rations', 'meal', 'silage', 'oil', 'grain', 'alfalfa', 'hay']\n",
      "['lh', 'concentrations', 'serum', 'h', 'plt', 'plasma', 'progesterone', 'gnrh', 'fsh', 'ngml']\n",
      "['pigs', 'fed', 'diet', 'diets', 'kg', 'pig', 'exp', 'performance', 'adg', 'growth']\n",
      "['fat', 'carcass', 'carcasses', 'lean', 'muscle', 'weight', 'thickness', 'cuts', 'percentage', 'area']\n",
      "['animal', 'production', 'research', 'cattle', 'livestock', 'science', 'university', 'animals', '“', '”']\n",
      "['ewes', 'lambs', 'ewe', 'lamb', 'lambing', 'rams', 'birth', 'suffolk', 'ram', 'breeding']\n",
      "['sows', 'lactation', 'litter', 'sow', 'milk', 'gestation', 'piglets', 'weaning', 'farrowing', 'litters']\n",
      "['cows', 'milk', 'calving', 'cow', 'postpartum', 'calf', 'bcs', 'estrus', 'pregnancy', 'beef']\n",
      "['steers', 'fed', 'cattle', 'finishing', 'grazing', 'feedlot', 'kg', 'diet', 'pasture', 'steer']\n",
      "['calves', 'weaning', 'weight', 'birth', 'age', 'calf', 'breed', 'angus', 'hereford', 'dams']\n",
      "['feed', 'energy', 'intake', 'gain', 'efficiency', 'daily', 'body', 'feeding', 'level', 'weight']\n",
      "['cu', 'zn', 'se', 'ppm', 'liver', 'mg', 'dietary', 'ca', 'copper', 'fe']\n",
      "['heifers', 'puberty', 'pregnancy', 'estrus', 'heifer', 'mga', 'age', 'breeding', 'beef', 'mo']\n",
      "['protein', 'urea', 'nitrogen', 'meal', 'amino', 'lysine', 'diets', 'soybean', 'diet', 'sbm']\n",
      "['vitamin', 'e', 'carotene', 'b', 'liver', 'αtocopherol', 'iu', 'c', 'plasma', 'serum']\n",
      "['gilts', 'estrus', 'days', 'day', 'ovulation', 'uterine', 'embryos', 'boars', 'gestation', 'number']\n",
      "['muscle', 'tissue', 'fatty', 'acid', 'adipose', 'expression', 'acids', 'cells', 'mrna', 'cell']\n",
      "['digestibility', 'ruminal', 'digestion', 'rumen', 'plt', 'forage', 'matter', 'fiber', 'hay', 'dm']\n"
     ]
    }
   ],
   "source": [
    "%time abstracts_vocab, abstracts_nmf, abstracts_vecs = noun_tfidf_and_nmf(abstracts1)\n",
    "nmf_topic_words = [topic[:10] for topic in np.argsort(-abstracts_nmf.components_)]\n",
    "for i in range(20):\n",
    "     print([abstracts_vocab[idx].strip() for idx in nmf_topic_words[i]])"
   ]
  },
  {
   "cell_type": "code",
   "execution_count": 228,
   "metadata": {},
   "outputs": [
    {
     "name": "stdout",
     "output_type": "stream",
     "text": [
      "0 ['p', 'lt', 'bw', 'n', 'gt', 'increased', 'greater', 'vs', 'h', 'concentrations', '×', 'exp', 'treatments', 'cp', 'decreased', 'kg', 'adg', 'dm', 'treatment', 'supplementation']\n",
      "1 ['genetic', 'selection', 'traits', 'estimates', 'maternal', 'model', 'correlations', 'heritability', 'direct', 'effects', 'line', 'variance', 'litter', 'data', 'lines', 'models', 'weight', 'estimated', 'records', 'size']\n",
      "2 ['corn', 'ration', 'fed', 'rations', 'meal', 'silage', 'oil', 'grain', 'alfalfa', 'hay', 'ground', 'soybean', 'feeding', 'percent', 'gains', 'dry', 'cottonseed', 'supplement', 'containing', 'per']\n",
      "3 ['lh', 'concentrations', 'serum', 'h', 'plt', 'plasma', 'progesterone', 'gnrh', 'fsh', 'ngml', 'hormone', 'treatment', 'blood', 'hr', 'estrus', 'injection', 'day', 'mares', 'min', 'mg']\n",
      "4 ['pigs', 'fed', 'diet', 'diets', 'kg', 'pig', 'exp', 'performance', 'adg', 'growth', 'wk', 'adfi', 'dietary', 'gf', 'control', 'barrows', 'age', 'phase', 'weaned', 'nursery']\n",
      "5 ['fat', 'carcass', 'carcasses', 'lean', 'muscle', 'weight', 'thickness', 'cuts', 'percentage', 'area', 'measurements', 'rib', 'yield', 'longissimus', 'loin', 'composition', 'marbling', 'quality', 'tenderness', 'slaughter']\n",
      "6 ['animal', 'production', 'research', 'cattle', 'livestock', 'science', 'university', 'animals', '“', '”', 'beef', 'state', 'work', 'use', 'agriculture', 'may', 'years', 'many', 'management', 'society']\n",
      "7 ['ewes', 'lambs', 'ewe', 'lamb', 'lambing', 'rams', 'birth', 'suffolk', 'ram', 'breeding', 'rambouillet', 'wool', 'born', 'sheep', 'weight', 'year', 'fed', 'age', 'per', 'targhee']\n",
      "8 ['sows', 'lactation', 'litter', 'sow', 'milk', 'gestation', 'piglets', 'weaning', 'farrowing', 'litters', 'parity', 'birth', 'size', 'piglet', 'weight', 'number', 'colostrum', 'reproductive', 'born', 'fed']\n",
      "9 ['cows', 'milk', 'calving', 'cow', 'postpartum', 'calf', 'bcs', 'estrus', 'pregnancy', 'beef', 'first', 'dairy', 'lactation', 'production', 'yield', 'conception', 'grazing', 'interval', 'breeding', 'condition']\n",
      "10 ['steers', 'fed', 'cattle', 'finishing', 'grazing', 'feedlot', 'kg', 'diet', 'pasture', 'steer', 'monensin', 'dmi', 'beef', 'implanted', 'trial', 'treatments', 'mg', 'greater', 'adg', 'vs']\n",
      "11 ['calves', 'weaning', 'weight', 'birth', 'age', 'calf', 'breed', 'angus', 'hereford', 'dams', 'plt', 'bulls', 'dam', 'sire', 'heterosis', 'weights', 'brahman', 'breeds', '×', 'significant']\n",
      "12 ['feed', 'energy', 'intake', 'gain', 'efficiency', 'daily', 'body', 'feeding', 'level', 'weight', 'levels', 'per', 'maintenance', 'growth', 'rate', 'rfi', 'ad', 'libitum', 'consumption', 'increased']\n",
      "13 ['cu', 'zn', 'se', 'ppm', 'liver', 'mg', 'dietary', 'ca', 'copper', 'fe', 'zinc', 'mn', 'mineral', 'diet', 'levels', 'serum', 'concentrations', 'supplemental', 'fed', 'mgkg']\n",
      "14 ['heifers', 'puberty', 'pregnancy', 'estrus', 'heifer', 'mga', 'age', 'breeding', 'beef', 'mo', 'ai', 'rates', 'treatment', 'progesterone', 'estrous', 'conception', 'cidr', 'rate', 'vs', 'first']\n",
      "15 ['protein', 'urea', 'nitrogen', 'meal', 'amino', 'lysine', 'diets', 'soybean', 'diet', 'sbm', 'cp', 'n', 'dietary', 'fed', 'acids', 'aa', 'levels', 'methionine', 'crude', 'retention']\n",
      "16 ['vitamin', 'e', 'carotene', 'b', 'liver', 'αtocopherol', 'iu', 'c', 'plasma', 'serum', 'levels', 'se', 'supplementation', 'selenium', 'blood', 'supplemental', 'deficiency', 'ration', 'concentration', 'vitamins']\n",
      "17 ['gilts', 'estrus', 'days', 'day', 'ovulation', 'uterine', 'embryos', 'boars', 'gestation', 'number', 'puberty', 'age', 'litter', 'rate', 'follicles', 'corpora', 'sperm', 'lutea', 'pregnancy', 'cl']\n",
      "18 ['muscle', 'tissue', 'fatty', 'acid', 'adipose', 'expression', 'acids', 'cells', 'mrna', 'cell', 'genes', 'glucose', 'gene', 'growth', 'insulin', 'lipid', 'activity', 'tissues', 'liver', 'skeletal']\n",
      "19 ['digestibility', 'ruminal', 'digestion', 'rumen', 'plt', 'forage', 'matter', 'fiber', 'hay', 'dm', 'dry', 'diet', 'ndf', 'starch', 'intake', 'ph', 'diets', 'alfalfa', 'n', 'total']\n"
     ]
    }
   ],
   "source": [
    "nmf_topic_words = [topic[:20] for topic in np.argsort(-abstracts_nmf.components_)]\n",
    "for i in range(20):\n",
    "     print(i, [abstracts_vocab[idx].strip() for idx in nmf_topic_words[i]])"
   ]
  },
  {
   "cell_type": "code",
   "execution_count": 230,
   "metadata": {},
   "outputs": [
    {
     "data": {
      "text/plain": [
       "array([19, 19, 12,  8,  0,  0, 13,  8,  0,  0])"
      ]
     },
     "execution_count": 230,
     "metadata": {},
     "output_type": "execute_result"
    }
   ],
   "source": [
    "abs_cluster = abstracts_vecs.argmax(axis = 1)\n",
    "abs_cluster[2200:2210]"
   ]
  },
  {
   "cell_type": "code",
   "execution_count": 231,
   "metadata": {},
   "outputs": [
    {
     "name": "stdout",
     "output_type": "stream",
     "text": [
      "0 Amaranth (Amaranthus sp.) is a C4 plant adapted to poor soils and regions with limited rainfall and high temperatures. The plant is characterized by a yield of up to 85 t/ha, CP concentration of up to 28.5% of DM, and DM digestibility of 59 to 79%, which may vary depending on the species and variety. The potential of this plant as a forage source for ruminants has not been completely considered. This study aimed at assessing the nutritive value of silages from corn (Zea mays), 2 amaranth (Amaranthus hypochondriacus) varieties (var. Kharkovskiy and Sem), and an amaranth–corn combination by chemical composition, silage fermentation characteristics, in vivo digestibility, and in situ DM degradability. Treatments evaluated were ensiled corn var. hybrid SC 704 (EC), ensiled amaranth var. Kharkovskiy (EK), ensiled amaranth var. Sem (ES), ensiled corn–amaranth var. Kharkovskiy mixture, and ensiled corn–amaranth var. Sem mixture. Five sheep were used in a 5 × 5 Latin square design experiment to determine in vivo digestibility. The nylon bag technique was used to determine the in situ DM degradability using 3 ruminally fistulated sheep. Compared with EK, ES had greater ash-free NDF (NDFom) and CP concentrations. In comparison with EC, the ensiled amaranths and corn–amaranth mixtures had a greater (P &lt; 0.001) concentration of CP but less concentrations of NDFom, ADL (P &lt; 0.001), and water-soluble carbohydrates (P = 0.034). Silage pH and ammonia-N concentration were the least (P &lt; 0.001) for EC and greatest for ES. The EC had greater (P &lt; 0.001) concentrations of lactic and acetic acids but less (P &lt; 0.001) concentrations of propionic and butyric acids compared with the other silages. The in vivo DM digestibility (P = 0.035) and ME (P = 0.030) of EK and ES were greater than those of EC. Effective degradability of DM in EK and ES was less (P &lt; 0.001) than with the other silages. Overall, mixing amaranth with corn improved concentration of CP and digestibility of the mixed corn–amaranth silages and has the potential of completing corn in ruminant diets.\n",
      "1 Two experiments determined effects of collection and preparation techniques on nutrient composition of masticate samples from esophageally fistulated cattle. In Exp. 1, 12 esophageally fistulated cattle were maintained on 2 precollection diets, high CP (24% CP; n = 6) or low CP (7.7% CP; n = 6), for 8 d. On d 9, the esophageal plug was removed, screen bottom bags were attached, and each cow was offered fresh grass. Immediately after fresh grass sample collection was complete, dry grass (hay) was offered and a sample was collected. Blood samples were collected and analyzed for serum urea nitrogen concentration. Masticate samples of both fresh and dry grass were divided and each was either squeezed by hand until no more saliva could be removed or remained unsqueezed. In Exp. 2, 10 esophageally fistulated cattle were fitted with either screen (n = 5) or solid (n = 5) bottom collection bags after removal of the esophageal plug and presented grass hay, fresh grass, alfalfa hay, or fresh alfalfa. In Exp. 1, the precollection diet did not affect (P = 0.49) CP content of masticate even though serum urea nitrogen tended to be greater (P = 0.08) for high- vs. low-CP precollection diets. Forage harvest type offered (fresh vs. hay) interacted (P = 0.01) with preparation technique (squeezed vs. unsqueezed) for CP, where CP decreased in squeezed fresh samples (P &lt; 0.001) but not in squeezed grass hay samples (P = 0.98). In Exp. 2, ingestion greatly increased levels of ash (P &lt; 0.001). Crude protein was greater (P &lt; 0.004) before ingestion for all samples except grass hay (P = 0.43). Levels of NDF were similar before and after ingestion (P &gt; 0.15) for all samples except fresh alfalfa, which was greater after ingestion (P = 0.002). Ingestion status did not affect in vitro OM disappearance (IVOMD; P &gt; 0.34) except for grass hay, which was greater after ingestion (P &lt; 0.001). Bag type (screen vs. solid) did not affect ash and NDF (P &gt; 0.31), except for fresh alfalfa, which were greater (P &lt; 0.03) for solid bottom bags. Bag type did not affect alfalfa CP (P = 0.71) but did affect grass CP, which was lower (P = 0.02) for solid bottom bags. Bag type did not affect IVOMD (P &gt; 0.33). More (P = 0.01) fresh forage than hay was recovered through the esophageal opening. Previous diet did not impact masticate samples but squeezing impacted CP levels of high-quality forage and therefore should not be performed. Nutrient values should be reported on an OM basis.\n",
      "2 Forty-eight lowland lambs were used in a completely randomized design (23-d period) with a factorial arrangement of treatments: 2 breeds (Highlander vs. Texel) × 3 sexes (female vs. intact male vs. wether) × 2 diets (fresh grass vs. fresh grass plus 0.5 kg/d pelleted concentrate). Animals (n = 48) were approximately 5 mo old and 36 ± 5.0 kg BW at the commencement of the study with 4 lambs for each breed–sex–diet combination. Fresh grass was harvested daily from the first regrowth of perennial ryegrass sward and offered ad libitum with a similar growth stage throughout the experiment. The animals were individually housed in pens and fed experimental diets for 19 d before being transferred to individual calorimeter chambers for a further 4 d with feed intake, fecal and urine outputs, and methane (CH4) emissions measured. Lambs offered 0.5 kg/d concentrate had greater DM and energy (i.e., GE, DE and ME) intake, BW, and CH4 production (g/d) and greater N intake, fecal and manure N outputs, and fecal N per N intake than those given only fresh grass (P &lt; 0.05). However, diets had no effect on CH4 emission rates (i.e., CH4/DMI [P = 0.408] and CH4 energy/GE intake [P = 0.821]). Texels produced more CH4/DMI (g/kg) than Highlanders (P = 0.044), and sex had no effect on CH4/DMI (g/kg; P = 0.101). Neither breed nor sex had an effect on N utilization efficiency (P &gt; 0.05). The results reflected that high-quality forages may play a role similar to concentrate in mitigation of enteric CH4 emissions. The effects of sex and breed on rumen function require further investigation to understand relationships with CH4 emissions and N excretion in sheep.\n",
      "3 Large profit losses in the swine industry can be attributed to morbidity and mortality of piglets before weaning, especially in the low birth weight (LBW) piglet. Recent evidence suggests sow's milk contains insufficient concentrations of Arg to support optimal growth and health of piglets. Therefore, our objective was to assess global metabolomic profiles and the potential for Arg supplementation to promote growth of LBW (≤0.9 kg BW) and average birth weight (ABW; 1.3 to 1.5 kg BW) piglets. Piglets were selected in littermate pairs at processing to receive either LArg or an isonitrogenous control (LAla) and weighed daily to assess growth rate, and blood was collected at approximately 16 d of age for metabolomics analysis. In terms of growth, LBW and ABW piglets supplemented with Arg weighed 22.3 and 12.7% less, respectively, at d 16 compared with Ala-supplemented piglets of the same birth weight group. Overall, differences (P &lt; 0.05) were observed among treatments for metabolic pathways involving energy (i.e., tricarboxylic acid cycle intermediates), AA, nucleotides, and fatty acids. Increased nucleotide turnover, indicative of an increase in DNA damage and cell death, was particularly noted in the LBW piglet. However, Arg supplementation reduced these effects to levels comparable to those observed in ABW piglets. Moreover, changes in glucose metabolism suggested a compromised ability to extract energy from dietary sources may have occurred in the LBW piglet, but these effects were partially recovered by Arg supplementation. We conclude that a reduction in the growth potential of LBW piglets may be associated with alterations in multiple metabolic pathways, and further reduction due to Arg supplementation may have resulted from perturbations in multiple metabolic pathways.\n",
      "4 A cooperative study comprising growth performance, bone mineralization, and nutrient balance experiments was conducted at 11 stations to determine the standardized total-tract digestible (STTD) P requirement of 20-kg pigs using broken-line regression analysis. Monocalcium phosphate and limestone were added to a corn–soybean meal–based diet at the expense of cornstarch to establish 6 concentrations of STTD P from 1.54 to 5.15 g/kg in increments of 0.62 g/kg at a constant Ca:total P of 1.52:1.0. Diets were fed to 936 pigs (average initial BW of 19 kg) in 240 pens for 20 replicate pens of barrows and 20 replicate pens of gilts per diet. As STTD P increased from 1.54 to 5.15 g/kg of the diet for d 0 to 14, 14 to 28, and 0 to 28, the ADG, ADFI, and G:F increased (P &lt; 0.01). Barrows gained and ate more (P &lt; 0.05) than gilts during d 14 to 28 and 0 to 28. There was no interaction between sex and STTD P concentration for any of the growth performance response criteria. There were both linear and quadratic increases (P &lt; 0.05) in mineral density and content of ash, Ca, and P in the femur expressed as a percentage of dry, fat-free metacarpal as dietary STTD P increased. Furthermore, the maximum load of the femur and mineral density and content and maximum load as well as the Ca and P expressed as a percentage of metacarpal ash linearly increased (P &lt; 0.01) with increasing dietary concentrations of STTD P. There were both linear and quadratic increases (P &lt; 0.01) in apparent digestibility and retention of P with increasing concentrations of STTD P in the diets. Digestibility and retention of Ca linearly (P &lt; 0.01) increased with increasing dietary concentrations of STTD P. Breakpoints determined from nonlinear broken-line regression analyses revealed estimates of 4.20 ± 0.102, 3.20 ± 0.036, or 3.87 ± 0.090 g/kg for ADG during d 0 to 14, 14 to 28, or 0 to 28, respectively. Corresponding estimates using G:F as the response criterion were 4.34 ± 0.146, 3.38 ± 0.139, or 4.08 ± 0.195 g/kg. When mineralization of the femur was used as criteria of response, estimates of STTD P requirement were 4.28, 4.28, or 4.34, g/kg for mineral density, mineral content, or maximum load, respectively. Using mineralization of the metacarpal as criteria of response, estimates of STTD P requirement ranged from 3.5 to 5.0 g/kg depending on the metacarpal response criteria. The study provided empirical estimates of STTD P requirements of 20- to 40-kg pigs.\n",
      "5 Inorganic P is often added to growing horse diets because organic P, or phytate-P, is believed to have lower digestibility. If horses can efficiently digest organic P, then the need for inorganic P may be reduced. Much of the P in grain-based concentrates fed to growing horses is in the form of phytate-P. Little is known about the ability of growing horses to degrade phytate-P or whether horse age affects mineral digestion in horses. The objective of this study was to examine the effect of age on P, Ca, and Mg digestibility as well as phytate-P degradation. Four yearling geldings and 4 mature geldings were fed a diet of alfalfa cubes, timothy cubes, and a pelleted concentrate. The diet contained 0.28% total P and 17.4% of that P was in the phytate form. There was a 14-d diet adaptation period followed by a 4-d fecal collection period. Apparent total tract P digestibility was higher for yearlings than mature geldings (P = 0.036; 7.7 and −6.6% for yearlings and mature geldings, respectively). Phytate-P disappearance was 94.8% and did not differ between ages (P = 0.190). Apparent Ca digestibility was lower in mature geldings (P = 0.043), but apparent Mg digestibility did not differ between ages (P = 0.414). Phytate is broken down in the gastrointestinal tract, but the low P digestibilities suggest that either degradation occurs after the site of P absorption or liberated P is recycled back into the gastrointestinal tract. Yearlings can utilize organic P as well as mature horses; therefore, diets without inorganic P are acceptable for growing horses.\n",
      "6 To investigate whether supplementing manganese (Mn) to the maternal diet could reduce the deleterious effect of heat stress on the developing embryo, the hatchability, antioxidant status, and expression of heat shock proteins (HSP) were evaluated in chick embryos under normal and high incubation temperatures. A completely randomized design (n = 6) with 2 maternal dietary Mn treatments (unsupplemented control basal diet versus the basal diet + 120 mg Mn/kg as inorganic Mn) × 2 incubation temperatures (normal, 37.8°C, versus high, 39.0°C) was used. High incubation temperature did not affect (P &gt; 0.19) hatchability and embryo mortality and development but did increase (P &lt; 0.05) activities of heart manganese superoxide dismutase (MnSOD) and liver copper zinc superoxide dismutase and liver MnSOD mRNA and protein levels in embryos. High incubation temperature also decreased (P &lt; 0.003) HSP70 protein level in the heart but had no effects (P &gt; 0.07) in the liver of embryos. Maternal diet with Mn supplementation not only increased (P &lt; 0.05) the hatchability and Mn content (P &lt; 0.001) in the yolk and embryonic tissues and the activity of MnSOD in the heart (P &lt; 0.004) as well as relative liver weight (P &lt; 0.05) under normal incubation temperature but also decreased (P ≤ 0.05) embryo mortality and HSP90 mRNA level in the liver and heart of embryos. Furthermore, under high incubation temperature, maternal diet Mn supplementation increased (P &lt; 0.002) MnSOD protein expression in the liver of embryos but had no effect (P &gt; 0.43) under normal incubation temperature. These results indicated that high incubation temperature induced self-protective responses of chick embryos with a modification of antioxidant status and a depression of HSP70 protein level. Maternal dietary supplementation of Mn could improve the hatchability as well as antioxidant ability to protect against heat challenge in embryos during incubation.\n",
      "7 Three experiments were conducted to evaluate the feeding of dried distillers' grains with solubles (DDGS) in sow lactation diets. In Exp. 1, 168 multiparous sows (PIC, Camborough 22) were fed a 10% DDGS diet throughout gestation. Sows were randomly allotted to 1 of 4 corn–soybean meal lactation diets formulated to contain different levels of DDGS (0, 10, 20, and 30%, respectively). All diets were formulated to be isocaloric (3.46 Mcal ME/kg) and all other nutrients exceeded NRC (1998) nutrient recommendations. Sow ADFI was not different (P &gt; 0.10) as DDGS level increased. Increasing DDGS resulted in a linear (P &lt; 0.03) increase in sow weight gain (7.5, 11.3, 20.3, and 17.2 kg, respectively) and a reduction in wean-to-first-service interval (7.1, 5.2, 5.0, and 4.9 d, respectively). Increasing DDGS did not affect subsequent total born per litter (13.7, 12.8, 13.3, and 12.3, respectively; P &gt; 0.10). In Exp. 2 and 3, lactation diets consisted of corn and 20, 30, 40, or 50% DDGS. Diets were formulated at 3.25 Mcal ME/kg, 1.05% standardized ileal digestible lysine, and all other nutrients to exceed NRC (1998) nutrient recommendations. In both experiments, sows (PIC, Camborough) were fed 40% DDGS in gestation and allocated to a randomized complete block based on the parity of the sow at the time of entry into the farrowing house. In Exp. 2, 256 gilts and multiparous sows were fed the randomly assigned diets. As DDGS inclusion increased, sow feed intake (6.2, 6.2, 6.0, and 5.9 kg/d, respectively) and sow weight gain (10.5, 10.3, 8.2, and 6.2 kg, respectively) tended to linearly decrease (P &lt; 0.06). Sow wean to estrus differed between 20 and 30% DDGS inclusion (4.9 vs. 6.9 d; P &lt; 0.01). Litter gain was not different (2.55, 2.53, 2.51, and 2.59 kg/d, respectively; P &gt; 0.10) as DDGS inclusion increased. In Exp. 3, 98 multiparous sows were randomly allotted to 1 of the 4 experimental diets during the summer months. Sow feed intake, sow weight gain, and litter gain were not different (P &gt; 0.10) between treatments. The data suggest that feeding high levels of DDGS of 40 to 50% may reduce sow feed intake and litter performance. These results demonstrate that feeding up to 30% DDGS in lactation diets can be done without adversely influencing sow or litter performance.\n",
      "8 The objective of this study was to determine the true digestible P requirement of 40- to 60-kg (Exp. 1) and 60- to 80-kg (Exp. 2) pigs by broken-line analysis of growth performance data using 6 levels of true digestible P. In each 3-wk experiment, 108 barrows and gilts were used, and 6 levels of monocalcium phosphate were added to a corn-soybean meal-based diet to establish 6 graded levels of true total tract digestible P ranging from 1.26 to 3.98 g/kg of diet in Exp. 1 or from 1.21 to 3.31 g/kg in Exp. 2. The true digestible P content was calculated using true total tract digestibility of 40.53%, 35.96%, and 84.31% for P in corn, soybean meal, and monocalcium phosphate, respectively. Limestone was added accordingly to maintain a constant Ca level across all diets of each experiment. The results of Exp. 1 showed that with graded supplementation of monocalcium phosphate, ADG linearly increased (P &lt; 0.001) in wk 1 and both linearly and quadratically increased (P &lt; 0.01) in wk 2, wk 3, and wk 0 to 3, and G:F linearly improved (P &lt; 0.001) in wk 1, quadratically improved (P &lt; 0.05) in wk 3, and both linearly and quadratically improved (P &lt; 0.05) in wk 2 and wk 0 to 3 (P &lt; 0.05). In Exp. 2, ADG linearly increased (P &lt; 0.001) in wk 1 and both linearly and quadratically increased (P &lt; 0.05) in wk 2, wk 3, and wk 0 to 3, with the graded supplementation of monocalcium phosphate, and G:F linearly improved (P &lt; 0.01) in wk 1 and wk 3 and both linearly and quadratically improved (P &lt; 0.001) in wk 2 and wk 0 to 3. In Exp. 1, the true digestible P requirement was estimated to be 2.66, 2.79, and 2.51 g/kg of diet (884 g DM/kg) for pigs of mixed sex, barrows, and gilts, respectively, on the basis of broken-line regression of ADG data for wk 0 to 3 against 6 true digestible P levels. Using G:F, the P requirement estimate was correspondingly 2.67, 2.51, and 2.93 g/kg of diet. In Exp. 2, the true digestible P requirement was estimated to be 2.29, 2.20, and 2.39 g/kg of diet (884 g DM/kg) using ADG data for wk 0 to 3 as the response variable and to be 2.33, 2.19, and 2.47 g/kg using wk 0 to 3 G:F data for pigs of mixed sex, barrows, and gilts, respectively. In conclusion, the mean TTTD-based P requirement was 2.66 and 2.31 g/kg of diet (884 g DM/kg) for 40- to 60-kg and 60- to 80-kg pigs, respectively.\n",
      "9 The main objective was to determine the nitrogen and P retention and energy digestibility of immunological castrates (IC), entire males (EM), physical castrates (PC), and gilts (G) during 3 growth phases. A second objective was to compare growth performance among the sexes. The final objective was to determine the carcass iodine value (IV) among the sexes. Twelve individually housed pigs (PIC 337 × C22/29) of each sex with an initial mean BW of 35.7 ± 0.6 kg and a final BW of 145.0 ± 1.3 kg were evaluated. Anti-gonadotropin-releasing factor injections were administered at d 23 and 15 for groups 1 and 2, respectively. The second injection was given on d 56 of the 98-d experiment. Nitrogen, P, and energy digestibility were measured the last 3 d of the 10-d metabolism period starting at mean BW of 39.5 ± 0.6, 73.7 ± 0.8, and 105.5 ± 0.9 kg for periods 1, 2, and 3, respectively. The third collection started 14 d after the second injection. Entire males and IC had superior overall ADG compared to PC and G (P &lt; 0.05). Entire males and G had the lowest overall ADFI, and PC had the greatest, with IC being intermediate (P &lt; 0.05). Entire males were overall the most efficient, followed by IC, with PC and G being the least efficient (P &lt; 0.05). Immunological castrates and EM had similar nitrogen retention (g/d) for the first 2 collection periods (P &gt; 0.05). In the third collection period, nitrogen retention of IC was similar to that of both EM and PC (P &lt; 0.05). Phosphorus retained (g/d) was not different among the sexes in the first collection; during the second collection, EM retained the greatest amount of P, G and PC retained the lowest, with IC being similar to all sexes. For the third collection, IC had P retention similar to that of EM, EM had retention similar to that of PC, and PC had retention similar to that of G (P &gt; 0.05). However, G retained less P than EM or IC (P &lt; 0.05). Apparent total tract digestibility of DM and GE and the DE of the diet did not differ among the sexes in any of the collection periods (P &gt; 0.05). The jowl IV was the lowest in IC and PC and highest in EM, with G being similar to all sexes (P &lt; 0.05). For the belly, EM had the highest IV, with the other 3 sexes being similar. In conclusion, 2 wk after the second injection, IC transition to become more similar to PC in terms of nitrogen utilization but are still similar to EM in P utilization. These data suggest a feeding program for IC that is intermediate between EM and PC is required to meet their nutritional requirements.\n"
     ]
    }
   ],
   "source": [
    "for i, title in enumerate(abstracts1[2200:2210]):\n",
    "    print(i, title)"
   ]
  },
  {
   "cell_type": "code",
   "execution_count": 235,
   "metadata": {},
   "outputs": [
    {
     "data": {
      "text/plain": [
       "6     3082\n",
       "18    2307\n",
       "19    2221\n",
       "1     1903\n",
       "4     1824\n",
       "12    1564\n",
       "15    1383\n",
       "7     1381\n",
       "5     1377\n",
       "11    1190\n",
       "10    1159\n",
       "9     1153\n",
       "2     1138\n",
       "3     1041\n",
       "17    1040\n",
       "8      894\n",
       "14     752\n",
       "0      743\n",
       "13     687\n",
       "16     573\n",
       "dtype: int64"
      ]
     },
     "execution_count": 235,
     "metadata": {},
     "output_type": "execute_result"
    }
   ],
   "source": [
    "pd.Series(abs_cluster).value_counts()"
   ]
  },
  {
   "cell_type": "code",
   "execution_count": 238,
   "metadata": {
    "scrolled": true
   },
   "outputs": [
    {
     "name": "stdout",
     "output_type": "stream",
     "text": [
      "CPU times: user 5min 59s, sys: 1.68 s, total: 6min 1s\n",
      "Wall time: 8min 2s\n",
      "['p', 'lt', 'n', 'bw', 'increased', 'gt', 'greater', 'concentrations', '×', 'cp']\n",
      "['calves', 'weaning', 'weight', 'age', 'birth', 'calf', 'breed', 'angus', 'hereford', 'dams']\n",
      "['corn', 'digestibility', 'ruminal', 'hay', 'digestion', 'matter', 'rumen', 'dry', 'alfalfa', 'dm']\n",
      "['lh', 'plt', 'progesterone', 'estrus', 'concentrations', 'day', 'serum', 'days', 'gnrh', 'fsh']\n",
      "['pigs', 'fed', 'diet', 'diets', 'pig', 'exp', 'performance', 'adg', 'growth', 'wk']\n",
      "['fat', 'carcass', 'lean', 'weight', 'thickness', 'carcasses', 'cuts', 'percentage', 'composition', 'measurements']\n",
      "['ewes', 'lambs', 'ewe', 'lamb', 'lambing', 'rams', 'birth', 'suffolk', 'ram', 'breeding']\n",
      "['animal', 'production', 'research', 'livestock', 'science', 'cattle', 'university', 'animals', '“', '”']\n",
      "['sows', 'lactation', 'litter', 'sow', 'milk', 'gestation', 'piglets', 'weaning', 'farrowing', 'litters']\n",
      "['cows', 'milk', 'calving', 'cow', 'postpartum', 'calf', 'bcs', 'pregnancy', 'beef', 'estrus']\n",
      "['steers', 'fed', 'cattle', 'finishing', 'grazing', 'feedlot', 'pasture', 'steer', 'corn', 'diet']\n",
      "['cu', 'zn', 'se', 'ppm', 'liver', 'mg', 'dietary', 'ca', 'copper', 'fe']\n",
      "['feed', 'energy', 'intake', 'gain', 'efficiency', 'ration', 'feeding', 'daily', 'level', 'body']\n",
      "['genetic', 'selection', 'traits', 'estimates', 'maternal', 'correlations', 'heritability', 'direct', 'effects', 'line']\n",
      "['heifers', 'puberty', 'pregnancy', 'heifer', 'estrus', 'mga', 'age', 'breeding', 'mo', 'beef']\n",
      "['protein', 'meal', 'urea', 'nitrogen', 'soybean', 'amino', 'lysine', 'diets', 'sbm', 'diet']\n",
      "['vitamin', 'e', 'carotene', 'b', 'liver', 'αtocopherol', 'ration', 'iu', 'serum', 'plasma']\n",
      "['gilts', 'embryos', 'estrus', 'boars', 'gestation', 'uterine', 'puberty', 'age', 'ovulation', 'number']\n",
      "['acid', 'fatty', 'tissue', 'adipose', 'acids', 'glucose', 'expression', 'muscle', 'insulin', 'plasma']\n",
      "['steaks', 'tenderness', 'muscle', 'shear', 'postmortem', 'carcasses', 'force', 'muscles', 'meat', 'color']\n"
     ]
    }
   ],
   "source": [
    "%time abstracts_vocab, abstracts_nmf, abstracts_vecs = noun_tfidf_and_nmf(abstracts1, max_df=0.8)\n",
    "nmf_topic_words = [topic[:10] for topic in np.argsort(-abstracts_nmf.components_)]\n",
    "for i in range(20):\n",
    "     print([abstracts_vocab[idx].strip() for idx in nmf_topic_words[i]])"
   ]
  },
  {
   "cell_type": "code",
   "execution_count": null,
   "metadata": {},
   "outputs": [],
   "source": [
    "\"Three experiments were conducted to evaluate the feeding of dried distillers' grains with solubles (DDGS) in sow lactation diets. In Exp. 1, 168 multiparous sows (PIC, Camborough 22) were fed a 10% DDGS diet throughout gestation. Sows were randomly allotted to 1 of 4 corn–soybean meal lactation diets formulated to contain different levels of DDGS (0, 10, 20, and 30%, respectively). All diets were formulated to be isocaloric (3.46 Mcal ME/kg) and all other nutrients exceeded NRC (1998) nutrient recommendations. Sow ADFI was not different (P &gt; 0.10) as DDGS level increased. Increasing DDGS resulted in a linear (P &lt; 0.03) increase in sow weight gain (7.5, 11.3, 20.3, and 17.2 kg, respectively) and a reduction in wean-to-first-service interval (7.1, 5.2, 5.0, and 4.9 d, respectively). Increasing DDGS did not affect subsequent total born per litter (13.7, 12.8, 13.3, and 12.3, respectively; P &gt; 0.10). In Exp. 2 and 3, lactation diets consisted of corn and 20, 30, 40, or 50% DDGS. Diets were formulated at 3.25 Mcal ME/kg, 1.05% standardized ileal digestible lysine, and all other nutrients to exceed NRC (1998) nutrient recommendations. In both experiments, sows (PIC, Camborough) were fed 40% DDGS in gestation and allocated to a randomized complete block based on the parity of the sow at the time of entry into the farrowing house. In Exp. 2, 256 gilts and multiparous sows were fed the randomly assigned diets. As DDGS inclusion increased, sow feed intake (6.2, 6.2, 6.0, and 5.9 kg/d, respectively) and sow weight gain (10.5, 10.3, 8.2, and 6.2 kg, respectively) tended to linearly decrease (P &lt; 0.06). Sow wean to estrus differed between 20 and 30% DDGS inclusion (4.9 vs. 6.9 d; P &lt; 0.01). Litter gain was not different (2.55, 2.53, 2.51, and 2.59 kg/d, respectively; P &gt; 0.10) as DDGS inclusion increased. In Exp. 3, 98 multiparous sows were randomly allotted to 1 of the 4 experimental diets during the summer months. Sow feed intake, sow weight gain, and litter gain were not different (P &gt; 0.10) between treatments. The data suggest that feeding high levels of DDGS of 40 to 50% may reduce sow feed intake and litter performance. These results demonstrate that feeding up to 30% DDGS in lactation diets can be done without adversely influencing sow or litter performance.\""
   ]
  },
  {
   "cell_type": "code",
   "execution_count": 239,
   "metadata": {},
   "outputs": [
    {
     "name": "stdout",
     "output_type": "stream",
     "text": [
      "CPU times: user 5min 50s, sys: 1.54 s, total: 5min 51s\n",
      "Wall time: 6min 27s\n",
      "['p', 'lt', 'n', 'bw', 'gt', 'increased', 'greater', 'concentrations', '×', 'cp']\n",
      "['calves', 'weaning', 'weight', 'age', 'birth', 'calf', 'breed', 'angus', 'hereford', 'dams']\n",
      "['corn', 'digestibility', 'ruminal', 'hay', 'digestion', 'rumen', 'matter', 'dry', 'alfalfa', 'dm']\n",
      "['gilts', 'estrus', 'days', 'day', 'ovulation', 'uterine', 'embryos', 'boars', 'gestation', 'number']\n",
      "['pigs', 'fed', 'diet', 'diets', 'pig', 'exp', 'performance', 'adg', 'growth', 'wk']\n",
      "['fat', 'carcass', 'carcasses', 'lean', 'muscle', 'weight', 'thickness', 'cuts', 'percentage', 'area']\n",
      "['ewes', 'ewe', 'lambing', 'rams', 'lamb', 'estrus', 'breeding', 'days', 'fertility', 'season']\n",
      "['animal', 'production', 'research', 'cattle', 'livestock', 'science', 'university', 'animals', '“', '”']\n",
      "['sows', 'lactation', 'litter', 'sow', 'milk', 'gestation', 'piglets', 'weaning', 'farrowing', 'litters']\n",
      "['cows', 'milk', 'calving', 'cow', 'postpartum', 'bcs', 'estrus', 'calf', 'pregnancy', 'beef']\n",
      "['steers', 'fed', 'cattle', 'finishing', 'grazing', 'feedlot', 'pasture', 'steer', 'diet', 'corn']\n",
      "['lh', 'plt', 'concentrations', 'serum', 'plasma', 'gnrh', 'progesterone', 'fsh', 'hormone', 'ngml']\n",
      "['feed', 'energy', 'intake', 'gain', 'efficiency', 'daily', 'ration', 'feeding', 'body', 'level']\n",
      "['genetic', 'selection', 'traits', 'estimates', 'maternal', 'correlations', 'heritability', 'direct', 'effects', 'line']\n",
      "['heifers', 'puberty', 'estrus', 'pregnancy', 'heifer', 'mga', 'age', 'beef', 'progesterone', 'breeding']\n",
      "['protein', 'meal', 'urea', 'nitrogen', 'amino', 'soybean', 'lysine', 'diets', 'diet', 'sbm']\n",
      "['vitamin', 'e', 'carotene', 'b', 'liver', 'αtocopherol', 'ration', 'iu', 'serum', 'c']\n",
      "['cu', 'zn', 'se', 'ppm', 'liver', 'mg', 'dietary', 'ca', 'copper', 'fe']\n",
      "['lambs', 'lamb', 'ewe', 'fed', 'birth', 'age', 'ram', 'wether', 'suffolk', 'rams']\n",
      "['muscle', 'tissue', 'acid', 'fatty', 'adipose', 'expression', 'acids', 'cells', 'mrna', 'cell']\n"
     ]
    }
   ],
   "source": [
    "%time abstracts_vocab, abstracts_nmf, abstracts_vecs = noun_tfidf_and_nmf(abstracts1, max_df=0.85)\n",
    "nmf_topic_words = [topic[:10] for topic in np.argsort(-abstracts_nmf.components_)]\n",
    "for i in range(20):\n",
    "     print([abstracts_vocab[idx].strip() for idx in nmf_topic_words[i]])"
   ]
  },
  {
   "cell_type": "code",
   "execution_count": 240,
   "metadata": {},
   "outputs": [
    {
     "name": "stdout",
     "output_type": "stream",
     "text": [
      "['p', 'lt', 'n', 'bw', 'gt', 'increased', 'greater', 'concentrations', '×', 'cp', 'exp', 'treatments', 'decreased', 'dm', 'supplementation', 'adg', 'dietary', 'intake', 'ca', 'con']\n",
      "['calves', 'weaning', 'weight', 'age', 'birth', 'calf', 'breed', 'angus', 'hereford', 'dams', 'plt', 'bulls', 'dam', 'sire', 'heterosis', 'weights', 'brahman', '×', 'breeds', 'significant']\n",
      "['corn', 'digestibility', 'ruminal', 'hay', 'digestion', 'rumen', 'matter', 'dry', 'alfalfa', 'dm', 'plt', 'fiber', 'diets', 'forage', 'silage', 'starch', 'fed', 'diet', 'grain', 'ndf']\n",
      "['gilts', 'estrus', 'days', 'day', 'ovulation', 'uterine', 'embryos', 'boars', 'gestation', 'number', 'puberty', 'age', 'follicles', 'rate', 'litter', 'corpora', 'lutea', 'cl', 'barrows', 'estrous']\n",
      "['pigs', 'fed', 'diet', 'diets', 'pig', 'exp', 'performance', 'adg', 'growth', 'wk', 'adfi', 'gf', 'dietary', 'control', 'barrows', 'age', 'phase', 'containing', 'weaned', 'ddgs']\n",
      "['fat', 'carcass', 'carcasses', 'lean', 'muscle', 'weight', 'thickness', 'cuts', 'percentage', 'area', 'measurements', 'rib', 'yield', 'longissimus', 'composition', 'loin', 'marbling', 'quality', 'tenderness', 'slaughter']\n",
      "['ewes', 'ewe', 'lambing', 'rams', 'lamb', 'estrus', 'breeding', 'days', 'fertility', 'season', 'day', 'ovulation', 'number', 'wool', 'estrous', 'suffolk', 'rambouillet', 'pregnancy', 'lambed', 'mating']\n",
      "['animal', 'production', 'research', 'cattle', 'livestock', 'science', 'university', 'animals', '“', '”', 'beef', 'state', 'work', 'agriculture', 'years', 'may', 'many', 'management', 'society', 'industry']\n",
      "['sows', 'lactation', 'litter', 'sow', 'milk', 'gestation', 'piglets', 'weaning', 'farrowing', 'litters', 'parity', 'birth', 'size', 'piglet', 'weight', 'number', 'colostrum', 'reproductive', 'born', 'fed']\n",
      "['cows', 'milk', 'calving', 'cow', 'postpartum', 'bcs', 'estrus', 'calf', 'pregnancy', 'beef', 'first', 'dairy', 'lactation', 'production', 'yield', 'interval', 'grazing', 'conception', 'condition', 'ai']\n",
      "['steers', 'fed', 'cattle', 'finishing', 'grazing', 'feedlot', 'pasture', 'steer', 'diet', 'corn', 'monensin', 'beef', 'dmi', 'trial', 'greater', 'adg', 'implanted', 'treatments', 'mg', 'angus']\n",
      "['lh', 'plt', 'concentrations', 'serum', 'plasma', 'gnrh', 'progesterone', 'fsh', 'hormone', 'ngml', 'blood', 'hr', 'day', 'injection', 'mares', 'min', 'testosterone', 'mg', 'days', 'secretion']\n",
      "['feed', 'energy', 'intake', 'gain', 'efficiency', 'daily', 'ration', 'feeding', 'body', 'level', 'weight', 'levels', 'rate', 'maintenance', 'rations', 'gains', 'growth', 'protein', 'consumption', 'rfi']\n",
      "['genetic', 'selection', 'traits', 'estimates', 'maternal', 'correlations', 'heritability', 'direct', 'effects', 'line', 'variance', 'litter', 'weight', 'lines', 'data', 'models', 'estimated', 'size', 'phenotypic', 'records']\n",
      "['heifers', 'puberty', 'estrus', 'pregnancy', 'heifer', 'mga', 'age', 'beef', 'progesterone', 'breeding', 'ai', 'rates', 'mo', 'estrous', 'cidr', 'mg', 'conception', 'rate', 'pgfα', 'first']\n",
      "['protein', 'meal', 'urea', 'nitrogen', 'amino', 'soybean', 'lysine', 'diets', 'diet', 'sbm', 'cp', 'n', 'fed', 'dietary', 'acids', 'aa', 'methionine', 'levels', 'acid', 'crude']\n",
      "['vitamin', 'e', 'carotene', 'b', 'liver', 'αtocopherol', 'ration', 'iu', 'serum', 'c', 'plasma', 'levels', 'se', 'supplementation', 'selenium', 'supplemental', 'blood', 'deficiency', 'oil', 'rations']\n",
      "['cu', 'zn', 'se', 'ppm', 'liver', 'mg', 'dietary', 'ca', 'copper', 'fe', 'mn', 'zinc', 'diet', 'mineral', 'levels', 'supplemental', 'serum', 'concentrations', 'fed', 'phosphorus']\n",
      "['lambs', 'lamb', 'ewe', 'fed', 'birth', 'age', 'ram', 'wether', 'suffolk', 'rams', 'weight', 'wethers', 'mg', 'sheep', 'alfalfa', 'weaning', 'higher', 'born', 'weights', 'stilbestrol']\n",
      "['muscle', 'tissue', 'acid', 'fatty', 'adipose', 'expression', 'acids', 'cells', 'mrna', 'cell', 'genes', 'glucose', 'gene', 'growth', 'activity', 'insulin', 'lipid', 'tissues', 'liver', 'c']\n"
     ]
    }
   ],
   "source": [
    "nmf_topic_words = [topic[:20] for topic in np.argsort(-abstracts_nmf.components_)]\n",
    "for i in range(20):\n",
    "     print([abstracts_vocab[idx].strip() for idx in nmf_topic_words[i]])"
   ]
  },
  {
   "cell_type": "code",
   "execution_count": null,
   "metadata": {},
   "outputs": [],
   "source": []
  },
  {
   "cell_type": "code",
   "execution_count": 252,
   "metadata": {},
   "outputs": [
    {
     "data": {
      "text/plain": [
       "array([0.04366245, 0.        , 0.00298474, 0.00941495, 0.01788072,\n",
       "       0.00092491, 0.        , 0.        , 0.        , 0.        ,\n",
       "       0.        , 0.        , 0.        , 0.00947742, 0.        ,\n",
       "       0.00337642, 0.        , 0.015048  , 0.        , 0.        ])"
      ]
     },
     "execution_count": 252,
     "metadata": {},
     "output_type": "execute_result"
    }
   ],
   "source": [
    "abstracts_vecs[2204]"
   ]
  },
  {
   "cell_type": "code",
   "execution_count": null,
   "metadata": {},
   "outputs": [],
   "source": []
  },
  {
   "cell_type": "code",
   "execution_count": 241,
   "metadata": {},
   "outputs": [
    {
     "data": {
      "text/plain": [
       "array([ 2,  2, 18,  8,  0,  0, 17,  8,  0,  0])"
      ]
     },
     "execution_count": 241,
     "metadata": {},
     "output_type": "execute_result"
    }
   ],
   "source": [
    "abs_cluster85 = abstracts_vecs.argmax(axis = 1)\n",
    "abs_cluster85[2200:2210]"
   ]
  },
  {
   "cell_type": "code",
   "execution_count": 246,
   "metadata": {},
   "outputs": [
    {
     "name": "stdout",
     "output_type": "stream",
     "text": [
      "In 2 experiments, dose response efficacy of a xylanase and β-glucanase blend (XB) on growth performance and ileal nutrient digestibility was investigated in nursery pigs fed pelleted wheat (Triticum aestivum)- and barley (Hordeum vulgare)-based diets. A basal diet (meeting NRC [1998] specifications for 6 to 30 kg BW, except for 5% lower DE) was supplemented with XB to give 4 diets (0, 50, 100, and 200 g/t). The xylanase and β-glucanase blend was formulated to contain guaranteed activity of 12,200 and 1520 units/g, respectively. In Exp.1, 192 nursery pigs (initial BW of 6.5 kg) were randomly assigned to 4 diets to give 12 pens (4 pigs/pen) per diet to study growth performance for 42 d. In Exp. 2, apparent ileal digestibility (AID) of energy and AA was evaluated in 4 individually housed ileal-cannulated barrows (21 kg BW) according to a 4 × 4 Latin square design. In Exp. 1, XB linearly and quadratically increased (P &lt; 0.05) G:F compared with control. Adding 200 g/t increased overall G:F by 20% compared with control. In Exp. 2, XB linearly increased (P &lt; 0.05) AID of DM, CP, energy, and AA. In conclusion, supplemental xylanase and β-glucanase in nursery pelleted wheat- and barley-based diets deficient in DE increased energy and nutrient use, resulting in better G:F. In conclusion, an enzyme product containing a combination of xylanase and β-glucanase allowed young pigs to derive more nutrients and energy in a wheat- and barley-based diet deficient in energy.\n"
     ]
    }
   ],
   "source": [
    "print(abstracts1[2201]) # cosine similarity "
   ]
  },
  {
   "cell_type": "code",
   "execution_count": 251,
   "metadata": {},
   "outputs": [
    {
     "name": "stdout",
     "output_type": "stream",
     "text": [
      "Low prececal digestibility of starch leads to a higher starch flux into the hindgut, causing a forced microbial fermentation, energy losses, and meteorism. For exocrine pancreatic insufficiency (EPI), lack of pancreatic amylase can be compensated mostly by hindgut fermentation of starch. Even in pigs with complete loss of pancreatic secretion, starch digestibility over the entire tract is reaching levels of controls. To optimize diets for human patients with EPI, the proportion of starch that is digested by the ileum is important. Minipigs were fitted with an ileocecal reentrant fistula (n = 8) to determine prececal digestibility of starch. In 5 minipigs the pancreatic duct was ligated (PL) to induce EPI; 3 minipigs served as controls (Con). Various starch sources were tested in a 1-d screening test; therefore, disappearance rate (DR) instead of digestibility was used. Test meals consisted of 169 g DM of a basal diet plus 67.5 g DM of the starch (without thermal treatment; purified; starch content of 89 to 94.5%) and Cr2O3. The test meal contained (% of DM) starch, 67; crude fat, 1.69; CP, 15; crude fiber, 2.0; and Cr2O3, 0.25. In PL, prececal DR of starch was lower than in Con (P &lt; 0.05) for all starch sources. In Con, prececal DR of starch was almost complete (&gt;90%) but was lower (P &lt; 0.05) for potato (Solanum tuberosum) starch (75.4%). In PL, prececal DR of starch was higher (P &lt; 0.05) for wheat (Triticum aestivum) starch (61.2%) than corn (Zea mays) starch (43.0%) and rice (Oryza sativa) starch (29.2%) and intermediate for potato and field pea (Pisum sativum) starch. For patients with EPI, wheat starch seems favorable due to the higher prececal digestibility whereas raw corn and rice starch should be avoided.\n"
     ]
    }
   ],
   "source": [
    "print(abstracts1[2204])"
   ]
  },
  {
   "cell_type": "code",
   "execution_count": 243,
   "metadata": {},
   "outputs": [
    {
     "data": {
      "text/plain": [
       "7     3206\n",
       "2     2582\n",
       "19    2240\n",
       "13    1884\n",
       "4     1828\n",
       "12    1720\n",
       "15    1503\n",
       "5     1430\n",
       "11    1182\n",
       "9     1179\n",
       "1     1161\n",
       "10    1101\n",
       "8      927\n",
       "18     907\n",
       "0      830\n",
       "6      812\n",
       "3      809\n",
       "14     776\n",
       "17     748\n",
       "16     587\n",
       "dtype: int64"
      ]
     },
     "execution_count": 243,
     "metadata": {},
     "output_type": "execute_result"
    }
   ],
   "source": [
    "pd.Series(abs_cluster85).value_counts()"
   ]
  },
  {
   "cell_type": "code",
   "execution_count": 253,
   "metadata": {},
   "outputs": [
    {
     "name": "stdout",
     "output_type": "stream",
     "text": [
      "CPU times: user 12min 27s, sys: 9.36 s, total: 12min 37s\n",
      "Wall time: 14min 24s\n",
      "['p', 'lt', 'gt', 'greater', 'increased', 'decreased', '×', 'concentrations', 'compared', 'whereas']\n",
      "['birth', 'survival', 'dam', 'weights', 'sex', 'born', 'dams', 'type', 'lamb', 'mortality']\n",
      "['diets', 'fed', 'containing', 'feeding', 'trial', 'dietary', 'performance', 'contained', 'source', 'cs']\n",
      "['progesterone', 'cl', 'cycle', 'estrous', 'luteal', 'uterine', 'corpora', 'pgfα', 'lutea', 'day']\n",
      "['pigs', 'pig', 'fed', 'barrows', 'adfi', 'weaned', 'wk', 'nursery', 'pen', 'compared']\n",
      "['ewes', 'ewe', 'lambing', 'lamb', 'breeding', 'lambed', 'rambouillet', 'fertility', 'suffolk', 'wool']\n",
      "['rams', 'ram', 'wethers', 'sexual', 'testosterone', 'breeding', 'suffolk', 'behavior', 'mating', 'sexually']\n",
      "['production', 'animal', 'animals', 'systems', 'research', 'livestock', 'management', 'food', 'system', 'may']\n",
      "['sows', 'lactation', 'sow', 'farrowing', 'gestation', 'parity', 'primiparous', 'reproductive', 'lactating', 'piglet']\n",
      "['cows', 'cow', 'postpartum', 'bcs', 'beef', 'calf', 'pregnancy', 'dairy', 'condition', 'angus']\n",
      "['grazing', 'forage', 'pasture', 'fescue', 'pastures', 'tall', 'grazed', 'winter', 'season', 'stocking']\n",
      "['plasma', 'concentrations', 'blood', 'cortisol', 'concentration', 'samples', 'levels', 'acth', 'free', 'collected']\n",
      "['energy', 'maintenance', 'net', 'metabolizable', 'de', 'requirements', 'digestible', 'values', 'utilization', 'kcal']\n",
      "['genetic', 'estimates', 'maternal', 'traits', 'correlations', 'heritability', 'direct', 'variance', 'effects', 'models']\n",
      "['heifers', 'puberty', 'heifer', 'pregnancy', 'mga', 'beef', 'greater', 'rates', 'pregnant', 'breeding']\n",
      "['steers', 'fed', 'finishing', 'feedlot', 'steer', 'implanted', 'greater', 'angus', 'grade', 'marbling']\n",
      "['ration', 'rations', 'fed', 'lb', 'basal', 'significantly', 'gains', 'containing', 'feeding', 'roughage']\n",
      "['ca', 'p', 'bone', 'k', 'dietary', 'mineral', 'ash', 'absorption', 'cap', 'na']\n",
      "['lambs', 'lamb', 'ewe', 'wether', 'suffolk', 'ram', 'fed', 'higher', 'born', 'twin']\n",
      "['acid', 'fatty', 'acids', 'oil', 'cla', 'lipid', 'composition', 'linoleic', 'trans', 'oleic']\n"
     ]
    }
   ],
   "source": [
    "from sklearn.feature_extraction.text import CountVectorizer, TfidfVectorizer\n",
    "from sklearn.decomposition import NMF\n",
    "\n",
    "def noun_tfidf_and_nmf(corpus, max_df=0.9):\n",
    "    '''Input: List of documents\n",
    "       Output: tuple(nmf model, Nxk matrix)\n",
    "       \n",
    "       Requires customer_tokenizer defined'''\n",
    "    # countvectorizing and training\n",
    "    tfidf = TfidfVectorizer(tokenizer=noun_tokenizer, max_df=max_df)\n",
    "    X_train_tfidf = tfidf.fit_transform(corpus)\n",
    "    vocab = dict((v, k) for k, v in tfidf.vocabulary_.items())\n",
    "    nmf = NMF(n_components=100)\n",
    "    nmf_vecs = nmf.fit_transform(X_train_tfidf)\n",
    "    return vocab, nmf, nmf_vecs\n",
    "\n",
    "%time abstracts_vocab, abstracts_nmf, abstracts_vecs = noun_tfidf_and_nmf(abstracts1, max_df=0.8)\n",
    "nmf_topic_words = [topic[:10] for topic in np.argsort(-abstracts_nmf.components_)]\n",
    "for i in range(20):\n",
    "     print([abstracts_vocab[idx].strip() for idx in nmf_topic_words[i]])"
   ]
  },
  {
   "cell_type": "code",
   "execution_count": 257,
   "metadata": {},
   "outputs": [
    {
     "name": "stdout",
     "output_type": "stream",
     "text": [
      "0 ['p', 'lt', 'gt', 'greater', 'increased', 'decreased', '×', 'concentrations', 'compared', 'whereas']\n",
      "1 ['birth', 'survival', 'dam', 'weights', 'sex', 'born', 'dams', 'type', 'lamb', 'mortality']\n",
      "2 ['diets', 'fed', 'containing', 'feeding', 'trial', 'dietary', 'performance', 'contained', 'source', 'cs']\n",
      "3 ['progesterone', 'cl', 'cycle', 'estrous', 'luteal', 'uterine', 'corpora', 'pgfα', 'lutea', 'day']\n",
      "4 ['pigs', 'pig', 'fed', 'barrows', 'adfi', 'weaned', 'wk', 'nursery', 'pen', 'compared']\n",
      "5 ['ewes', 'ewe', 'lambing', 'lamb', 'breeding', 'lambed', 'rambouillet', 'fertility', 'suffolk', 'wool']\n",
      "6 ['rams', 'ram', 'wethers', 'sexual', 'testosterone', 'breeding', 'suffolk', 'behavior', 'mating', 'sexually']\n",
      "7 ['production', 'animal', 'animals', 'systems', 'research', 'livestock', 'management', 'food', 'system', 'may']\n",
      "8 ['sows', 'lactation', 'sow', 'farrowing', 'gestation', 'parity', 'primiparous', 'reproductive', 'lactating', 'piglet']\n",
      "9 ['cows', 'cow', 'postpartum', 'bcs', 'beef', 'calf', 'pregnancy', 'dairy', 'condition', 'angus']\n",
      "10 ['grazing', 'forage', 'pasture', 'fescue', 'pastures', 'tall', 'grazed', 'winter', 'season', 'stocking']\n",
      "11 ['plasma', 'concentrations', 'blood', 'cortisol', 'concentration', 'samples', 'levels', 'acth', 'free', 'collected']\n",
      "12 ['energy', 'maintenance', 'net', 'metabolizable', 'de', 'requirements', 'digestible', 'values', 'utilization', 'kcal']\n",
      "13 ['genetic', 'estimates', 'maternal', 'traits', 'correlations', 'heritability', 'direct', 'variance', 'effects', 'models']\n",
      "14 ['heifers', 'puberty', 'heifer', 'pregnancy', 'mga', 'beef', 'greater', 'rates', 'pregnant', 'breeding']\n",
      "15 ['steers', 'fed', 'finishing', 'feedlot', 'steer', 'implanted', 'greater', 'angus', 'grade', 'marbling']\n",
      "16 ['ration', 'rations', 'fed', 'lb', 'basal', 'significantly', 'gains', 'containing', 'feeding', 'roughage']\n",
      "17 ['ca', 'p', 'bone', 'k', 'dietary', 'mineral', 'ash', 'absorption', 'cap', 'na']\n",
      "18 ['lambs', 'lamb', 'ewe', 'wether', 'suffolk', 'ram', 'fed', 'higher', 'born', 'twin']\n",
      "19 ['acid', 'fatty', 'acids', 'oil', 'cla', 'lipid', 'composition', 'linoleic', 'trans', 'oleic']\n",
      "20 ['lh', 'gnrh', 'fsh', 'hormone', 'pituitary', 'release', 'secretion', 'testosterone', 'ngml', 'min']\n",
      "21 ['b', '×', 'l', 'w', 'ab', 'aureomycin', 'g', 'cm', 'cobalt', 'taurus']\n",
      "22 ['vitamin', 'carotene', 'liver', 'iu', 'αtocopherol', 'supplementation', 'supplemental', 'deficiency', 'stores', 'ohd']\n",
      "23 ['calves', 'calf', 'dams', 'bull', 'castration', 'feedlot', 'steer', 'hereford', 'angus', 'holstein']\n",
      "24 ['serum', 'concentrations', 'blood', 'ngml', 'concentration', 'cholesterol', 'samples', 'igg', 'wk', 'leptin']\n",
      "25 ['sperm', 'semen', 'boars', 'spermatozoa', 'motility', 'boar', 'fertility', 'ejaculates', 'insemination', 'ejaculate']\n",
      "26 ['milk', 'lactation', 'yield', 'production', 'mammary', 'dairy', 'milking', 'replacer', 'lactose', 'colostrum']\n",
      "27 ['plt', 'pgt', 'higher', 'significantly', 'trial', 'lower', 'matter', 'dry', 'hr', 'significant']\n",
      "28 ['gilts', 'barrows', 'puberty', 'boars', 'gilt', 'backfat', 'boar', 'reproductive', 'breeding', 'yorkshire']\n",
      "29 ['amino', 'acids', 'acid', 'methionine', 'threonine', 'tryptophan', 'essential', 'isoleucine', 'valine', 'free']\n",
      "30 ['tissue', 'adipose', 'tissues', 'sc', 'activity', 'lipid', 'subcutaneous', 'adipocytes', 'liver', 'lipogenesis']\n",
      "31 ['cu', 'liver', 'fe', 'cuso', 'cukg', 'mo', 'mn', 'mineral', 'ppm', 'supplemental']\n",
      "32 ['breed', 'breeds', 'angus', 'hereford', 'heterosis', 'sire', 'crosses', '×', 'brahman', 'sires']\n",
      "33 ['copper', 'ppm', 'iron', 'zinc', 'liver', 'sulfate', 'hemoglobin', 'molybdenum', 'manganese', 'selenium']\n",
      "34 ['se', 'ppm', 'selenium', 'selenite', 'gshpx', 'dietary', 'sodium', 'organic', 'inorganic', 'glutathione']\n",
      "35 ['feed', 'gain', 'efficiency', 'daily', 'consumption', 'gains', 'average', 'trial', 'rate', 'trials']\n",
      "36 ['line', 'selection', 'lines', 'selected', 'generation', 'inbreeding', 'generations', 'inbred', 'index', 'genetic']\n",
      "37 ['corn', 'silage', 'opaque', 'ground', 'shelled', 'dry', 'normal', 'moisture', 'whole', 'supplement']\n",
      "38 ['meal', 'soybean', 'oil', 'cottonseed', 'fish', 'supplements', 'meals', 'supplement', 'cornsoybean', 'linseed']\n",
      "39 ['digestibility', 'fiber', 'matter', 'dry', 'crude', 'digestion', 'apparent', 'extract', 'cellulose', 'lignin']\n",
      "40 ['protein', 'crude', 'synthesis', 'proteins', 'degradation', 'supplement', 'content', 'casein', 'deposition', 'source']\n",
      "41 ['n', 'excretion', 'gd', 'g', 'urinary', 'retention', 'urine', 'urea', 'microbial', 'flow']\n",
      "42 ['ddgs', 'distillers', 'solubles', 'dried', 'grains', 'inclusion', 'p', 'dm', 'increasing', 'con']\n",
      "43 ['fat', 'thickness', 'subcutaneous', 'intramuscular', 'percentage', 'content', 'deposition', 'added', 'oil', 'kidney']\n",
      "44 ['meat', 'quality', 'pork', 'color', 'ph', 'loss', 'hams', 'content', 'chops', 'lm']\n",
      "45 ['muscle', 'muscles', 'longissimus', 'fibers', 'fiber', 'postmortem', 'skeletal', 'area', 'ph', 'type']\n",
      "46 ['c', '°', 'hr', 'temperature', 'fa', 'temperatures', 'l', 'postthaw', 'respectively', 'min']\n",
      "47 ['exp', 'experiments', 'conducted', 'two', 'treatments', 'experiment', 'three', 'supplemental', 'control', 'either']\n",
      "48 ['body', 'water', 'empty', 'composition', 'chemical', 'r', 'ash', 'equations', 'measurements', 'k']\n",
      "49 ['days', 'day', 'hr', 'period', 'significantly', 'average', 'daily', 'significant', 'first', 'periods']\n",
      "50 ['phytase', 'p', 'attd', 'nc', 'ftukg', 'phytate', 'supplementation', 'digestibility', 'pc', 'microbial']\n",
      "51 ['bulls', 'bull', 'mo', 'testosterone', 'scrotal', 'circumference', 'sc', 'sexual', 'test', 'angus']\n",
      "52 ['aa', 'sid', 'lys', 'ileal', 'aid', 'met', 'thr', 'trp', 'ile', 'digestibility']\n",
      "53 ['gestation', 'fetal', 'fetuses', 'maternal', 'placental', 'pregnancy', 'uterine', 'fetus', 'late', 'offspring']\n",
      "54 ['weight', 'body', 'live', 'weights', 'gain', 'fleece', 'slaughter', 'height', 'yearling', 'mature']\n",
      "55 ['qtl', 'snp', 'ssc', 'genomic', 'traits', 'markers', 'population', 'regions', 'genes', 'chromosome']\n",
      "56 ['cattle', 'beef', 'feedlot', 'dairy', 'brd', 'bos', 'type', 'feeding', 'finishing', 'grade']\n",
      "57 ['steaks', 'tenderness', 'shear', 'force', 'carcasses', 'aging', 'sensory', 'beef', 'flavor', 'wbsf']\n",
      "58 ['al', 'et', 'reported', 'swine', 'found', 'workers', 'shown', 'smith', 'studies', 'erb']\n",
      "59 ['carcass', 'lean', 'carcasses', 'cuts', 'thickness', 'measurements', 'area', 'yield', 'backfat', 'percentage']\n",
      "60 ['piglets', 'piglet', 'intestinal', 'colostrum', 'suckling', 'litters', 'sow', 'supplementation', 'diarrhea', 'behavior']\n",
      "61 ['zn', 'zno', 'zinc', 'ppm', 'znso', 'mn', 'supplemental', 'znkg', 'mineral', 'fe']\n",
      "62 ['e', 'fescue', 'coli', 'tall', 'αtocopherol', 'selenium', 'seed', 'endophyteinfected', 'oh', 'fecal']\n",
      "63 ['temperature', 'heat', '°c', 'stress', 'hs', 'temperatures', 'rectal', 'ambient', '°', 'thermal']\n",
      "64 ['university', 'animal', 'science', 'state', 'dr', 'professor', 'research', 'degree', 'students', 'phd']\n",
      "65 ['age', 'puberty', 'mo', 'wk', 'ages', 'weeks', 'months', 'boars', 'years', 'dam']\n",
      "66 ['monensin', 'lasalocid', 'propionate', 'trial', 'production', 'tylosin', 'ppm', 'fed', 'methane', 'supplement']\n",
      "67 ['estrus', 'ovulation', 'first', 'ai', 'interval', 'estrous', 'conception', 'cidr', 'mga', 'pgfα']\n",
      "68 ['diet', 'basal', 'control', 'dietary', 'concentrate', 'cornsoybean', 'addition', 'fed', 'added', 'treatments']\n",
      "69 ['mg', 'implant', 'stilbestrol', 'implanted', 'k', 'treated', 'control', 'injection', 'estradiol', 'implants']\n",
      "70 ['intake', 'feed', 'ad', 'libitum', 'feeding', 'restricted', 'intakes', 'access', 'forage', 'restriction']\n",
      "71 ['rfi', 'r', 'dmi', 'feed', 'residual', 'low', 'high', 'efficiency', 'correlated', 'adg']\n",
      "72 ['growth', 'rate', 'hormone', 'rates', 'phase', 'development', 'postnatal', 'factor', 'compensatory', 'factors']\n",
      "73 ['phosphorus', 'calcium', 'magnesium', 'phosphate', 'bone', 'potassium', 'mineral', 'inorganic', 'ash', 'sodium']\n",
      "74 ['gh', 'igfi', 'hormone', 'prl', 'igfbp', 'trh', 'secretion', 'pst', 'concentrations', 'ngml']\n",
      "75 ['lysine', 'methionine', 'requirement', 'threonine', 'tryptophan', 'dietary', 'diets', 'pst', 'llysine', 'digestible']\n",
      "76 ['calving', 'breeding', 'first', 'calf', 'season', 'interval', 'conception', 'reproductive', 'cow', 'date']\n",
      "77 ['group', 'groups', 'control', 'animals', 'two', 'treated', 'three', 'differences', 'one', 'ii']\n",
      "78 ['litter', 'size', 'litters', 'number', 'born', 'sow', 'rate', 'ovulation', 'alive', 'parity']\n",
      "79 ['level', 'levels', 'dietary', 'increased', 'high', 'increasing', 'decreased', 'low', 'linearly', 'linear']\n",
      "80 ['glucose', 'insulin', 'infusion', 'min', 'propionate', 'net', 'uptake', 'hepatic', 'portal', 'infused']\n",
      "81 ['hay', 'alfalfa', 'ground', 'hays', 'fed', 'orchardgrass', 'grass', 'pellets', 'dehydrated', 'pelleted']\n",
      "82 ['embryos', 'embryo', 'survival', 'uterine', 'embryonic', 'development', 'vitro', 'transfer', 'blastocysts', 'stage']\n",
      "83 ['weaning', 'postweaning', 'weaned', 'calf', 'cow', 'preweaning', 'progeny', 'dam', 'yearling', 'score']\n",
      "84 ['rumen', 'vitro', 'fluid', 'cellulose', 'fermentation', 'microbial', 'vfa', 'hr', 'ammonia', 'ph']\n",
      "85 ['horses', 'mares', 'horse', 'exercise', 'equine', 'geldings', 'bcs', 'foals', 'time', 'stallions']\n",
      "86 ['cp', 'dm', 'dietary', 'ndf', 'concentration', 'om', 'content', 'adf', '×', 'gkg']\n",
      "87 ['bw', 'adg', 'p', 'gf', 'treatments', 'con', 'dmi', 'performance', 'zh', 'supplementation']\n",
      "88 ['sbm', 'fm', 'soybean', 'bm', 'source', 'meal', 'cm', 'cgm', 'sources', 'mbm']\n",
      "89 ['ruminal', 'ph', 'vfa', 'om', 'dm', 'ndf', 'total', 'supplementation', 'fermentation', 'digestion']\n",
      "90 ['sheep', 'goats', 'wool', 'fleece', 'species', 'clean', 'goat', 'flock', 'breeds', 'fleeces']\n",
      "91 ['percent', 'pounds', 'cuts', 'significant', 'lot', 'significantly', 'lb', 'hogs', 'thiouracil', 'made']\n",
      "92 ['grain', 'barley', 'wheat', 'sorghum', 'straw', 'silage', 'grains', 'rolled', 'dm', 'processing']\n",
      "93 ['committee', 'society', 'meeting', 'work', 'report', 'years', 'members', 'annual', 'american', 'animal']\n",
      "94 ['“', '”', 'paper', 'one', 'type', 'years', 'marbling', 'silica', 'normal', 'many']\n",
      "95 ['expression', 'cells', 'genes', 'gene', 'mrna', 'cell', 'mammary', 'differentiation', 'receptor', 'proliferation']\n",
      "96 ['starch', 'digestion', 'intestine', 'small', 'intestinal', 'tract', 'sorghum', 'processing', 'digested', 'potato']\n",
      "97 ['f', '°', 'heterosis', 'temperatures', 'hams', 'composite', 'g', 'temperature', '×', 'finnsheep']\n",
      "98 ['urea', 'nitrogen', 'retention', 'biuret', 'ammonia', 'balance', 'utilization', 'npn', 'supplemental', 'metabolism']\n",
      "99 ['follicles', 'follicular', 'mm', 'follicle', 'ovarian', 'ovulation', 'ovaries', 'large', 'fsh', 'diameter']\n"
     ]
    }
   ],
   "source": [
    "nmf_topic_words = [topic[:10] for topic in np.argsort(-abstracts_nmf.components_)]\n",
    "for i in range(100):\n",
    "     print(i, [abstracts_vocab[idx].strip() for idx in nmf_topic_words[i]])"
   ]
  },
  {
   "cell_type": "code",
   "execution_count": 260,
   "metadata": {},
   "outputs": [
    {
     "name": "stdout",
     "output_type": "stream",
     "text": [
      "['al', 'et', 'reported', 'swine', 'found', 'workers', 'shown', 'smith', 'studies', 'erb', 'miller', 'clawson', 'demonstrated', 'many', 'various', 'high', 'johnson', 'reports', 'perry', 'beeson']\n"
     ]
    }
   ],
   "source": [
    "nmf_topic_words2 = [topic[:20] for topic in np.argsort(-abstracts_nmf.components_)]\n",
    "print([abstracts_vocab[idx].strip() for idx in nmf_topic_words2[58]])"
   ]
  },
  {
   "cell_type": "code",
   "execution_count": 255,
   "metadata": {},
   "outputs": [
    {
     "data": {
      "text/plain": [
       "array([86, 86, 70, 60, 87, 85, 82, 42, 87, 98])"
      ]
     },
     "execution_count": 255,
     "metadata": {},
     "output_type": "execute_result"
    }
   ],
   "source": [
    "abs_cluster8 = abstracts_vecs.argmax(axis = 1)\n",
    "abs_cluster8[2200:2210]"
   ]
  },
  {
   "cell_type": "code",
   "execution_count": 259,
   "metadata": {},
   "outputs": [
    {
     "data": {
      "text/plain": [
       "array([47,  0, 98, 81, 86])"
      ]
     },
     "execution_count": 259,
     "metadata": {},
     "output_type": "execute_result"
    }
   ],
   "source": [
    "abstracts_vecs[2201].argsort()[-5:]"
   ]
  },
  {
   "cell_type": "code",
   "execution_count": 256,
   "metadata": {},
   "outputs": [
    {
     "data": {
      "text/plain": [
       "95    1169\n",
       "93    1105\n",
       "89     871\n",
       "87     741\n",
       "94     692\n",
       "90     606\n",
       "98     591\n",
       "92     566\n",
       "77     565\n",
       "45     555\n",
       "84     543\n",
       "83     537\n",
       "91     532\n",
       "14     520\n",
       "8      517\n",
       "96     488\n",
       "97     475\n",
       "78     465\n",
       "9      448\n",
       "80     445\n",
       "79     444\n",
       "26     438\n",
       "81     425\n",
       "86     419\n",
       "99     414\n",
       "59     405\n",
       "72     397\n",
       "51     386\n",
       "57     384\n",
       "85     381\n",
       "      ... \n",
       "3      110\n",
       "42     108\n",
       "19     106\n",
       "23     104\n",
       "43     103\n",
       "16      92\n",
       "21      88\n",
       "53      87\n",
       "32      86\n",
       "50      84\n",
       "20      80\n",
       "49      74\n",
       "41      74\n",
       "29      65\n",
       "48      64\n",
       "33      62\n",
       "30      61\n",
       "40      42\n",
       "27      42\n",
       "1       42\n",
       "31      37\n",
       "47      37\n",
       "24      32\n",
       "38      30\n",
       "28      16\n",
       "35      13\n",
       "39      12\n",
       "17      12\n",
       "0        5\n",
       "11       2\n",
       "Length: 100, dtype: int64"
      ]
     },
     "execution_count": 256,
     "metadata": {},
     "output_type": "execute_result"
    }
   ],
   "source": [
    "pd.Series(abs_cluster8).value_counts()"
   ]
  },
  {
   "cell_type": "code",
   "execution_count": null,
   "metadata": {},
   "outputs": [],
   "source": [
    "#  more stop words\n",
    "from nltk.tokenize import word_tokenize\n",
    "from nltk.corpus import stopwords\n",
    "from nltk.stem import SnowballStemmer\n",
    "import string\n",
    "from nltk.tag import pos_tag\n",
    "\n",
    "def noun_tokenizer(text):\n",
    "\n",
    "    # remove punctuation\n",
    "    punct = string.punctuation + '±−≤\"\"'\n",
    "    remove_punct = str.maketrans('', '', punct)\n",
    "    text = text.translate(remove_punct)\n",
    "\n",
    "    # remove digits and convert to lower case\n",
    "    remove_digits = str.maketrans('', '', string.digits)\n",
    "    text = text.lower().translate(remove_digits)\n",
    "\n",
    "    # tokenize\n",
    "    tokens = word_tokenize(text)\n",
    "\n",
    "    is_noun = lambda pos: (pos == 'NN') | (pos == 'NNS') #only nouns - no proper nouns\n",
    "    nouns = [word for (word, pos) in pos_tag(tokens) if is_noun(pos)]\n",
    "    # remove stop words\n",
    "    stop_words = stopwords.words('english')\n",
    "    JAS_words = ['use', 'model', 'anim', 'method', 'result', 'kg', 'vs', 'treatment', 'mgkg', 'per', 'h', 'x']\n",
    "    more_words = ['et', 'al']\n",
    "    stop_words.extend(JAS_words, more_words)\n",
    "    tokens_stop = [y for y in tokens if y not in stop_words]\n",
    "\n",
    "    # stem\n",
    "    #stemmer = SnowballStemmer('english')\n",
    "    #tokens_stem = [stemmer.stem(y) for y in tokens_stop] \n",
    "\n",
    "    return tokens_stop"
   ]
  }
 ],
 "metadata": {
  "kernelspec": {
   "display_name": "Python 3",
   "language": "python",
   "name": "python3"
  },
  "language_info": {
   "codemirror_mode": {
    "name": "ipython",
    "version": 3
   },
   "file_extension": ".py",
   "mimetype": "text/x-python",
   "name": "python",
   "nbconvert_exporter": "python",
   "pygments_lexer": "ipython3",
   "version": "3.6.4"
  }
 },
 "nbformat": 4,
 "nbformat_minor": 2
}

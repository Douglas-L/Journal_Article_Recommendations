{
 "cells": [
  {
   "cell_type": "code",
   "execution_count": 1,
   "metadata": {},
   "outputs": [
    {
     "name": "stdout",
     "output_type": "stream",
     "text": [
      "Populating the interactive namespace from numpy and matplotlib\n"
     ]
    }
   ],
   "source": [
    "import pandas as pd\n",
    "%pylab inline"
   ]
  },
  {
   "cell_type": "markdown",
   "metadata": {},
   "source": [
    "# Table of Contents \n",
    "1. Explore scraped data\n",
    "raw = loaded from jl  \n",
    "raw2 = removed most announcements, duplicates  \n",
    "2.  \n"
   ]
  },
  {
   "cell_type": "markdown",
   "metadata": {},
   "source": [
    "# Step 1: Read in and check out raw scraped data"
   ]
  },
  {
   "cell_type": "code",
   "execution_count": 2,
   "metadata": {},
   "outputs": [],
   "source": [
    "raw = pd.read_json('JAS/jas_abstracts2.jl', lines=True, orient='records')"
   ]
  },
  {
   "cell_type": "code",
   "execution_count": 3,
   "metadata": {},
   "outputs": [
    {
     "data": {
      "text/html": [
       "<div>\n",
       "<style scoped>\n",
       "    .dataframe tbody tr th:only-of-type {\n",
       "        vertical-align: middle;\n",
       "    }\n",
       "\n",
       "    .dataframe tbody tr th {\n",
       "        vertical-align: top;\n",
       "    }\n",
       "\n",
       "    .dataframe thead th {\n",
       "        text-align: right;\n",
       "    }\n",
       "</style>\n",
       "<table border=\"1\" class=\"dataframe\">\n",
       "  <thead>\n",
       "    <tr style=\"text-align: right;\">\n",
       "      <th></th>\n",
       "      <th>Issue</th>\n",
       "      <th>Journal</th>\n",
       "      <th>Pages</th>\n",
       "      <th>Volume</th>\n",
       "      <th>abstract</th>\n",
       "      <th>category</th>\n",
       "      <th>date</th>\n",
       "      <th>doi</th>\n",
       "      <th>title</th>\n",
       "    </tr>\n",
       "  </thead>\n",
       "  <tbody>\n",
       "    <tr>\n",
       "      <th>count</th>\n",
       "      <td>28300</td>\n",
       "      <td>28300</td>\n",
       "      <td>28300</td>\n",
       "      <td>28300</td>\n",
       "      <td>28300</td>\n",
       "      <td>28300</td>\n",
       "      <td>28300</td>\n",
       "      <td>28300</td>\n",
       "      <td>28300</td>\n",
       "    </tr>\n",
       "    <tr>\n",
       "      <th>unique</th>\n",
       "      <td>32</td>\n",
       "      <td>1</td>\n",
       "      <td>18660</td>\n",
       "      <td>127</td>\n",
       "      <td>27936</td>\n",
       "      <td>705</td>\n",
       "      <td>734</td>\n",
       "      <td>28300</td>\n",
       "      <td>27255</td>\n",
       "    </tr>\n",
       "    <tr>\n",
       "      <th>top</th>\n",
       "      <td>Issue 1</td>\n",
       "      <td>Journal of Animal Science</td>\n",
       "      <td>Pages 1–8</td>\n",
       "      <td>Volume 94</td>\n",
       "      <td>Announcements of available positions and prosp...</td>\n",
       "      <td>Ruminant Nutrition</td>\n",
       "      <td>2016-09-01 00:00:00</td>\n",
       "      <td>https://doi.org/10.2527/jas.2010-3304</td>\n",
       "      <td>News and Notes</td>\n",
       "    </tr>\n",
       "    <tr>\n",
       "      <th>freq</th>\n",
       "      <td>4932</td>\n",
       "      <td>28300</td>\n",
       "      <td>23</td>\n",
       "      <td>1195</td>\n",
       "      <td>22</td>\n",
       "      <td>4023</td>\n",
       "      <td>291</td>\n",
       "      <td>1</td>\n",
       "      <td>349</td>\n",
       "    </tr>\n",
       "    <tr>\n",
       "      <th>first</th>\n",
       "      <td>NaN</td>\n",
       "      <td>NaN</td>\n",
       "      <td>NaN</td>\n",
       "      <td>NaN</td>\n",
       "      <td>NaN</td>\n",
       "      <td>NaN</td>\n",
       "      <td>1910-01-01 00:00:00</td>\n",
       "      <td>NaN</td>\n",
       "      <td>NaN</td>\n",
       "    </tr>\n",
       "    <tr>\n",
       "      <th>last</th>\n",
       "      <td>NaN</td>\n",
       "      <td>NaN</td>\n",
       "      <td>NaN</td>\n",
       "      <td>NaN</td>\n",
       "      <td>NaN</td>\n",
       "      <td>NaN</td>\n",
       "      <td>2018-07-28 00:00:00</td>\n",
       "      <td>NaN</td>\n",
       "      <td>NaN</td>\n",
       "    </tr>\n",
       "  </tbody>\n",
       "</table>\n",
       "</div>"
      ],
      "text/plain": [
       "          Issue                    Journal      Pages     Volume  \\\n",
       "count     28300                      28300      28300      28300   \n",
       "unique       32                          1      18660        127   \n",
       "top     Issue 1  Journal of Animal Science  Pages 1–8  Volume 94   \n",
       "freq       4932                      28300         23       1195   \n",
       "first       NaN                        NaN        NaN        NaN   \n",
       "last        NaN                        NaN        NaN        NaN   \n",
       "\n",
       "                                                 abstract            category  \\\n",
       "count                                               28300               28300   \n",
       "unique                                              27936                 705   \n",
       "top     Announcements of available positions and prosp...  Ruminant Nutrition   \n",
       "freq                                                   22                4023   \n",
       "first                                                 NaN                 NaN   \n",
       "last                                                  NaN                 NaN   \n",
       "\n",
       "                       date                                    doi  \\\n",
       "count                 28300                                  28300   \n",
       "unique                  734                                  28300   \n",
       "top     2016-09-01 00:00:00  https://doi.org/10.2527/jas.2010-3304   \n",
       "freq                    291                                      1   \n",
       "first   1910-01-01 00:00:00                                    NaN   \n",
       "last    2018-07-28 00:00:00                                    NaN   \n",
       "\n",
       "                 title  \n",
       "count            28300  \n",
       "unique           27255  \n",
       "top     News and Notes  \n",
       "freq               349  \n",
       "first              NaN  \n",
       "last               NaN  "
      ]
     },
     "execution_count": 3,
     "metadata": {},
     "output_type": "execute_result"
    }
   ],
   "source": [
    "raw.describe()"
   ]
  },
  {
   "cell_type": "code",
   "execution_count": 4,
   "metadata": {},
   "outputs": [],
   "source": [
    "# raw['abstract'].value_counts()[:5] # most common abstracts are not real abstracts - need to filter out"
   ]
  },
  {
   "cell_type": "code",
   "execution_count": 5,
   "metadata": {},
   "outputs": [
    {
     "data": {
      "text/plain": [
       "<matplotlib.axes._subplots.AxesSubplot at 0x7f25b232a1d0>"
      ]
     },
     "execution_count": 5,
     "metadata": {},
     "output_type": "execute_result"
    },
    {
     "data": {
      "image/png": "[encoded data removed]",
      "text/plain": [
       "<matplotlib.figure.Figure at 0x7f25b2327f60>"
      ]
     },
     "metadata": {},
     "output_type": "display_data"
    }
   ],
   "source": [
    "raw['date'].hist() # more recent, more articles - journal got bigger\n",
    "# also noticed a bunch of old articles were in pdf form and therefore not scraped"
   ]
  },
  {
   "cell_type": "code",
   "execution_count": 6,
   "metadata": {},
   "outputs": [
    {
     "data": {
      "text/plain": [
       "Ruminant Nutrition              4023\n",
       "Article                         3544\n",
       "Nonruminant Nutrition           3051\n",
       "Physiology and Endocrinology    2285\n",
       "Breeding and Genetics           1716\n",
       "Name: category, dtype: int64"
      ]
     },
     "execution_count": 6,
     "metadata": {},
     "output_type": "execute_result"
    }
   ],
   "source": [
    "raw['category'].value_counts()[:5]"
   ]
  },
  {
   "cell_type": "code",
   "execution_count": 7,
   "metadata": {},
   "outputs": [
    {
     "data": {
      "text/html": [
       "<div>\n",
       "<style scoped>\n",
       "    .dataframe tbody tr th:only-of-type {\n",
       "        vertical-align: middle;\n",
       "    }\n",
       "\n",
       "    .dataframe tbody tr th {\n",
       "        vertical-align: top;\n",
       "    }\n",
       "\n",
       "    .dataframe thead th {\n",
       "        text-align: right;\n",
       "    }\n",
       "</style>\n",
       "<table border=\"1\" class=\"dataframe\">\n",
       "  <thead>\n",
       "    <tr style=\"text-align: right;\">\n",
       "      <th></th>\n",
       "      <th>Issue</th>\n",
       "      <th>Journal</th>\n",
       "      <th>Pages</th>\n",
       "      <th>Volume</th>\n",
       "      <th>abstract</th>\n",
       "      <th>category</th>\n",
       "      <th>date</th>\n",
       "      <th>doi</th>\n",
       "      <th>title</th>\n",
       "    </tr>\n",
       "  </thead>\n",
       "  <tbody>\n",
       "  </tbody>\n",
       "</table>\n",
       "</div>"
      ],
      "text/plain": [
       "Empty DataFrame\n",
       "Columns: [Issue, Journal, Pages, Volume, abstract, category, date, doi, title]\n",
       "Index: []"
      ]
     },
     "execution_count": 7,
     "metadata": {},
     "output_type": "execute_result"
    }
   ],
   "source": [
    "raw[raw['abstract'].isnull()] # scraped fine!"
   ]
  },
  {
   "cell_type": "markdown",
   "metadata": {},
   "source": [
    "### Filtering "
   ]
  },
  {
   "cell_type": "markdown",
   "metadata": {},
   "source": [
    "Work"
   ]
  },
  {
   "cell_type": "code",
   "execution_count": 8,
   "metadata": {},
   "outputs": [],
   "source": [
    "# raw[raw['category'].str.contains('Award')].iloc[0,:] # might want to remove award articles"
   ]
  },
  {
   "cell_type": "code",
   "execution_count": 9,
   "metadata": {},
   "outputs": [],
   "source": [
    "# raw[raw['category'].str.contains('News and Notes')] #also Placement, \n",
    "# raw2[raw2['abstract'].str.contains('Announcements')] - need to get rid of new books"
   ]
  },
  {
   "cell_type": "code",
   "execution_count": 10,
   "metadata": {},
   "outputs": [],
   "source": [
    "#raw[raw['category'].str.contains('OTHER')] # has some real articles but mostly announcements\n",
    "#keep for now and see if it gets naturally filtered\n",
    "# raw2[raw2['abstract'].str.contains('Announcements of available positions')]"
   ]
  },
  {
   "cell_type": "markdown",
   "metadata": {},
   "source": [
    "Actual "
   ]
  },
  {
   "cell_type": "code",
   "execution_count": 11,
   "metadata": {},
   "outputs": [
    {
     "data": {
      "text/html": [
       "<div>\n",
       "<style scoped>\n",
       "    .dataframe tbody tr th:only-of-type {\n",
       "        vertical-align: middle;\n",
       "    }\n",
       "\n",
       "    .dataframe tbody tr th {\n",
       "        vertical-align: top;\n",
       "    }\n",
       "\n",
       "    .dataframe thead th {\n",
       "        text-align: right;\n",
       "    }\n",
       "</style>\n",
       "<table border=\"1\" class=\"dataframe\">\n",
       "  <thead>\n",
       "    <tr style=\"text-align: right;\">\n",
       "      <th></th>\n",
       "      <th>Issue</th>\n",
       "      <th>Journal</th>\n",
       "      <th>Pages</th>\n",
       "      <th>Volume</th>\n",
       "      <th>abstract</th>\n",
       "      <th>category</th>\n",
       "      <th>date</th>\n",
       "      <th>doi</th>\n",
       "      <th>title</th>\n",
       "    </tr>\n",
       "  </thead>\n",
       "  <tbody>\n",
       "    <tr>\n",
       "      <th>count</th>\n",
       "      <td>28020</td>\n",
       "      <td>28020</td>\n",
       "      <td>28020</td>\n",
       "      <td>28020</td>\n",
       "      <td>28020</td>\n",
       "      <td>28020</td>\n",
       "      <td>28020</td>\n",
       "      <td>28020</td>\n",
       "      <td>28020</td>\n",
       "    </tr>\n",
       "    <tr>\n",
       "      <th>unique</th>\n",
       "      <td>32</td>\n",
       "      <td>1</td>\n",
       "      <td>18460</td>\n",
       "      <td>127</td>\n",
       "      <td>27707</td>\n",
       "      <td>702</td>\n",
       "      <td>734</td>\n",
       "      <td>28020</td>\n",
       "      <td>27255</td>\n",
       "    </tr>\n",
       "    <tr>\n",
       "      <th>top</th>\n",
       "      <td>Issue 1</td>\n",
       "      <td>Journal of Animal Science</td>\n",
       "      <td>Pages 1–8</td>\n",
       "      <td>Volume 94</td>\n",
       "      <td>This paper is not available for publication.</td>\n",
       "      <td>Ruminant Nutrition</td>\n",
       "      <td>2016-09-01 00:00:00</td>\n",
       "      <td>https://doi.org/10.2527/jas.2010-3304</td>\n",
       "      <td>News and Notes</td>\n",
       "    </tr>\n",
       "    <tr>\n",
       "      <th>freq</th>\n",
       "      <td>4889</td>\n",
       "      <td>28020</td>\n",
       "      <td>23</td>\n",
       "      <td>1195</td>\n",
       "      <td>7</td>\n",
       "      <td>4023</td>\n",
       "      <td>291</td>\n",
       "      <td>1</td>\n",
       "      <td>220</td>\n",
       "    </tr>\n",
       "    <tr>\n",
       "      <th>first</th>\n",
       "      <td>NaN</td>\n",
       "      <td>NaN</td>\n",
       "      <td>NaN</td>\n",
       "      <td>NaN</td>\n",
       "      <td>NaN</td>\n",
       "      <td>NaN</td>\n",
       "      <td>1910-01-01 00:00:00</td>\n",
       "      <td>NaN</td>\n",
       "      <td>NaN</td>\n",
       "    </tr>\n",
       "    <tr>\n",
       "      <th>last</th>\n",
       "      <td>NaN</td>\n",
       "      <td>NaN</td>\n",
       "      <td>NaN</td>\n",
       "      <td>NaN</td>\n",
       "      <td>NaN</td>\n",
       "      <td>NaN</td>\n",
       "      <td>2018-07-28 00:00:00</td>\n",
       "      <td>NaN</td>\n",
       "      <td>NaN</td>\n",
       "    </tr>\n",
       "  </tbody>\n",
       "</table>\n",
       "</div>"
      ],
      "text/plain": [
       "          Issue                    Journal      Pages     Volume  \\\n",
       "count     28020                      28020      28020      28020   \n",
       "unique       32                          1      18460        127   \n",
       "top     Issue 1  Journal of Animal Science  Pages 1–8  Volume 94   \n",
       "freq       4889                      28020         23       1195   \n",
       "first       NaN                        NaN        NaN        NaN   \n",
       "last        NaN                        NaN        NaN        NaN   \n",
       "\n",
       "                                            abstract            category  \\\n",
       "count                                          28020               28020   \n",
       "unique                                         27707                 702   \n",
       "top     This paper is not available for publication.  Ruminant Nutrition   \n",
       "freq                                               7                4023   \n",
       "first                                            NaN                 NaN   \n",
       "last                                             NaN                 NaN   \n",
       "\n",
       "                       date                                    doi  \\\n",
       "count                 28020                                  28020   \n",
       "unique                  734                                  28020   \n",
       "top     2016-09-01 00:00:00  https://doi.org/10.2527/jas.2010-3304   \n",
       "freq                    291                                      1   \n",
       "first   1910-01-01 00:00:00                                    NaN   \n",
       "last    2018-07-28 00:00:00                                    NaN   \n",
       "\n",
       "                 title  \n",
       "count            28020  \n",
       "unique           27255  \n",
       "top     News and Notes  \n",
       "freq               220  \n",
       "first              NaN  \n",
       "last               NaN  "
      ]
     },
     "execution_count": 11,
     "metadata": {},
     "output_type": "execute_result"
    }
   ],
   "source": [
    "# remove categpies\n",
    "cat_mask = raw['category'].str.contains(r'News and Notes|Placement|New Books')\n",
    "raw2 = raw[~cat_mask]\n",
    "\n",
    "raw2.describe()"
   ]
  },
  {
   "cell_type": "code",
   "execution_count": 12,
   "metadata": {},
   "outputs": [],
   "source": [
    "abs_mask = raw2['abstract'].str.contains('This paper is not available')\n",
    "title_mask = raw2['title'].isin(['Placement', 'News and Notes'])\n"
   ]
  },
  {
   "cell_type": "code",
   "execution_count": 13,
   "metadata": {},
   "outputs": [
    {
     "data": {
      "text/plain": [
       "28013"
      ]
     },
     "execution_count": 13,
     "metadata": {},
     "output_type": "execute_result"
    }
   ],
   "source": [
    "raw2 = raw2.loc[~abs_mask]\n",
    "len(raw2)"
   ]
  },
  {
   "cell_type": "code",
   "execution_count": 14,
   "metadata": {},
   "outputs": [],
   "source": [
    "raw2 = raw2.loc[~title_mask]"
   ]
  },
  {
   "cell_type": "code",
   "execution_count": 15,
   "metadata": {},
   "outputs": [
    {
     "data": {
      "text/plain": [
       "27719"
      ]
     },
     "execution_count": 15,
     "metadata": {},
     "output_type": "execute_result"
    }
   ],
   "source": [
    "len(raw2)"
   ]
  },
  {
   "cell_type": "code",
   "execution_count": 16,
   "metadata": {},
   "outputs": [],
   "source": [
    "raw2 = raw2.drop_duplicates(subset='abstract', keep='first')"
   ]
  },
  {
   "cell_type": "code",
   "execution_count": 17,
   "metadata": {},
   "outputs": [
    {
     "data": {
      "text/html": [
       "<div>\n",
       "<style scoped>\n",
       "    .dataframe tbody tr th:only-of-type {\n",
       "        vertical-align: middle;\n",
       "    }\n",
       "\n",
       "    .dataframe tbody tr th {\n",
       "        vertical-align: top;\n",
       "    }\n",
       "\n",
       "    .dataframe thead th {\n",
       "        text-align: right;\n",
       "    }\n",
       "</style>\n",
       "<table border=\"1\" class=\"dataframe\">\n",
       "  <thead>\n",
       "    <tr style=\"text-align: right;\">\n",
       "      <th></th>\n",
       "      <th>Issue</th>\n",
       "      <th>Journal</th>\n",
       "      <th>Pages</th>\n",
       "      <th>Volume</th>\n",
       "      <th>abstract</th>\n",
       "      <th>category</th>\n",
       "      <th>date</th>\n",
       "      <th>doi</th>\n",
       "      <th>title</th>\n",
       "    </tr>\n",
       "  </thead>\n",
       "  <tbody>\n",
       "    <tr>\n",
       "      <th>count</th>\n",
       "      <td>27421</td>\n",
       "      <td>27421</td>\n",
       "      <td>27421</td>\n",
       "      <td>27421</td>\n",
       "      <td>27421</td>\n",
       "      <td>27421</td>\n",
       "      <td>27421</td>\n",
       "      <td>27421</td>\n",
       "      <td>27421</td>\n",
       "    </tr>\n",
       "    <tr>\n",
       "      <th>unique</th>\n",
       "      <td>32</td>\n",
       "      <td>1</td>\n",
       "      <td>18246</td>\n",
       "      <td>127</td>\n",
       "      <td>27421</td>\n",
       "      <td>702</td>\n",
       "      <td>734</td>\n",
       "      <td>27421</td>\n",
       "      <td>27242</td>\n",
       "    </tr>\n",
       "    <tr>\n",
       "      <th>top</th>\n",
       "      <td>Issue 1</td>\n",
       "      <td>Journal of Animal Science</td>\n",
       "      <td>Pages 1–8</td>\n",
       "      <td>Volume 94</td>\n",
       "      <td>Skeletal muscle fibers are elongated multinucl...</td>\n",
       "      <td>Ruminant Nutrition</td>\n",
       "      <td>2016-09-01 00:00:00</td>\n",
       "      <td>https://doi.org/10.2527/jas.2010-3304</td>\n",
       "      <td>Discussion</td>\n",
       "    </tr>\n",
       "    <tr>\n",
       "      <th>freq</th>\n",
       "      <td>4716</td>\n",
       "      <td>27421</td>\n",
       "      <td>23</td>\n",
       "      <td>1194</td>\n",
       "      <td>1</td>\n",
       "      <td>4008</td>\n",
       "      <td>291</td>\n",
       "      <td>1</td>\n",
       "      <td>31</td>\n",
       "    </tr>\n",
       "    <tr>\n",
       "      <th>first</th>\n",
       "      <td>NaN</td>\n",
       "      <td>NaN</td>\n",
       "      <td>NaN</td>\n",
       "      <td>NaN</td>\n",
       "      <td>NaN</td>\n",
       "      <td>NaN</td>\n",
       "      <td>1910-01-01 00:00:00</td>\n",
       "      <td>NaN</td>\n",
       "      <td>NaN</td>\n",
       "    </tr>\n",
       "    <tr>\n",
       "      <th>last</th>\n",
       "      <td>NaN</td>\n",
       "      <td>NaN</td>\n",
       "      <td>NaN</td>\n",
       "      <td>NaN</td>\n",
       "      <td>NaN</td>\n",
       "      <td>NaN</td>\n",
       "      <td>2018-07-28 00:00:00</td>\n",
       "      <td>NaN</td>\n",
       "      <td>NaN</td>\n",
       "    </tr>\n",
       "  </tbody>\n",
       "</table>\n",
       "</div>"
      ],
      "text/plain": [
       "          Issue                    Journal      Pages     Volume  \\\n",
       "count     27421                      27421      27421      27421   \n",
       "unique       32                          1      18246        127   \n",
       "top     Issue 1  Journal of Animal Science  Pages 1–8  Volume 94   \n",
       "freq       4716                      27421         23       1194   \n",
       "first       NaN                        NaN        NaN        NaN   \n",
       "last        NaN                        NaN        NaN        NaN   \n",
       "\n",
       "                                                 abstract            category  \\\n",
       "count                                               27421               27421   \n",
       "unique                                              27421                 702   \n",
       "top     Skeletal muscle fibers are elongated multinucl...  Ruminant Nutrition   \n",
       "freq                                                    1                4008   \n",
       "first                                                 NaN                 NaN   \n",
       "last                                                  NaN                 NaN   \n",
       "\n",
       "                       date                                    doi       title  \n",
       "count                 27421                                  27421       27421  \n",
       "unique                  734                                  27421       27242  \n",
       "top     2016-09-01 00:00:00  https://doi.org/10.2527/jas.2010-3304  Discussion  \n",
       "freq                    291                                      1          31  \n",
       "first   1910-01-01 00:00:00                                    NaN         NaN  \n",
       "last    2018-07-28 00:00:00                                    NaN         NaN  "
      ]
     },
     "execution_count": 17,
     "metadata": {},
     "output_type": "execute_result"
    }
   ],
   "source": [
    "raw2.describe()"
   ]
  },
  {
   "cell_type": "code",
   "execution_count": 18,
   "metadata": {},
   "outputs": [
    {
     "data": {
      "text/plain": [
       "Skeletal muscle fibers are elongated multinucleated cells. Along its length, an individual fiber may contain thousands of myonuclei, each controlling protein synthesis within its surrounding cytoplasm. Therefore, a fiber can be considered to be a series of myonuclear domains, each responding to distinct localized signaling mechanisms that may result in differential gene expression within the fiber. This brief review examines phenomena that produce distinct subsets of proteins within different regions of a muscle fiber. These include changes in protein expression associated with activity-induced fiber-type transformation, muscle development, and denervation. Myosin heavy-chain (MyHC) proteins are fundamental structural and functional components of the muscle fiber. They are represented by different isoforms, each of which is the product of a separate gene that may be differentially expressed during the development of distinct muscle fiber types. We have found that in mature chicken and pigeon pectoralis muscle, the tapered ends of fibers contain the neonatal MyHC isoform in addition to the adult isoform found throughout the lengths of the fibers. Examination of serial sections along the length of muscle fibers of chicken pectoralis at different stages of development illustrates that repression of neonatal MyHC isoform expression proceeds as a gradient from the centrally located motor endplate toward the ends of a fiber. In denervated mature fibers, myonuclei furthest from the endplate are the first to reexpress neonatal myosin. We hypothesize that trophic factor(s) emanating from the vicinity of the motor endplate represent a potential localized signaling pathway that may differentially modulate MyHC gene expression along the length of the muscle fiber. Muscle fibers grow in length by the addition of new sarcomeres to their tapered tips, and growing fibers have smaller myonuclear domains (less cytoplasm per nucleus). Additional experiments using chicken pectoralis demonstrated that myonuclear domains are significantly smaller in those areas of the fibers expressing predominantly neonatal myosin. In maturing muscle, the volume of cytoplasm per nucleus is less within the ends of the fibers. Thus, when an increase in the expression of one or more gene products is required within a specific region of the muscle fiber, transcriptional output may be enhanced by the concentration of myonuclei within that region.    1\n",
       "Forty-eight crossbred pigs were used in a study of the effect of terephthalic acid and ration calcium level on serum antibiotic levels and the productive efficiency of growing pigs from 9–16 weeks of age.The results of the trial showed that a reduction in ration calcium level from 0.85% to 0.42% markedly increased serum oxytetracycline levels. When the ration contained 0.42% calcium, supplementation with 0.4% terephthalic acid brought about a further significant (P&lt;.05) degree of antibiotic potentiation. The increase in serum antibiotic levels was not, however, accompanied by any improvement in liveweight gain, feed efficiency or the apparent digestibility of nutrients.                                                                                                                                                                                                                                                                                                                                                                                                                                                                                                                                                                                                                                                                                                                                                                                                                                                                                                                                                                                                                                                                                                                                                                                                                                                                                                                                                                                                                                                                                                                                                                                                                                                                                                                                                                                                                                          1\n",
       "Name: abstract, dtype: int64"
      ]
     },
     "execution_count": 18,
     "metadata": {},
     "output_type": "execute_result"
    }
   ],
   "source": [
    "# abstracts now look unique\n",
    "raw2['abstract'].value_counts()[:2]"
   ]
  },
  {
   "cell_type": "code",
   "execution_count": 19,
   "metadata": {},
   "outputs": [
    {
     "name": "stdout",
     "output_type": "stream",
     "text": [
      "27412\n"
     ]
    }
   ],
   "source": [
    "# too short - probably not an abstract, 100 + start to have more real abstracts\n",
    "len_mask = raw2['abstract'].str.len() < 100 \n",
    "raw3 = raw2[~len_mask]\n",
    "print(len(raw3))"
   ]
  },
  {
   "cell_type": "code",
   "execution_count": 20,
   "metadata": {},
   "outputs": [],
   "source": [
    "# raw3[raw3['abstract'].str.contains('Bulletin')] \n",
    "# # more non abstracts but too impure to easily filter - see if gets separated when topic modeling"
   ]
  },
  {
   "cell_type": "code",
   "execution_count": null,
   "metadata": {},
   "outputs": [],
   "source": []
  },
  {
   "cell_type": "code",
   "execution_count": 21,
   "metadata": {},
   "outputs": [],
   "source": [
    "raw3.to_pickle('abstracts1.pkl') # cleaner abstracts"
   ]
  },
  {
   "cell_type": "markdown",
   "metadata": {},
   "source": [
    "# Step 2: Basic Tokenizer"
   ]
  },
  {
   "cell_type": "code",
   "execution_count": 22,
   "metadata": {},
   "outputs": [],
   "source": [
    "#isolate abstract text from meta features\n",
    "abstracts1 = raw3['abstract']"
   ]
  },
  {
   "cell_type": "markdown",
   "metadata": {},
   "source": [
    "Work"
   ]
  },
  {
   "cell_type": "code",
   "execution_count": 23,
   "metadata": {},
   "outputs": [],
   "source": [
    "from nltk.tokenize import word_tokenize\n",
    "from nltk.corpus import stopwords\n",
    "from nltk.stem import SnowballStemmer\n",
    "import string\n",
    "\n",
    "def basic_tokenizer(text):\n",
    "\n",
    "    # remove punctuation\n",
    "    remove_punct = str.maketrans('', '', string.punctuation)\n",
    "    text = text.translate(remove_punct)\n",
    "\n",
    "    # remove digits and convert to lower case\n",
    "    remove_digits = str.maketrans('', '', string.digits)\n",
    "    text = text.lower().translate(remove_digits)\n",
    "\n",
    "    # tokenize\n",
    "    tokens = word_tokenize(text)\n",
    "\n",
    "    # remove stop words\n",
    "    stop_words = stopwords.words('english')\n",
    "    JAS_words = ['use', 'model', 'anim', 'method', 'result']\n",
    "    stop_words.extend(JAS_words)\n",
    "    tokens_stop = [y for y in tokens if y not in stop_words]\n",
    "\n",
    "    # stem\n",
    "    stemmer = SnowballStemmer('english')\n",
    "    tokens_stem = [stemmer.stem(y) for y in tokens_stop] \n",
    "\n",
    "    return tokens_stem"
   ]
  },
  {
   "cell_type": "code",
   "execution_count": 24,
   "metadata": {},
   "outputs": [],
   "source": [
    "abstracts2 = abstracts1.sample(3000) # train on a 10% sample"
   ]
  },
  {
   "cell_type": "code",
   "execution_count": 25,
   "metadata": {},
   "outputs": [],
   "source": [
    "from sklearn.feature_extraction.text import CountVectorizer, TfidfVectorizer\n",
    "from gensim import corpora, models, similarities, matutils\n",
    "\n",
    "def vec_and_lda(corpus, tokenizer):\n",
    "    '''Input: List of documents\n",
    "       Output: LDA model trained and transformed on input corpus\n",
    "'''\n",
    "    # countvectorizing and training\n",
    "    cv = CountVectorizer(tokenizer=tokenizer, max_df=0.9)\n",
    "    X_train_cv = cv.fit(corpus)\n",
    "    \n",
    "    # Create the term-document matrix\n",
    "    # Transpose it so the terms are the rows\n",
    "    counts = cv.transform(corpus).transpose()\n",
    "    \n",
    "    # gensim\n",
    "    \n",
    "    # Convert sparse matrix of counts to a gensim corpus\n",
    "    corpus = matutils.Sparse2Corpus(counts)\n",
    "    id2word = dict((v, k) for k, v in cv.vocabulary_.items())\n",
    "    \n",
    "    # Create lda model (equivalent to \"fit\" in sklearn)\n",
    "    lda = models.LdaModel(corpus=corpus, num_topics=20, id2word=id2word, passes=10)\n",
    "    return lda"
   ]
  },
  {
   "cell_type": "code",
   "execution_count": 26,
   "metadata": {},
   "outputs": [],
   "source": [
    "# lda.get_topic_terms(1)"
   ]
  },
  {
   "cell_type": "markdown",
   "metadata": {},
   "source": [
    "### Detour: Try topic modeling on just titles \n",
    "Doesn't look too promising"
   ]
  },
  {
   "cell_type": "code",
   "execution_count": 27,
   "metadata": {},
   "outputs": [],
   "source": [
    "titles1 = raw2['title']"
   ]
  },
  {
   "cell_type": "code",
   "execution_count": 28,
   "metadata": {},
   "outputs": [],
   "source": [
    "# from sklearn.decomposition import LatentDirichletAllocation - no innate word coefficients"
   ]
  },
  {
   "cell_type": "code",
   "execution_count": 29,
   "metadata": {},
   "outputs": [],
   "source": [
    "title_lda = vec_and_lda(titles1, basic_tokenizer)\n"
   ]
  },
  {
   "cell_type": "code",
   "execution_count": 30,
   "metadata": {},
   "outputs": [
    {
     "data": {
      "text/plain": [
       "[(0,\n",
       "  '0.048*\"activ\" + 0.037*\"certain\" + 0.033*\"cycl\" + 0.033*\"treatment\" + 0.026*\"estrous\" + 0.021*\"embryo\" + 0.021*\"vitro\" + 0.021*\"uterin\" + 0.019*\"rat\" + 0.018*\"bovin\"'),\n",
       " (1,\n",
       "  '0.061*\"vitamin\" + 0.036*\"various\" + 0.025*\"swine\" + 0.025*\"ration\" + 0.023*\"fatten\" + 0.023*\"three\" + 0.021*\"cattl\" + 0.021*\"feed\" + 0.020*\"lamb\" + 0.019*\"slaughter\"'),\n",
       " (2,\n",
       "  '0.100*\"effect\" + 0.057*\"growth\" + 0.057*\"perform\" + 0.032*\"lamb\" + 0.028*\"pig\" + 0.025*\"dietari\" + 0.025*\"characterist\" + 0.023*\"serum\" + 0.021*\"blood\" + 0.020*\"carcass\"')]"
      ]
     },
     "execution_count": 30,
     "metadata": {},
     "output_type": "execute_result"
    }
   ],
   "source": [
    "title_lda.print_topics()[:3]"
   ]
  },
  {
   "cell_type": "code",
   "execution_count": null,
   "metadata": {},
   "outputs": [],
   "source": []
  },
  {
   "cell_type": "markdown",
   "metadata": {},
   "source": [
    "### Try Nonnegative matrix factorization (NMF)"
   ]
  },
  {
   "cell_type": "code",
   "execution_count": 31,
   "metadata": {},
   "outputs": [],
   "source": [
    "from sklearn.feature_extraction.text import CountVectorizer, TfidfVectorizer\n",
    "from sklearn.decomposition import NMF\n",
    "\n",
    "def cvec_and_nmf(corpus, tokenizer, components=20):\n",
    "    '''*Input* \n",
    "    corpus: List of documents\n",
    "    tokenizer: func, tokenizer function\n",
    "    components: int, number of components to use\n",
    "       Output: tuple(vocab, nmf model, Nxk matrix)\n",
    "    '''\n",
    "    # countvectorizing and training\n",
    "    cv = CountVectorizer(tokenizer=tokenizer, max_df=0.9)\n",
    "    X_train_cv = cv.fit_transform(corpus)\n",
    "    vocab = dict((v, k) for k, v in cv.vocabulary_.items())\n",
    "    nmf = NMF(n_components=components)\n",
    "    nmf_vecs = nmf.fit_transform(X_train_cv)\n",
    "    return vocab, nmf, nmf_vecs"
   ]
  },
  {
   "cell_type": "code",
   "execution_count": 32,
   "metadata": {},
   "outputs": [],
   "source": [
    "abstracts_vocab, abstracts_nmf, abstracts_vecs = cvec_and_nmf(abstracts1, basic_tokenizer)"
   ]
  },
  {
   "cell_type": "code",
   "execution_count": 33,
   "metadata": {},
   "outputs": [
    {
     "data": {
      "text/plain": [
       "(20, 71206)"
      ]
     },
     "execution_count": 33,
     "metadata": {},
     "output_type": "execute_result"
    }
   ],
   "source": [
    "km = abstracts_nmf.components_\n",
    "km.shape\n",
    "# each component has a vector that contains the weight of each word in the vocab"
   ]
  },
  {
   "cell_type": "code",
   "execution_count": 34,
   "metadata": {},
   "outputs": [],
   "source": [
    "# Pick out the words with the top 10 weights within each component \n",
    "nmf_topic_words = [topic[:10] for topic in np.argsort(-km)]"
   ]
  },
  {
   "cell_type": "code",
   "execution_count": 35,
   "metadata": {},
   "outputs": [
    {
     "name": "stdout",
     "output_type": "stream",
     "text": [
      "['p', 'lt', 'greater', 'treatment', 'bw', 'gt', 'vs', '×', 'compar', 'effect']\n",
      "['genet', 'anim', 'use', 'effect', 'trait', 'estim', 'select', 'breed', 'correl', 'studi']\n",
      "['diet', 'fed', 'contain', 'dietari', 'meal', 'corn', 'cp', 'exp', 'ad', 'soybean']\n",
      "['pig', 'fed', 'kg', 'growth', 'perform', 'adg', 'pen', 'compar', 'bw', 'per']\n",
      "['±', 'kg', 'vs', 'respect', 'bw', 'b', 'mean', '−', 'age', 'hs']\n",
      "['weight', 'birth', 'wean', 'gain', 'kg', 'age', 'signific', 'bodi', 'litter', 'dam']\n",
      "['cow', 'milk', 'product', 'beef', 'postpartum', 'lactat', 'calf', 'bcs', 'estrus', 'pregnanc']\n",
      "['lamb', 'ewe', 'breed', 'ram', 'wean', 'fed', 'birth', 'born', 'per', 'product']\n",
      "['steer', 'fed', 'kg', 'cattl', 'corn', 'greater', 'gain', 'finish', 'graze', 'treatment']\n",
      "['feed', 'intak', 'gain', 'effici', 'daili', 'period', 'level', 'fed', 'energi', 'ad']\n",
      "['increas', 'decreas', 'level', 'linear', 'dietari', 'effect', 'quadrat', 'rate', 'product', 'chang']\n",
      "['sow', 'lactat', 'litter', 'piglet', 'wean', 'gestat', 'milk', 'farrow', 'pariti', 'size']\n",
      "['carcass', 'fat', 'muscl', 'measur', 'percentag', 'lean', 'slaughter', 'yield', 'grade', 'composit']\n",
      "['digest', 'corn', 'rumin', 'dm', 'total', 'dri', 'hay', 'forag', 'matter', 'intak']\n",
      "['supplement', 'treatment', 'bw', 'effect', 'control', 'cu', 'p', 'forag', 'vitamin', 'kg']\n",
      "['protein', 'level', 'acid', 'meal', 'signific', 'gain', 'muscl', 'ration', 'plt', 'express']\n",
      "['day', 'treatment', 'group', 'heifer', 'plt', 'control', 'estrus', 'gilt', 'rate', 'differ']\n",
      "['concentr', 'h', 'plasma', 'serum', 'sampl', 'blood', 'acid', 'glucos', 'collect', 'lh']\n",
      "['calv', 'wean', 'age', 'breed', 'heifer', 'calf', 'dam', 'bull', 'angus', 'birth']\n",
      "['n', 'urea', 'cp', 'excret', 'g', 'gd', 'intak', 'rumin', 'h', 'use']\n"
     ]
    }
   ],
   "source": [
    "for component in nmf_topic_words:\n",
    "     print([abstracts_vocab[idx].strip() for idx in component])"
   ]
  },
  {
   "cell_type": "code",
   "execution_count": 36,
   "metadata": {},
   "outputs": [
    {
     "data": {
      "text/plain": [
       "[array([37.7528041 , 21.61861187,  3.46464979,  2.84118237,  2.56891606,\n",
       "         2.4803145 ,  1.76134678,  1.69634483,  1.62802488,  1.21836107]),\n",
       " array([8.41599171, 8.26027282, 8.22073547, 6.89815572, 6.50806118,\n",
       "        6.50111479, 6.04327269, 5.20155926, 4.42903413, 4.08188611]),\n",
       " array([23.27151176,  8.71536437,  2.46592999,  2.22154927,  1.90604718,\n",
       "         1.32019595,  1.14659803,  1.02268342,  0.98165233,  0.95239104]),\n",
       " array([24.33701856,  3.05021302,  2.49539112,  1.57439607,  1.5234304 ,\n",
       "         1.51778418,  1.50980807,  1.29886361,  1.20430803,  1.15668182]),\n",
       " array([25.46419717,  1.94448778,  1.90689468,  1.8660685 ,  1.48368898,\n",
       "         1.13821578,  0.879752  ,  0.70425085,  0.65336069,  0.59601894]),\n",
       " array([20.53273571,  4.21393724,  3.53938651,  3.53462948,  3.1310848 ,\n",
       "         2.72539945,  2.51717108,  2.48439409,  2.27946716,  2.02394182]),\n",
       " array([20.38372414,  2.91774997,  1.51568176,  1.50425105,  1.38130319,\n",
       "         1.30840783,  1.27428055,  1.22736456,  1.06874146,  1.06646631]),\n",
       " array([14.30149035, 11.10308068,  2.12783644,  1.6490027 ,  1.0757903 ,\n",
       "         1.01019055,  0.72571987,  0.7237929 ,  0.71926806,  0.70132733]),\n",
       " array([20.27987052,  5.48387016,  2.4729883 ,  2.3061117 ,  2.08242726,\n",
       "         2.05365547,  1.84343062,  1.71430736,  1.40588068,  1.37508447]),\n",
       " array([20.28817396,  5.96398795,  3.96576032,  3.2470237 ,  2.28035428,\n",
       "         2.26141305,  1.85156389,  1.65233049,  1.58193087,  1.43455596]),\n",
       " array([22.86361027,  5.43984579,  4.0798798 ,  3.75058209,  3.27220451,\n",
       "         3.00993443,  1.40155943,  1.36992148,  1.21328225,  0.96981765]),\n",
       " array([19.51224517,  5.96801085,  5.40990733,  4.37213928,  4.18555013,\n",
       "         3.54588363,  3.21724933,  2.750185  ,  2.21043738,  1.55355737]),\n",
       " array([17.70896789, 15.43956139,  6.86159675,  4.20587203,  4.036754  ,\n",
       "         3.53060783,  3.22287338,  3.15310837,  2.82585301,  2.7966161 ]),\n",
       " array([16.31879558,  4.66778315,  3.93144306,  3.28914699,  2.9940278 ,\n",
       "         2.9906661 ,  2.67789638,  2.61750488,  2.52193885,  2.48500378]),\n",
       " array([21.28938335,  5.11692882,  2.74678126,  2.46676103,  2.14369735,\n",
       "         2.12005596,  2.09988527,  2.05275539,  2.00339079,  2.00164666]),\n",
       " array([17.31448389,  5.27123396,  2.67031397,  2.41186325,  2.28314535,\n",
       "         2.21712821,  2.20897415,  2.12959567,  1.80691575,  1.80263714]),\n",
       " array([10.11382249,  6.68448427,  6.59501526,  5.24480733,  3.97750932,\n",
       "         3.50953989,  3.36937559,  3.36475148,  2.56875319,  2.50858593]),\n",
       " array([17.94458655,  6.56614843,  5.36598526,  4.24316917,  3.68277387,\n",
       "         3.60975273,  2.28641528,  2.10276361,  1.94086129,  1.81781767]),\n",
       " array([16.70282662,  4.16913029,  3.64993306,  3.50485187,  3.31507113,\n",
       "         2.55151496,  2.19321741,  1.87654451,  1.73882195,  1.6479578 ]),\n",
       " array([18.73406943,  2.19475445,  1.31618928,  1.22435023,  1.14814936,\n",
       "         1.06900636,  1.03354911,  1.03229466,  0.97407312,  0.97394038])]"
      ]
     },
     "execution_count": 36,
     "metadata": {},
     "output_type": "execute_result"
    }
   ],
   "source": [
    "# look at the corresponding weights \n",
    "[-topic[:10] for topic in np.sort(-km)]"
   ]
  },
  {
   "cell_type": "code",
   "execution_count": 37,
   "metadata": {},
   "outputs": [
    {
     "data": {
      "text/plain": [
       "'!\"#$%&\\'()*+,-./:;<=>?@[\\\\]^_`{|}~±−'"
      ]
     },
     "execution_count": 37,
     "metadata": {},
     "output_type": "execute_result"
    }
   ],
   "source": [
    "string.punctuation + '±−'"
   ]
  },
  {
   "cell_type": "code",
   "execution_count": 38,
   "metadata": {},
   "outputs": [],
   "source": [
    "# # NMF with titles\n",
    "# titles_vocab, titles_nmf, titles_vecs = cvec_and_nmf(titles1)\n",
    "# titles_km = titles_nmf.components_\n",
    "# titles_topic_words = [topic[:10] for topic in np.argsort(-titles_km)]\n",
    "# for i in range(20):\n",
    "#      print([titles_vocab[idx].strip() for idx in titles_topic_words[i]])"
   ]
  },
  {
   "cell_type": "raw",
   "metadata": {},
   "source": [
    "#to do list\n",
    "1. take out ± − \n",
    "2. try just nouns and no stemming\n",
    "3. tfidi nmf\n",
    "4. what do coefficients really mean\n",
    "    a. for lda\n",
    "    b. nmf \n",
    "5. try to visualize words - word cloud\n",
    "6. read resources\n",
    "7. worth clustering? silhouette scores"
   ]
  },
  {
   "cell_type": "markdown",
   "metadata": {},
   "source": [
    "# Step 3: Noun tokenizer\n",
    "Tokenize but keep only nouns  \n",
    "a. CV + LDA  \n",
    "b. CV + NMF  \n",
    "c. TFIDf + NMF  "
   ]
  },
  {
   "cell_type": "code",
   "execution_count": 39,
   "metadata": {},
   "outputs": [],
   "source": [
    "#  nouns\n",
    "from nltk.tokenize import word_tokenize\n",
    "from nltk.corpus import stopwords\n",
    "from nltk.stem import SnowballStemmer\n",
    "import string\n",
    "from nltk.tag import pos_tag\n",
    "\n",
    "def noun_tokenizer(text):\n",
    "\n",
    "    # remove punctuation\n",
    "    punct = string.punctuation + '±−≤'\n",
    "    remove_punct = str.maketrans('', '', punct)\n",
    "    text = text.translate(remove_punct)\n",
    "\n",
    "    # remove digits and convert to lower case\n",
    "    remove_digits = str.maketrans('', '', string.digits)\n",
    "    text = text.lower().translate(remove_digits)\n",
    "\n",
    "    # tokenize\n",
    "    tokens = word_tokenize(text)\n",
    "\n",
    "    is_noun = lambda pos: (pos == 'NN') | (pos == 'NNS') #only nouns - no proper nouns\n",
    "    nouns = [word for (word, pos) in pos_tag(tokens) if is_noun(pos)]\n",
    "    # remove stop words\n",
    "    stop_words = stopwords.words('english')\n",
    "    JAS_words = ['use', 'model', 'anim', 'method', 'result', 'kg', 'vs', 'treatment', 'mgkg', 'per', 'h', 'x']\n",
    "    stop_words.extend(JAS_words)\n",
    "    tokens_stop = [y for y in nouns if y not in stop_words]\n",
    "\n",
    "    # stem\n",
    "    #stemmer = SnowballStemmer('english')\n",
    "    #tokens_stem = [stemmer.stem(y) for y in tokens_stop] \n",
    "\n",
    "    return tokens_stop"
   ]
  },
  {
   "cell_type": "code",
   "execution_count": 40,
   "metadata": {},
   "outputs": [
    {
     "name": "stdout",
     "output_type": "stream",
     "text": [
      "CPU times: user 40min 17s, sys: 10.8 s, total: 40min 28s\n",
      "Wall time: 39min 13s\n"
     ]
    }
   ],
   "source": [
    "%time noun_abstract_lda = vec_and_lda(abstracts1, noun_tokenizer)"
   ]
  },
  {
   "cell_type": "code",
   "execution_count": 41,
   "metadata": {
    "scrolled": true
   },
   "outputs": [
    {
     "name": "stdout",
     "output_type": "stream",
     "text": [
      "0.027*\"tissue\" + 0.025*\"cells\" + 0.022*\"growth\" + 0.020*\"activity\" + 0.020*\"muscle\" + 0.019*\"cell\" + 0.015*\"expression\" + 0.014*\"development\" + 0.013*\"protein\" + 0.010*\"gene\"\n",
      "0.062*\"lambs\" + 0.059*\"ewes\" + 0.041*\"weight\" + 0.023*\"birth\" + 0.023*\"age\" + 0.022*\"plt\" + 0.019*\"weights\" + 0.017*\"rate\" + 0.016*\"rams\" + 0.013*\"days\"\n",
      "0.047*\"days\" + 0.045*\"gilts\" + 0.040*\"day\" + 0.023*\"group\" + 0.022*\"temperature\" + 0.020*\"time\" + 0.019*\"hr\" + 0.018*\"plt\" + 0.018*\"groups\" + 0.016*\"rate\"\n",
      "0.122*\"heifers\" + 0.065*\"estrus\" + 0.050*\"progesterone\" + 0.031*\"pregnancy\" + 0.029*\"cycle\" + 0.026*\"ovulation\" + 0.019*\"puberty\" + 0.017*\"days\" + 0.016*\"day\" + 0.016*\"lh\"\n",
      "0.039*\"university\" + 0.026*\"horses\" + 0.025*\"state\" + 0.024*\"science\" + 0.016*\"students\" + 0.012*\"sulfur\" + 0.011*\"degree\" + 0.011*\"college\" + 0.011*\"waste\" + 0.009*\"professor\"\n",
      "0.027*\"semen\" + 0.026*\"muscle\" + 0.024*\"meat\" + 0.021*\"quality\" + 0.021*\"tenderness\" + 0.019*\"p\" + 0.017*\"muscles\" + 0.017*\"steaks\" + 0.016*\"lt\" + 0.016*\"color\"\n",
      "0.101*\"steers\" + 0.052*\"feed\" + 0.038*\"gain\" + 0.026*\"p\" + 0.024*\"cattle\" + 0.022*\"efficiency\" + 0.022*\"trial\" + 0.020*\"intake\" + 0.017*\"period\" + 0.017*\"performance\"\n",
      "0.034*\"selection\" + 0.029*\"traits\" + 0.025*\"estimates\" + 0.023*\"data\" + 0.020*\"correlations\" + 0.019*\"effects\" + 0.019*\"line\" + 0.017*\"lines\" + 0.015*\"heritability\" + 0.013*\"correlation\"\n",
      "0.129*\"milk\" + 0.054*\"acids\" + 0.040*\"amino\" + 0.039*\"acid\" + 0.025*\"production\" + 0.022*\"yield\" + 0.019*\"lactation\" + 0.019*\"goats\" + 0.014*\"methionine\" + 0.012*\"lysine\"\n",
      "0.045*\"protein\" + 0.043*\"corn\" + 0.033*\"ration\" + 0.032*\"meal\" + 0.024*\"diets\" + 0.023*\"rations\" + 0.019*\"digestibility\" + 0.015*\"levels\" + 0.015*\"level\" + 0.015*\"matter\"\n",
      "0.037*\"forage\" + 0.026*\"pasture\" + 0.022*\"hay\" + 0.020*\"winter\" + 0.015*\"summer\" + 0.014*\"grass\" + 0.013*\"season\" + 0.011*\"alfalfa\" + 0.011*\"grazing\" + 0.010*\"fescue\"\n",
      "0.103*\"sows\" + 0.046*\"litter\" + 0.039*\"lactation\" + 0.038*\"gestation\" + 0.030*\"litters\" + 0.029*\"piglets\" + 0.027*\"al\" + 0.022*\"size\" + 0.019*\"birth\" + 0.019*\"number\"\n",
      "0.042*\"plt\" + 0.041*\"energy\" + 0.029*\"protein\" + 0.025*\"body\" + 0.022*\"intake\" + 0.020*\"water\" + 0.018*\"levels\" + 0.015*\"rate\" + 0.013*\"level\" + 0.011*\"nitrogen\"\n",
      "0.064*\"carcass\" + 0.034*\"fat\" + 0.032*\"weight\" + 0.020*\"muscle\" + 0.019*\"percentage\" + 0.019*\"carcasses\" + 0.017*\"composition\" + 0.016*\"measurements\" + 0.016*\"area\" + 0.014*\"thickness\"\n",
      "0.035*\"p\" + 0.033*\"rumen\" + 0.023*\"lt\" + 0.022*\"digestibility\" + 0.020*\"diets\" + 0.019*\"digestion\" + 0.014*\"dm\" + 0.012*\"cp\" + 0.012*\"ph\" + 0.011*\"acid\"\n",
      "0.075*\"cows\" + 0.054*\"calves\" + 0.041*\"age\" + 0.028*\"weight\" + 0.026*\"bulls\" + 0.020*\"hereford\" + 0.017*\"calf\" + 0.015*\"breed\" + 0.014*\"birth\" + 0.013*\"cow\"\n",
      "0.045*\"concentrations\" + 0.034*\"blood\" + 0.025*\"p\" + 0.025*\"plasma\" + 0.024*\"serum\" + 0.019*\"concentration\" + 0.019*\"lt\" + 0.016*\"levels\" + 0.015*\"mg\" + 0.015*\"vitamin\"\n",
      "0.018*\"production\" + 0.017*\"animals\" + 0.014*\"research\" + 0.012*\"cattle\" + 0.011*\"animal\" + 0.010*\"livestock\" + 0.007*\"work\" + 0.007*\"food\" + 0.007*\"years\" + 0.006*\"beef\"\n",
      "0.016*\"samples\" + 0.015*\"rabbits\" + 0.014*\"fibers\" + 0.014*\"diameter\" + 0.013*\"fiber\" + 0.013*\"sheep\" + 0.012*\"wool\" + 0.009*\"solution\" + 0.009*\"technique\" + 0.009*\"methods\"\n",
      "0.142*\"pigs\" + 0.036*\"p\" + 0.025*\"diets\" + 0.024*\"lt\" + 0.020*\"growth\" + 0.019*\"diet\" + 0.016*\"performance\" + 0.015*\"levels\" + 0.013*\"gain\" + 0.013*\"pig\"\n"
     ]
    }
   ],
   "source": [
    "for i in range(20):\n",
    "    print(noun_abstract_lda.print_topic(i))"
   ]
  },
  {
   "cell_type": "code",
   "execution_count": 42,
   "metadata": {},
   "outputs": [
    {
     "name": "stdout",
     "output_type": "stream",
     "text": [
      "CPU times: user 17min 29s, sys: 4.34 s, total: 17min 34s\n",
      "Wall time: 16min 53s\n"
     ]
    }
   ],
   "source": [
    "%time abstracts_vocab, abstracts_nmf, abstracts_vecs = cvec_and_nmf(abstracts1, noun_tokenizer)\n"
   ]
  },
  {
   "cell_type": "code",
   "execution_count": 43,
   "metadata": {},
   "outputs": [
    {
     "name": "stdout",
     "output_type": "stream",
     "text": [
      "['p', 'bw', 'gt', 'treatments', 'supplementation', 'study', 'con', 'effects', 'effect', 'n']\n",
      "['pigs', 'growth', 'performance', 'pig', 'bw', 'adg', 'control', 'treatments', 'gf', 'diet']\n",
      "['weight', 'birth', 'body', 'gain', 'weights', 'effects', 'traits', 'litter', 'size', 'breed']\n",
      "['diets', 'diet', 'digestibility', 'meal', 'cp', 'dm', 'performance', 'aa', 'control', 'source']\n",
      "['cows', 'milk', 'cow', 'beef', 'pregnancy', 'estrus', 'bcs', 'postpartum', 'calf', 'dairy']\n",
      "['steers', 'cattle', 'treatments', 'bw', 'feedlot', 'beef', 'performance', 'dmi', 'adg', 'forage']\n",
      "['day', 'days', 'plt', 'group', 'groups', 'control', 'period', 'estrus', 'levels', 'time']\n",
      "['heifers', 'pregnancy', 'estrus', 'bw', 'treatments', 'beef', 'rates', 'heifer', 'puberty', 'rate']\n",
      "['protein', 'meal', 'levels', 'level', 'nitrogen', 'cp', 'crude', 'amino', 'n', 'muscle']\n",
      "['calves', 'calf', 'dams', 'birth', 'milk', 'hereford', 'breed', 'castration', 'feedlot', 'performance']\n",
      "['feed', 'intake', 'energy', 'gain', 'efficiency', 'level', 'growth', 'levels', 'period', 'rate']\n",
      "['lt', 'p', 'n', 'group', 'steaks', 'b', 'groups', 'gt', 'exp', 'temperature']\n",
      "['effects', 'traits', 'cattle', 'selection', 'animals', 'data', 'production', 'study', 'beef', 'estimates']\n",
      "['sows', 'lactation', 'milk', 'gestation', 'piglets', 'litter', 'sow', 'parity', 'litters', 'size']\n",
      "['gilts', 'rate', 'estrus', 'ovulation', 'number', 'gestation', 'barrows', 'size', 'puberty', 'pregnancy']\n",
      "['corn', 'silage', 'digestibility', 'grain', 'meal', 'starch', 'oil', 'hay', 'digestion', 'dm']\n",
      "['carcass', 'muscle', 'fat', 'carcasses', 'percentage', 'quality', 'composition', 'area', 'thickness', 'yield']\n",
      "['concentrations', 'blood', 'plasma', 'serum', 'concentration', 'samples', 'e', 'levels', 'lh', 'insulin']\n",
      "['ewes', 'lambs', 'ewe', 'rams', 'lamb', 'milk', 'rate', 'birth', 'production', 'number']\n",
      "['age', 'growth', 'bulls', 'puberty', 'mo', 'wk', 'groups', 'boars', 'bw', 'ages']\n"
     ]
    }
   ],
   "source": [
    "nmf_topic_words = [topic[:10] for topic in np.argsort(-abstracts_nmf.components_)]\n",
    "for component in nmf_topic_words:\n",
    "     print([abstracts_vocab[idx].strip() for idx in component])"
   ]
  },
  {
   "cell_type": "code",
   "execution_count": 44,
   "metadata": {},
   "outputs": [],
   "source": [
    "from sklearn.feature_extraction.text import CountVectorizer, TfidfVectorizer\n",
    "from sklearn.decomposition import NMF\n",
    "\n",
    "def tfidf_and_nmf(corpus, tokenizer, components=20, max_df=0.9):\n",
    "    '''*Input*\n",
    "    corpus: List of documents,\n",
    "    tokenizer: tokenize function,\n",
    "    components: int, number of components to use,\n",
    "    max_df: float, threshold to ignore terms\n",
    "    \n",
    "    *Output*\n",
    "    tuple(vocab, nmf model, Nxk matrix)\n",
    "   '''\n",
    "    # countvectorizing and training\n",
    "    tfidf = TfidfVectorizer(tokenizer=tokenizer, max_df=max_df)\n",
    "    X_train_tfidf = tfidf.fit_transform(corpus)\n",
    "    vocab = dict((v, k) for k, v in tfidf.vocabulary_.items())\n",
    "    nmf = NMF(n_components=components)\n",
    "    nmf_vecs = nmf.fit_transform(X_train_tfidf)\n",
    "    return vocab, nmf, nmf_vecs"
   ]
  },
  {
   "cell_type": "code",
   "execution_count": 45,
   "metadata": {},
   "outputs": [
    {
     "name": "stdout",
     "output_type": "stream",
     "text": [
      "CPU times: user 20min 38s, sys: 3.89 s, total: 20min 42s\n",
      "Wall time: 19min 53s\n",
      "['p', 'lt', 'bw', 'gt', 'diets', 'treatments', 'supplementation', 'n', 'cp', 'adg']\n",
      "['traits', 'selection', 'weight', 'estimates', 'age', 'birth', 'correlations', 'effects', 'heritability', 'line']\n",
      "['pigs', 'diets', 'pig', 'diet', 'performance', 'growth', 'age', 'feed', 'barrows', 'adg']\n",
      "['energy', 'intake', 'feed', 'body', 'maintenance', 'efficiency', 'gain', 'requirements', 'level', 'heat']\n",
      "['cows', 'cow', 'postpartum', 'estrus', 'pregnancy', 'bcs', 'calf', 'beef', 'gnrh', 'conception']\n",
      "['ewes', 'lambs', 'ewe', 'rams', 'days', 'lamb', 'birth', 'day', 'estrus', 'suffolk']\n",
      "['sows', 'lactation', 'gestation', 'piglets', 'litter', 'sow', 'litters', 'parity', 'birth', 'size']\n",
      "['steers', 'cattle', 'feedlot', 'trial', 'treatments', 'pasture', 'steer', 'gain', 'beef', 'monensin']\n",
      "['carcass', 'fat', 'weight', 'carcasses', 'thickness', 'cuts', 'percentage', 'measurements', 'composition', 'area']\n",
      "['production', 'cattle', 'research', 'animals', 'livestock', 'beef', 'university', 'animal', 'science', 'systems']\n",
      "['heifers', 'estrus', 'puberty', 'pregnancy', 'heifer', 'age', 'progesterone', 'days', 'mga', 'day']\n",
      "['gilts', 'days', 'day', 'estrus', 'ovulation', 'gestation', 'follicles', 'boars', 'age', 'progesterone']\n",
      "['digestibility', 'digestion', 'rumen', 'matter', 'forage', 'hay', 'fiber', 'plt', 'dm', 'intake']\n",
      "['corn', 'silage', 'diets', 'grain', 'oil', 'starch', 'meal', 'ground', 'ddgs', 'wheat']\n",
      "['calves', 'calf', 'age', 'birth', 'dams', 'hereford', 'weight', 'bulls', 'breed', 'plt']\n",
      "['ration', 'rations', 'feed', 'percent', 'gain', 'phosphorus', 'vitamin', 'calcium', 'gains', 'levels']\n",
      "['protein', 'meal', 'diets', 'amino', 'lysine', 'acids', 'nitrogen', 'diet', 'cp', 'sbm']\n",
      "['concentrations', 'plasma', 'blood', 'serum', 'lh', 'e', 'concentration', 'hormone', 'levels', 'insulin']\n",
      "['muscle', 'muscles', 'tenderness', 'tissue', 'expression', 'steaks', 'postmortem', 'meat', 'cells', 'fibers']\n",
      "['milk', 'lactation', 'yield', 'production', 'dairy', 'replacer', 'colostrum', 'calf', 'yields', 'gland']\n"
     ]
    }
   ],
   "source": [
    "%time abstracts_vocab, abstracts_nmf, abstracts_vecs = tfidf_and_nmf(abstracts1, noun_tokenizer)\n",
    "nmf_topic_words = [topic[:10] for topic in np.argsort(-abstracts_nmf.components_)]\n",
    "for component in nmf_topic_words:\n",
    "     print([abstracts_vocab[idx].strip() for idx in component])"
   ]
  },
  {
   "cell_type": "code",
   "execution_count": 46,
   "metadata": {},
   "outputs": [
    {
     "name": "stdout",
     "output_type": "stream",
     "text": [
      "0 ['p', 'lt', 'bw', 'gt', 'diets', 'treatments', 'supplementation', 'n', 'cp', 'adg', 'phytase', 'concentrations', 'dm', 'effects', 'con', 'control', 'exp', 'performance', 'gf', 'dmi']\n",
      "1 ['traits', 'selection', 'weight', 'estimates', 'age', 'birth', 'correlations', 'effects', 'heritability', 'line', 'lines', 'litter', 'size', 'data', 'variance', 'breed', 'sire', 'breeds', 'growth', 'records']\n",
      "2 ['pigs', 'diets', 'pig', 'diet', 'performance', 'growth', 'age', 'feed', 'barrows', 'adg', 'period', 'control', 'adfi', 'wk', 'exp', 'gf', 'gain', 'pens', 'phase', 'treatments']\n",
      "3 ['energy', 'intake', 'feed', 'body', 'maintenance', 'efficiency', 'gain', 'requirements', 'level', 'heat', 'ad', 'utilization', 'libitum', 'growth', 'production', 'levels', 'composition', 'water', 'weight', 'requirement']\n",
      "4 ['cows', 'cow', 'postpartum', 'estrus', 'pregnancy', 'bcs', 'calf', 'beef', 'gnrh', 'conception', 'interval', 'condition', 'hereford', 'days', 'ovulation', 'progesterone', 'dairy', 'parturition', 'rates', 'pgfα']\n",
      "5 ['ewes', 'lambs', 'ewe', 'rams', 'days', 'lamb', 'birth', 'day', 'estrus', 'suffolk', 'rambouillet', 'age', 'groups', 'group', 'lambing', 'year', 'ram', 'breeding', 'season', 'weight']\n",
      "6 ['sows', 'lactation', 'gestation', 'piglets', 'litter', 'sow', 'litters', 'parity', 'birth', 'size', 'number', 'piglet', 'day', 'parturition', 'weight', 'farrowing', 'days', 'interval', 'group', 'pregnancy']\n",
      "7 ['steers', 'cattle', 'feedlot', 'trial', 'treatments', 'pasture', 'steer', 'gain', 'beef', 'monensin', 'dmi', 'period', 'plt', 'bulls', 'steaks', 'feed', 'adg', 'mg', 'hereford', 'performance']\n",
      "8 ['carcass', 'fat', 'weight', 'carcasses', 'thickness', 'cuts', 'percentage', 'measurements', 'composition', 'area', 'yield', 'rib', 'grade', 'body', 'slaughter', 'percent', 'equations', 'quality', 'backfat', 'loin']\n",
      "9 ['production', 'cattle', 'research', 'animals', 'livestock', 'beef', 'university', 'animal', 'science', 'systems', 'management', 'state', 'industry', 'years', 'work', 'agriculture', 'system', 'farm', 'students', 'meat']\n",
      "10 ['heifers', 'estrus', 'puberty', 'pregnancy', 'heifer', 'age', 'progesterone', 'days', 'mga', 'day', 'beef', 'rates', 'period', 'rate', 'bulls', 'cycle', 'conception', 'group', 'groups', 'mg']\n",
      "11 ['gilts', 'days', 'day', 'estrus', 'ovulation', 'gestation', 'follicles', 'boars', 'age', 'progesterone', 'number', 'puberty', 'embryos', 'cycle', 'barrows', 'rate', 'cl', 'plt', 'pregnancy', 'group']\n",
      "12 ['digestibility', 'digestion', 'rumen', 'matter', 'forage', 'hay', 'fiber', 'plt', 'dm', 'intake', 'alfalfa', 'starch', 'diets', 'fermentation', 'ph', 'digestibilities', 'crude', 'acid', 'trial', 'cp']\n",
      "13 ['corn', 'silage', 'diets', 'grain', 'oil', 'starch', 'meal', 'ground', 'ddgs', 'wheat', 'grains', 'moisture', 'value', 'barley', 'sorghum', 'soybean', 'supplement', 'distillers', 'gluten', 'cattle']\n",
      "14 ['calves', 'calf', 'age', 'birth', 'dams', 'hereford', 'weight', 'bulls', 'breed', 'plt', 'days', 'weights', 'angus', 'bull', 'groups', 'dam', 'brahman', 'sex', 'group', 'heterosis']\n",
      "15 ['ration', 'rations', 'feed', 'percent', 'gain', 'phosphorus', 'vitamin', 'calcium', 'gains', 'levels', 'level', 'meal', 'hay', 'trials', 'alfalfa', 'rate', 'oil', 'efficiency', 'lambs', 'basal']\n",
      "16 ['protein', 'meal', 'diets', 'amino', 'lysine', 'acids', 'nitrogen', 'diet', 'cp', 'sbm', 'soybean', 'levels', 'level', 'acid', 'source', 'methionine', 'crude', 'aa', 'sources', 'retention']\n",
      "17 ['concentrations', 'plasma', 'blood', 'serum', 'lh', 'e', 'concentration', 'hormone', 'levels', 'insulin', 'vitamin', 'samples', 'se', 'progesterone', 'mg', 'injection', 'gh', 'plt', 'response', 'mares']\n",
      "18 ['muscle', 'muscles', 'tenderness', 'tissue', 'expression', 'steaks', 'postmortem', 'meat', 'cells', 'fibers', 'color', 'gene', 'genes', 'activity', 'force', 'ph', 'quality', 'cell', 'content', 'growth']\n",
      "19 ['milk', 'lactation', 'yield', 'production', 'dairy', 'replacer', 'colostrum', 'calf', 'yields', 'gland', 'composition', 'cow', 'milking', 'fat', 'goats', 'solids', 'content', 'weeks', 'nursing', 'epd']\n"
     ]
    }
   ],
   "source": [
    "# Look at more words\n",
    "nmf_topic_words = [topic[:20] for topic in np.argsort(-abstracts_nmf.components_)]\n",
    "for i, component in enumerate(nmf_topic_words):\n",
    "     print(i, [abstracts_vocab[idx].strip() for idx in component])"
   ]
  },
  {
   "cell_type": "markdown",
   "metadata": {},
   "source": [
    "### Pseudo cluster assignment using top component "
   ]
  },
  {
   "cell_type": "code",
   "execution_count": 47,
   "metadata": {},
   "outputs": [
    {
     "data": {
      "text/plain": [
       "array([12, 12,  5,  6,  0, 12, 18,  6,  0,  0])"
      ]
     },
     "execution_count": 47,
     "metadata": {},
     "output_type": "execute_result"
    }
   ],
   "source": [
    "abs_cluster = abstracts_vecs.argmax(axis = 1)\n",
    "abs_cluster[2200:2210]"
   ]
  },
  {
   "cell_type": "code",
   "execution_count": 48,
   "metadata": {},
   "outputs": [
    {
     "name": "stdout",
     "output_type": "stream",
     "text": [
      "0 Amaranth (Amaranthus sp.) is a C4 plant adapted to poor soils and regions with limited rainfall and high temperatures. The plant is characterized by a yield of up to 85 t/ha, CP concentration of up to 28.5% of DM, and DM digestibility of 59 to 79%, which may vary depending on the species and variety. The potential of this plant as a forage source for ruminants has not been completely considered. This study aimed at assessing the nutritive value of silages from corn (Zea mays), 2 amaranth (Amaranthus hypochondriacus) varieties (var. Kharkovskiy and Sem), and an amaranth–corn combination by chemical composition, silage fermentation characteristics, in vivo digestibility, and in situ DM degradability. Treatments evaluated were ensiled corn var. hybrid SC 704 (EC), ensiled amaranth var. Kharkovskiy (EK), ensiled amaranth var. Sem (ES), ensiled corn–amaranth var. Kharkovskiy mixture, and ensiled corn–amaranth var. Sem mixture. Five sheep were used in a 5 × 5 Latin square design experiment to determine in vivo digestibility. The nylon bag technique was used to determine the in situ DM degradability using 3 ruminally fistulated sheep. Compared with EK, ES had greater ash-free NDF (NDFom) and CP concentrations. In comparison with EC, the ensiled amaranths and corn–amaranth mixtures had a greater (P &lt; 0.001) concentration of CP but less concentrations of NDFom, ADL (P &lt; 0.001), and water-soluble carbohydrates (P = 0.034). Silage pH and ammonia-N concentration were the least (P &lt; 0.001) for EC and greatest for ES. The EC had greater (P &lt; 0.001) concentrations of lactic and acetic acids but less (P &lt; 0.001) concentrations of propionic and butyric acids compared with the other silages. The in vivo DM digestibility (P = 0.035) and ME (P = 0.030) of EK and ES were greater than those of EC. Effective degradability of DM in EK and ES was less (P &lt; 0.001) than with the other silages. Overall, mixing amaranth with corn improved concentration of CP and digestibility of the mixed corn–amaranth silages and has the potential of completing corn in ruminant diets.\n"
     ]
    }
   ],
   "source": [
    "# # Look at text\n",
    "for i, title in enumerate(abstracts1[2200:2201]): # abstracts1[2200:2210]\n",
    "    print(i, title)"
   ]
  },
  {
   "cell_type": "code",
   "execution_count": 49,
   "metadata": {},
   "outputs": [
    {
     "data": {
      "text/plain": [
       "9     3646\n",
       "2     2342\n",
       "18    2261\n",
       "12    2161\n",
       "1     2061\n",
       "17    1969\n",
       "5     1282\n",
       "7     1237\n",
       "15    1219\n",
       "16    1063\n",
       "8     1052\n",
       "14     928\n",
       "10     902\n",
       "6      879\n",
       "13     854\n",
       "4      812\n",
       "11     773\n",
       "19     688\n",
       "3      679\n",
       "0      604\n",
       "dtype: int64"
      ]
     },
     "execution_count": 49,
     "metadata": {},
     "output_type": "execute_result"
    }
   ],
   "source": [
    "pd.Series(abs_cluster).value_counts()"
   ]
  },
  {
   "cell_type": "markdown",
   "metadata": {},
   "source": [
    "# Step 4: Tweak hyperparameters of NMF models\n",
    "a. max_df, which controls words common to a lot of documents  \n",
    "<pre>    [0.8, 0.85, 0.9]  </pre>\n",
    "b. number of components to use  \n",
    "<pre>    [20, 40, 80] </pre>"
   ]
  },
  {
   "cell_type": "markdown",
   "metadata": {},
   "source": [
    "### 0.8 max_df"
   ]
  },
  {
   "cell_type": "code",
   "execution_count": 50,
   "metadata": {
    "scrolled": true
   },
   "outputs": [
    {
     "name": "stdout",
     "output_type": "stream",
     "text": [
      "CPU times: user 16min 2s, sys: 4.48 s, total: 16min 7s\n",
      "Wall time: 15min 45s\n",
      "['p', 'lt', 'bw', 'gt', 'treatments', 'supplementation', 'n', 'adg', 'concentrations', 'con']\n",
      "['traits', 'weight', 'selection', 'estimates', 'age', 'birth', 'correlations', 'effects', 'heritability', 'line']\n",
      "['pigs', 'pig', 'growth', 'age', 'performance', 'feed', 'period', 'wk', 'barrows', 'gain']\n",
      "['ration', 'rations', 'feed', 'meal', 'percent', 'gain', 'phosphorus', 'gains', 'calcium', 'vitamin']\n",
      "['cows', 'cow', 'postpartum', 'estrus', 'pregnancy', 'bcs', 'calf', 'beef', 'gnrh', 'conception']\n",
      "['ewes', 'lambs', 'ewe', 'rams', 'days', 'lamb', 'day', 'birth', 'estrus', 'suffolk']\n",
      "['sows', 'lactation', 'gestation', 'piglets', 'litter', 'sow', 'litters', 'parity', 'birth', 'size']\n",
      "['steers', 'cattle', 'feedlot', 'trial', 'gain', 'treatments', 'pasture', 'steer', 'plt', 'dmi']\n",
      "['carcass', 'muscle', 'fat', 'carcasses', 'weight', 'thickness', 'percentage', 'cuts', 'area', 'quality']\n",
      "['production', 'cattle', 'research', 'animals', 'beef', 'livestock', 'animal', 'university', 'science', 'systems']\n",
      "['heifers', 'estrus', 'puberty', 'pregnancy', 'heifer', 'progesterone', 'age', 'days', 'day', 'mga']\n",
      "['gilts', 'day', 'days', 'estrus', 'ovulation', 'gestation', 'follicles', 'boars', 'progesterone', 'number']\n",
      "['protein', 'amino', 'nitrogen', 'acids', 'lysine', 'crude', 'meal', 'levels', 'level', 'growth']\n",
      "['corn', 'silage', 'grain', 'starch', 'ground', 'oil', 'moisture', 'wheat', 'value', 'sorghum']\n",
      "['calves', 'calf', 'age', 'birth', 'dams', 'hereford', 'weight', 'bulls', 'breed', 'plt']\n",
      "['digestibility', 'rumen', 'digestion', 'forage', 'matter', 'hay', 'plt', 'fiber', 'intake', 'alfalfa']\n",
      "['diets', 'meal', 'diet', 'cp', 'aa', 'digestibility', 'sbm', 'ddgs', 'soybean', 'phytase']\n",
      "['concentrations', 'plasma', 'blood', 'serum', 'lh', 'e', 'concentration', 'levels', 'vitamin', 'insulin']\n",
      "['energy', 'intake', 'feed', 'body', 'maintenance', 'efficiency', 'gain', 'requirements', 'heat', 'ad']\n",
      "['milk', 'lactation', 'yield', 'production', 'dairy', 'replacer', 'calf', 'yields', 'colostrum', 'composition']\n"
     ]
    }
   ],
   "source": [
    "%time abstracts_vocab, abstracts_nmf, abstracts_vecs = tfidf_and_nmf(abstracts1, noun_tokenizer, max_df=0.8)\n",
    "nmf_topic_words = [topic[:10] for topic in np.argsort(-abstracts_nmf.components_)]\n",
    "for i, component in enumerate(nmf_topic_words):\n",
    "     print(i,  [abstracts_vocab[idx].strip() for idx in component])"
   ]
  },
  {
   "cell_type": "markdown",
   "metadata": {},
   "source": [
    "### 0.85 max_df"
   ]
  },
  {
   "cell_type": "code",
   "execution_count": 51,
   "metadata": {},
   "outputs": [
    {
     "ename": "TypeError",
     "evalue": "tfidf_and_nmf() missing 1 required positional argument: 'tokenizer'",
     "output_type": "error",
     "traceback": [
      "\u001b[0;31m---------------------------------------------------------------------------\u001b[0m",
      "\u001b[0;31mTypeError\u001b[0m                                 Traceback (most recent call last)",
      "\u001b[0;32m<timed exec>\u001b[0m in \u001b[0;36m<module>\u001b[0;34m()\u001b[0m\n",
      "\u001b[0;31mTypeError\u001b[0m: tfidf_and_nmf() missing 1 required positional argument: 'tokenizer'"
     ]
    },
    {
     "name": "stdout",
     "output_type": "stream",
     "text": [
      "['p', 'lt', 'bw', 'gt', 'treatments', 'supplementation', 'n', 'adg', 'concentrations', 'con']\n",
      "['traits', 'weight', 'selection', 'estimates', 'age', 'birth', 'correlations', 'effects', 'heritability', 'line']\n",
      "['pigs', 'pig', 'growth', 'age', 'performance', 'feed', 'period', 'wk', 'barrows', 'gain']\n",
      "['ration', 'rations', 'feed', 'meal', 'percent', 'gain', 'phosphorus', 'gains', 'calcium', 'vitamin']\n",
      "['cows', 'cow', 'postpartum', 'estrus', 'pregnancy', 'bcs', 'calf', 'beef', 'gnrh', 'conception']\n",
      "['ewes', 'lambs', 'ewe', 'rams', 'days', 'lamb', 'day', 'birth', 'estrus', 'suffolk']\n",
      "['sows', 'lactation', 'gestation', 'piglets', 'litter', 'sow', 'litters', 'parity', 'birth', 'size']\n",
      "['steers', 'cattle', 'feedlot', 'trial', 'gain', 'treatments', 'pasture', 'steer', 'plt', 'dmi']\n",
      "['carcass', 'muscle', 'fat', 'carcasses', 'weight', 'thickness', 'percentage', 'cuts', 'area', 'quality']\n",
      "['production', 'cattle', 'research', 'animals', 'beef', 'livestock', 'animal', 'university', 'science', 'systems']\n",
      "['heifers', 'estrus', 'puberty', 'pregnancy', 'heifer', 'progesterone', 'age', 'days', 'day', 'mga']\n",
      "['gilts', 'day', 'days', 'estrus', 'ovulation', 'gestation', 'follicles', 'boars', 'progesterone', 'number']\n",
      "['protein', 'amino', 'nitrogen', 'acids', 'lysine', 'crude', 'meal', 'levels', 'level', 'growth']\n",
      "['corn', 'silage', 'grain', 'starch', 'ground', 'oil', 'moisture', 'wheat', 'value', 'sorghum']\n",
      "['calves', 'calf', 'age', 'birth', 'dams', 'hereford', 'weight', 'bulls', 'breed', 'plt']\n",
      "['digestibility', 'rumen', 'digestion', 'forage', 'matter', 'hay', 'plt', 'fiber', 'intake', 'alfalfa']\n",
      "['diets', 'meal', 'diet', 'cp', 'aa', 'digestibility', 'sbm', 'ddgs', 'soybean', 'phytase']\n",
      "['concentrations', 'plasma', 'blood', 'serum', 'lh', 'e', 'concentration', 'levels', 'vitamin', 'insulin']\n",
      "['energy', 'intake', 'feed', 'body', 'maintenance', 'efficiency', 'gain', 'requirements', 'heat', 'ad']\n",
      "['milk', 'lactation', 'yield', 'production', 'dairy', 'replacer', 'calf', 'yields', 'colostrum', 'composition']\n"
     ]
    }
   ],
   "source": [
    "%time abstracts_vocab, abstracts_nmf, abstracts_vecs = tfidf_and_nmf(abstracts1, noun_tokenizer, max_df=0.85)\n",
    "nmf_topic_words = [topic[:10] for topic in np.argsort(-abstracts_nmf.components_)]\n",
    "for i, component in enumerate(nmf_topic_words):\n",
    "     print([abstracts_vocab[idx].strip() for idx in component])"
   ]
  },
  {
   "cell_type": "code",
   "execution_count": 52,
   "metadata": {},
   "outputs": [
    {
     "data": {
      "text/plain": [
       "array([0.03907267, 0.01029124, 0.02325798, 0.        , 0.        ,\n",
       "       0.        , 0.        , 0.        , 0.00026923, 0.        ,\n",
       "       0.        , 0.01487255, 0.00098807, 0.        , 0.        ,\n",
       "       0.00099193, 0.0224806 , 0.00830716, 0.00222951, 0.        ])"
      ]
     },
     "execution_count": 52,
     "metadata": {},
     "output_type": "execute_result"
    }
   ],
   "source": [
    "# refresher on what abstract_vecs looks like\n",
    "abstracts_vecs[2204]"
   ]
  },
  {
   "cell_type": "code",
   "execution_count": 53,
   "metadata": {},
   "outputs": [
    {
     "data": {
      "text/plain": [
       "array([15, 15,  5,  6,  0,  0, 17,  6,  0,  0])"
      ]
     },
     "execution_count": 53,
     "metadata": {},
     "output_type": "execute_result"
    }
   ],
   "source": [
    "abs_cluster85 = abstracts_vecs.argmax(axis = 1)\n",
    "abs_cluster85[2200:2210]"
   ]
  },
  {
   "cell_type": "code",
   "execution_count": 54,
   "metadata": {},
   "outputs": [
    {
     "data": {
      "text/plain": [
       "9     3927\n",
       "17    2535\n",
       "15    2277\n",
       "2     2229\n",
       "1     2048\n",
       "8     1786\n",
       "5     1303\n",
       "7     1225\n",
       "16    1041\n",
       "14     936\n",
       "12     932\n",
       "18     929\n",
       "3      914\n",
       "10     906\n",
       "6      874\n",
       "4      846\n",
       "11     797\n",
       "13     749\n",
       "19     612\n",
       "0      546\n",
       "dtype: int64"
      ]
     },
     "execution_count": 54,
     "metadata": {},
     "output_type": "execute_result"
    }
   ],
   "source": [
    "pd.Series(abs_cluster85).value_counts()"
   ]
  },
  {
   "cell_type": "markdown",
   "metadata": {},
   "source": [
    "### Components = 40, max_df=0.8"
   ]
  },
  {
   "cell_type": "code",
   "execution_count": 55,
   "metadata": {},
   "outputs": [
    {
     "name": "stdout",
     "output_type": "stream",
     "text": [
      "CPU times: user 18min 42s, sys: 5.53 s, total: 18min 47s\n",
      "Wall time: 16min 59s\n",
      "0 ['p', 'lt', 'bw', 'gt', 'treatments', 'n', 'supplementation', 'adg', 'con', 'effects']\n",
      "1 ['breed', 'breeds', 'heterosis', 'hereford', 'sire', 'crosses', 'angus', 'dams', 'effects', 'sires']\n",
      "2 ['pigs', 'pig', 'performance', 'barrows', 'adfi', 'growth', 'adg', 'pens', 'gf', 'diet']\n",
      "3 ['ration', 'rations', 'percent', 'gains', 'hay', 'basal', 'roughage', 'nitrogen', 'alfalfa', 'lb']\n",
      "4 ['cows', 'cow', 'postpartum', 'bcs', 'calf', 'pregnancy', 'beef', 'estrus', 'condition', 'conception']\n",
      "5 ['ewes', 'ewe', 'rams', 'breeding', 'lambing', 'fertility', 'season', 'number', 'lamb', 'estrus']\n",
      "6 ['sows', 'lactation', 'gestation', 'litter', 'sow', 'parity', 'litters', 'size', 'number', 'parturition']\n",
      "7 ['steers', 'cattle', 'feedlot', 'steer', 'pasture', 'treatments', 'dmi', 'adg', 'beef', 'trial']\n",
      "8 ['carcass', 'fat', 'carcasses', 'thickness', 'cuts', 'percentage', 'area', 'measurements', 'composition', 'yield']\n",
      "9 ['production', 'research', 'university', 'cattle', 'science', 'livestock', 'animal', 'animals', 'state', 'beef']\n",
      "10 ['heifers', 'pregnancy', 'puberty', 'heifer', 'estrus', 'beef', 'mga', 'rates', 'progesterone', 'period']\n",
      "11 ['gilts', 'gestation', 'barrows', 'boars', 'puberty', 'estrus', 'embryos', 'number', 'ovulation', 'gilt']\n",
      "12 ['calves', 'calf', 'dams', 'bull', 'birth', 'hereford', 'feedlot', 'castration', 'steer', 'gains']\n",
      "13 ['corn', 'silage', 'grain', 'starch', 'ground', 'moisture', 'oil', 'sorghum', 'wheat', 'value']\n",
      "14 ['energy', 'maintenance', 'intake', 'body', 'requirements', 'production', 'utilization', 'values', 'balance', 'metabolism']\n",
      "15 ['rumen', 'digestion', 'ph', 'starch', 'fermentation', 'vfa', 'concentration', 'production', 'ammonia', 'monensin']\n",
      "16 ['diets', 'diet', 'cp', 'aa', 'ddgs', 'digestibility', 'phytase', 'sid', 'sbm', 'wheat']\n",
      "17 ['milk', 'lactation', 'yield', 'production', 'dairy', 'replacer', 'yields', 'colostrum', 'calf', 'gland']\n",
      "18 ['muscle', 'expression', 'tissue', 'cells', 'gene', 'genes', 'cell', 'growth', 'activity', 'mrna']\n",
      "19 ['age', 'puberty', 'mo', 'weeks', 'boars', 'days', 'ages', 'growth', 'months', 'wk']\n",
      "20 ['lambs', 'lamb', 'ewe', 'ram', 'rams', 'wethers', 'suffolk', 'wether', 'mg', 'stilbestrol']\n",
      "21 ['bulls', 'semen', 'sperm', 'bull', 'testosterone', 'spermatozoa', 'motility', 'circumference', 'fertility', 'mo']\n",
      "22 ['concentrations', 'lh', 'plasma', 'blood', 'serum', 'hormone', 'insulin', 'gh', 'concentration', 'samples']\n",
      "23 ['feed', 'gain', 'efficiency', 'intake', 'rate', 'growth', 'rfi', 'level', 'consumption', 'trial']\n",
      "24 ['acids', 'amino', 'acid', 'lysine', 'plasma', 'methionine', 'nitrogen', 'threonine', 'levels', 'tryptophan']\n",
      "25 ['digestibility', 'forage', 'hay', 'matter', 'digestion', 'intake', 'alfalfa', 'fiber', 'dm', 'forages']\n",
      "26 ['cu', 'zn', 'liver', 'ppm', 'mg', 'copper', 'se', 'fe', 'mn', 'concentrations']\n",
      "27 ['weight', 'birth', 'weights', 'body', 'gain', 'gestation', 'litter', 'size', 'growth', 'length']\n",
      "28 ['vitamin', 'e', 'b', 'se', 'supplementation', 'selenium', 'liver', 'carotene', 'αtocopherol', 'serum']\n",
      "29 ['line', 'selection', 'lines', 'litter', 'size', 'generation', 'rate', 'generations', 'ovulation', 'number']\n",
      "30 ['plt', 'monensin', 'trial', 'pgt', 'matter', 'trials', 'c', 'levels', 'hr', 'k']\n",
      "31 ['protein', 'crude', 'nitrogen', 'level', 'levels', 'synthesis', 'body', 'source', 'proteins', 'degradation']\n",
      "32 ['group', 'groups', 'control', 'animals', 'differences', 'horses', 'period', 'difference', 'study', 'wk']\n",
      "33 ['temperature', 'water', 'heat', 'stress', 'body', 'c', 'temperatures', 'rate', 'conditions', 'hs']\n",
      "34 ['meal', 'oil', 'soybean', 'cottonseed', 'sbm', 'supplements', 'lysine', 'supplement', 'meals', 'source']\n",
      "35 ['piglets', 'piglet', 'birth', 'litters', 'supplementation', 'mortality', 'colostrum', 'litter', 'survival', 'control']\n",
      "36 ['phosphorus', 'calcium', 'levels', 'magnesium', 'level', 'bone', 'zinc', 'phosphate', 'potassium', 'iron']\n",
      "37 ['days', 'day', 'estrus', 'progesterone', 'cycle', 'ovulation', 'mg', 'follicles', 'cl', 'injection']\n",
      "38 ['steaks', 'tenderness', 'beef', 'force', 'carcasses', 'meat', 'color', 'postmortem', 'quality', 'flavor']\n",
      "39 ['traits', 'estimates', 'correlations', 'heritability', 'variance', 'data', 'models', 'selection', 'effects', 'records']\n"
     ]
    }
   ],
   "source": [
    "%time abstracts_vocab, abstracts_nmf, abstracts_vecs = tfidf_and_nmf(abstracts1, noun_tokenizer, components = 40, max_df=0.8)\n",
    "nmf_topic_words = [topic[:10] for topic in np.argsort(-abstracts_nmf.components_)]\n",
    "for i, component in enumerate(nmf_topic_words):\n",
    "     print(i, [abstracts_vocab[idx].strip() for idx in component])"
   ]
  },
  {
   "cell_type": "markdown",
   "metadata": {},
   "source": [
    "### Components = 80, max_df=0.8"
   ]
  },
  {
   "cell_type": "code",
   "execution_count": 56,
   "metadata": {},
   "outputs": [
    {
     "name": "stdout",
     "output_type": "stream",
     "text": [
      "CPU times: user 19min 4s, sys: 32.4 s, total: 19min 36s\n",
      "Wall time: 18min 1s\n",
      "0 ['p', 'lt', 'gt', 'bw', 'treatments', 'n', 'adg', 'supplementation', 'effects', 'dm']\n",
      "1 ['sire', 'dams', 'sires', 'progeny', 'dam', 'calf', 'sex', 'effects', 'year', 'records']\n",
      "2 ['pigs', 'pig', 'performance', 'barrows', 'adfi', 'pens', 'adg', 'diet', 'wk', 'gf']\n",
      "3 ['gain', 'efficiency', 'gains', 'lysine', 'unit', 'feed', 'experiments', 'performance', 'utilization', 'rate']\n",
      "4 ['lh', 'gnrh', 'hormone', 'fsh', 'serum', 'secretion', 'release', 'testosterone', 'injection', 'concentrations']\n",
      "5 ['ewes', 'ewe', 'rams', 'lambing', 'lamb', 'breeding', 'rambouillet', 'fertility', 'number', 'wool']\n",
      "6 ['sows', 'lactation', 'sow', 'parity', 'farrowing', 'litters', 'litter', 'piglet', 'interval', 'backfat']\n",
      "7 ['steers', 'feedlot', 'steer', 'treatments', 'dmi', 'adg', 'phase', 'con', 'angus', 'grade']\n",
      "8 ['cows', 'cow', 'postpartum', 'bcs', 'calf', 'beef', 'condition', 'pregnancy', 'dairy', 'calving']\n",
      "9 ['heifers', 'puberty', 'heifer', 'pregnancy', 'mga', 'beef', 'bw', 'period', 'rates', 'treatments']\n",
      "10 ['carcass', 'fat', 'carcasses', 'thickness', 'cuts', 'percentage', 'area', 'measurements', 'yield', 'rib']\n",
      "11 ['rate', 'ovulation', 'rates', 'survival', 'pregnancy', 'passage', 'conception', 'embryo', 'embryos', 'fertilization']\n",
      "12 ['calves', 'calf', 'dams', 'hereford', 'bull', 'birth', 'castration', 'feedlot', 'weaning', 'steer']\n",
      "13 ['corn', 'ground', 'moisture', 'grain', 'supplement', 'value', 'gluten', 'cobs', 'highmoisture', 'opaque']\n",
      "14 ['gilts', 'barrows', 'puberty', 'gilt', 'embryos', 'boars', 'backfat', 'lutea', 'yorkshire', 'number']\n",
      "15 ['digestibility', 'matter', 'fiber', 'crude', 'dm', 'digestion', 'digestibilities', 'extract', 'coefficients', 'lignin']\n",
      "16 ['diets', 'diet', 'performance', 'wheat', 'control', 'inclusion', 'exp', 'source', 'barley', 'gf']\n",
      "17 ['milk', 'lactation', 'yield', 'dairy', 'production', 'replacer', 'yields', 'colostrum', 'gland', 'milking']\n",
      "18 ['starch', 'digestion', 'grain', 'sorghum', 'barley', 'intestine', 'wheat', 'tract', 'grains', 'fermentation']\n",
      "19 ['weight', 'birth', 'weights', 'calf', 'weaning', 'length', 'score', 'dam', 'cow', 'fleece']\n",
      "20 ['lambs', 'lamb', 'ewe', 'ram', 'rams', 'wethers', 'suffolk', 'wether', 'birth', 'rambouillet']\n",
      "21 ['bulls', 'bull', 'testosterone', 'circumference', 'mo', 'test', 'sperm', 'hereford', 'sc', 'castration']\n",
      "22 ['vitamin', 'carotene', 'supplementation', 'liver', 'iu', 'b', 'deficiency', 'αtocopherol', 'stores', 'selenium']\n",
      "23 ['feed', 'intake', 'efficiency', 'rfi', 'ad', 'libitum', 'consumption', 'feeding', 'period', 'dmi']\n",
      "24 ['amino', 'acids', 'acid', 'lysine', 'methionine', 'threonine', 'tryptophan', 'plasma', 'valine', 'isoleucine']\n",
      "25 ['forage', 'supplementation', 'intake', 'forages', 'fescue', 'grazing', 'supplement', 'supplements', 'pastures', 'bw']\n",
      "26 ['cu', 'liver', 'cuso', 'fe', 'mo', 'cukg', 'mn', 'ppm', 'concentrations', 'supplementation']\n",
      "27 ['steaks', 'tenderness', 'carcasses', 'force', 'beef', 'flavor', 'values', 'panel', 'juiciness', 'postmortem']\n",
      "28 ['energy', 'maintenance', 'intake', 'requirements', 'utilization', 'values', 'balance', 'metabolism', 'heat', 'requirement']\n",
      "29 ['line', 'selection', 'lines', 'generation', 'generations', 'index', 'response', 'control', 'responses', 'mice']\n",
      "30 ['breed', 'breeds', 'heterosis', 'hereford', 'crosses', 'angus', 'traits', 'brahman', 'charolais', 'effects']\n",
      "31 ['protein', 'crude', 'synthesis', 'proteins', 'degradation', 'supplement', 'source', 'content', 'casein', 'supplements']\n",
      "32 ['plt', 'pgt', 'matter', 'hr', 'percentage', 'detergent', 'treatments', 'crude', 'sbm', 'n']\n",
      "33 ['temperature', 'heat', 'stress', 'temperatures', 'hs', '°c', 'conditions', 'respiration', 'humidity', 'exposure']\n",
      "34 ['piglets', 'piglet', 'birth', 'litters', 'colostrum', 'mortality', 'supplementation', 'control', 'diarrhea', 'survival']\n",
      "35 ['pasture', 'winter', 'summer', 'season', 'gains', 'year', 'grazing', 'spring', 'pastures', 'grass']\n",
      "36 ['phosphorus', 'calcium', 'magnesium', 'bone', 'phosphate', 'potassium', 'sodium', 'ash', 'zinc', 'serum']\n",
      "37 ['day', 'progesterone', 'cycle', 'cl', 'corpora', 'lutea', 'luteum', 'corpus', 'concentration', 'time']\n",
      "38 ['estimates', 'traits', 'correlations', 'heritability', 'models', 'variance', 'data', 'selection', 'correlation', 'effects']\n",
      "39 ['age', 'puberty', 'mo', 'weeks', 'ages', 'wk', 'months', 'years', 'females', 'sex']\n",
      "40 ['muscle', 'muscles', 'fibers', 'fiber', 'postmortem', 'longissimus', 'area', 'ph', 'content', 'glycogen']\n",
      "41 ['group', 'groups', 'control', 'differences', 'difference', 'period', 'ii', 'slaughter', 'study', 'wk']\n",
      "42 ['growth', 'hormone', 'gh', 'development', 'igfi', 'performance', 'phase', 'factor', 'factors', 'bw']\n",
      "43 ['semen', 'boars', 'sperm', 'spermatozoa', 'motility', 'fertility', 'boar', 'insemination', 'rams', 'ejaculates']\n",
      "44 ['cp', 'aa', 'sbm', 'sid', 'n', 'aid', 'lys', 'ileal', 'trp', 'dm']\n",
      "45 ['cattle', 'beef', 'feedlot', 'dairy', 'performance', 'data', 'brd', 'type', 'grain', 'industry']\n",
      "46 ['meal', 'soybean', 'cottonseed', 'sbm', 'lysine', 'supplements', 'meals', 'supplement', 'sources', 'source']\n",
      "47 ['litter', 'size', 'litters', 'number', 'particle', 'females', 'parity', 'pig', 'survival', 'ovulation']\n",
      "48 ['hay', 'alfalfa', 'ground', 'hays', 'grass', 'pellets', 'orchardgrass', 'roughage', 'digestion', 'molasses']\n",
      "49 ['animals', 'animal', 'species', 'goats', 'behavior', 'welfare', 'food', 'data', 'methods', 'sheep']\n",
      "50 ['rumen', 'ph', 'fermentation', 'vfa', 'acid', 'bacteria', 'concentration', 'ammonia', 'fluid', 'contents']\n",
      "51 ['se', 'selenium', 'ppm', 'selenite', 'gshpx', 'sodium', 'serum', 'peroxidase', 'tissue', 'glutathione']\n",
      "52 ['ration', 'rations', 'percent', 'basal', 'gains', 'roughage', 'lb', 'pounds', 'pound', 'lot']\n",
      "53 ['levels', 'level', 'effect', 'blood', 'intake', 'experiments', 'plasma', 'gains', 'cap', 'effects']\n",
      "54 ['silage', 'silages', 'matter', 'grain', 'dm', 'acid', 'grass', 'content', 'barley', 'silos']\n",
      "55 ['oil', 'fat', 'acids', 'cla', 'acid', 'coconut', 'content', 'cholesterol', 'tallow', 'addition']\n",
      "56 ['expression', 'cells', 'gene', 'tissue', 'genes', 'cell', 'mrna', 'differentiation', 'development', 'proliferation']\n",
      "57 ['phytase', 'p', 'attd', 'supplementation', 'pc', 'phytate', 'bone', 'units', 'sttd', 'ftukg']\n",
      "58 ['e', 'coli', 'fescue', 'serum', 'αtocopherol', 'seed', 'selenium', 'concentrations', 'tall', 'toxicosis']\n",
      "59 ['horses', 'mares', 'horse', 'exercise', 'geldings', 'time', 'foals', 'stallions', 'bcs', 'quarter']\n",
      "60 ['production', 'systems', 'system', 'management', 'livestock', 'efficiency', 'beef', 'gas', 'emissions', 'manure']\n",
      "61 ['trial', 'trials', 'performance', 'digestion', 'wk', 'balance', 'feeding', 'ii', 'feedlot', 'gains']\n",
      "62 ['c', 'b', 'l', 'g', 'f', 'r', 'w', 'hr', 'fa', 'ab']\n",
      "63 ['ddgs', 'distillers', 'solubles', 'grains', 'bw', 'con', 'inclusion', 'wheat', 'p', 'gf']\n",
      "64 ['gestation', 'lactation', 'fetuses', 'pregnancy', 'length', 'birth', 'parturition', 'development', 'fetus', 'embryos']\n",
      "65 ['activity', 'activities', 'tissue', 'enzyme', 'enzymes', 'calpastatin', 'postmortem', 'phosphatase', 'lipase', 'time']\n",
      "66 ['nitrogen', 'retention', 'balance', 'excretion', 'urea', 'utilization', 'n', 'metabolism', 'ammonia', 'biuret']\n",
      "67 ['estrus', 'progesterone', 'ovulation', 'pregnancy', 'pgfα', 'interval', 'cycle', 'injection', 'conception', 'synchronization']\n",
      "68 ['mg', 'k', 'control', 'stilbestrol', 'absorption', 'injection', 'implants', 'administration', 'controls', 'implant']\n",
      "69 ['days', 'period', 'hr', 'interval', 'periods', 'intervals', 'litters', 'length', 'postpartum', 'weeks']\n",
      "70 ['body', 'composition', 'r', 'measurements', 'bw', 'tissue', 'equations', 'condition', 'content', 'fat']\n",
      "71 ['zn', 'zno', 'zinc', 'ppm', 'mn', 'znso', 'znkg', 'fe', 'serum', 'concentrations']\n",
      "72 ['copper', 'iron', 'zinc', 'ppm', 'liver', 'sulfate', 'hemoglobin', 'molybdenum', 'tissues', 'cobalt']\n",
      "73 ['monensin', 'propionate', 'lasalocid', 'tylosin', 'vfa', 'supplement', 'supplementation', 'effect', 'butyrate', 'methane']\n",
      "74 ['meat', 'quality', 'pork', 'color', 'ph', 'content', 'loss', 'products', 'hams', 'postmortem']\n",
      "75 ['university', 'science', 'research', 'state', 'students', 'society', 'agriculture', 'committee', 'livestock', 'animal']\n",
      "76 ['water', 'drinking', 'deprivation', 'sodium', 'consumption', 'salt', 'k', 'infusion', 'potassium', 'sulfate']\n",
      "77 ['qtl', 'snp', 'traits', 'ssc', 'markers', 'population', 'genes', 'gene', 'regions', 'chromosome']\n",
      "78 ['concentrations', 'plasma', 'blood', 'insulin', 'concentration', 'infusion', 'samples', 'glucose', 'cortisol', 'gh']\n",
      "79 ['follicles', 'follicle', 'ovaries', 'cycle', 'ovulation', 'number', 'mm', 'diameter', 'fluid', 'progesterone']\n"
     ]
    }
   ],
   "source": [
    "%time abstracts_vocab, abstracts_nmf, abstracts_vecs = tfidf_and_nmf(abstracts1, noun_tokenizer, components = 80, max_df=0.8)\n",
    "nmf_topic_words = [topic[:10] for topic in np.argsort(-abstracts_nmf.components_)]\n",
    "for i, component in enumerate(nmf_topic_words):\n",
    "     print(i, [abstracts_vocab[idx].strip() for idx in component])"
   ]
  },
  {
   "cell_type": "code",
   "execution_count": 57,
   "metadata": {},
   "outputs": [
    {
     "data": {
      "text/plain": [
       "array([78, 48, 20, 34, 78, 59, 72, 63,  2, 66])"
      ]
     },
     "execution_count": 57,
     "metadata": {},
     "output_type": "execute_result"
    }
   ],
   "source": [
    "abs_cluster80 = abstracts_vecs.argmax(axis = 1)\n",
    "abs_cluster80[2200:2210]"
   ]
  },
  {
   "cell_type": "code",
   "execution_count": 58,
   "metadata": {},
   "outputs": [
    {
     "data": {
      "text/plain": [
       "78    1586\n",
       "75    1468\n",
       "2     1349\n",
       "74     934\n",
       "10     739\n",
       "7      648\n",
       "77     645\n",
       "69     578\n",
       "70     559\n",
       "65     525\n",
       "67     497\n",
       "62     492\n",
       "60     485\n",
       "64     481\n",
       "76     478\n",
       "19     474\n",
       "66     473\n",
       "56     469\n",
       "52     441\n",
       "6      424\n",
       "38     423\n",
       "68     420\n",
       "29     417\n",
       "49     412\n",
       "5      398\n",
       "79     393\n",
       "20     369\n",
       "21     367\n",
       "47     361\n",
       "40     354\n",
       "      ... \n",
       "1      211\n",
       "73     211\n",
       "16     209\n",
       "9      206\n",
       "27     204\n",
       "28     194\n",
       "35     192\n",
       "42     192\n",
       "23     186\n",
       "45     186\n",
       "25     178\n",
       "17     176\n",
       "37     172\n",
       "44     168\n",
       "39     163\n",
       "33     153\n",
       "51     152\n",
       "57     130\n",
       "53     128\n",
       "26     106\n",
       "12     104\n",
       "41      83\n",
       "11      78\n",
       "13      70\n",
       "22      69\n",
       "32      52\n",
       "8       50\n",
       "4       34\n",
       "3       33\n",
       "0        1\n",
       "Length: 80, dtype: int64"
      ]
     },
     "execution_count": 58,
     "metadata": {},
     "output_type": "execute_result"
    }
   ],
   "source": [
    "pd.Series(abs_cluster80).value_counts()"
   ]
  },
  {
   "cell_type": "markdown",
   "metadata": {},
   "source": [
    "# Final functions to use\n",
    "1. Noun tokenizer has even more stop words added\n",
    "2. Add min_df for See the next notebook"
   ]
  },
  {
   "cell_type": "code",
   "execution_count": 59,
   "metadata": {},
   "outputs": [],
   "source": [
    "#  more stop words\n",
    "from nltk.tokenize import word_tokenize\n",
    "from nltk.corpus import stopwords\n",
    "from nltk.stem import SnowballStemmer\n",
    "import string\n",
    "from nltk.tag import pos_tag\n",
    "\n",
    "def noun_tokenizer(text):\n",
    "\n",
    "    # remove punctuation\n",
    "    punct = string.punctuation + '±−≤°≥“”'\n",
    "    remove_punct = str.maketrans('', '', punct)\n",
    "    text = text.translate(remove_punct)\n",
    "\n",
    "    # remove digits and convert to lower case\n",
    "    remove_digits = str.maketrans('', '', string.digits)\n",
    "    text = text.lower().translate(remove_digits)\n",
    "\n",
    "    # tokenize\n",
    "    tokens = word_tokenize(text)\n",
    "\n",
    "    is_noun = lambda pos: (pos == 'NN') | (pos == 'NNS') #only nouns - no proper nouns\n",
    "    nouns = [word for (word, pos) in pos_tag(tokens) if is_noun(pos)]\n",
    "    # remove stop words\n",
    "    stop_words = stopwords.words('english')\n",
    "    JAS_words = ['use', 'model', 'anim', 'method', 'result', 'kg', 'vs', 'treatment', 'mgkg', 'per', 'h', 'x']\n",
    "    more_words = ['et', 'al', 'mg', 'cm', 'animals', 'animal', 'mm', 'experiment','treatments','containing', 'studies', 'added', 'sources', 'total', 'science', 'research', 'field', 'degree','report', 'greater', 'increased', 'decreased', 'less', 'use', 'production', 'agriculture']\n",
    "    stop_words = stop_words + JAS_words + more_words\n",
    "    tokens_stop = [y for y in nouns if y not in stop_words]\n",
    "\n",
    "    # stem\n",
    "    #stemmer = SnowballStemmer('english')\n",
    "    #tokens_stem = [stemmer.stem(y) for y in tokens_stop] \n",
    "\n",
    "    return tokens_stop"
   ]
  },
  {
   "cell_type": "code",
   "execution_count": 60,
   "metadata": {},
   "outputs": [],
   "source": [
    "from sklearn.feature_extraction.text import CountVectorizer, TfidfVectorizer\n",
    "from sklearn.decomposition import NMF\n",
    "\n",
    "def tfidf_and_nmf(corpus, tokenizer, components=40, max_df=0.8, min_df=2):\n",
    "    '''*Input*\n",
    "    corpus: List of documents,\n",
    "    tokenizer: tokenize function,\n",
    "    components: int, number of components to use, 40 looked pretty good\n",
    "    max_df: float, threshold to ignore terms,\n",
    "    min_df: int, a token must appear in at least this many documents\n",
    "    \n",
    "    *Output*\n",
    "    tuple(vocab, nmf model, Nxk matrix)\n",
    "    '''\n",
    "    # countvectorizing and training\n",
    "    tfidf = TfidfVectorizer(tokenizer=noun_tokenizer, max_df=max_df, min_df=min_df)\n",
    "    X_train_tfidf = tfidf.fit_transform(corpus)\n",
    "    \n",
    "    # flip key:index to allow for lookup using index\n",
    "    vocab = dict((v, k) for k, v in tfidf.vocabulary_.items())\n",
    "    nmf = NMF(n_components=components)\n",
    "    nmf_vecs = nmf.fit_transform(X_train_tfidf)\n",
    "    return vocab, nmf, nmf_vecs, tfidf"
   ]
  }
 ],
 "metadata": {
  "kernelspec": {
   "display_name": "Python 3",
   "language": "python",
   "name": "python3"
  },
  "language_info": {
   "codemirror_mode": {
    "name": "ipython",
    "version": 3
   },
   "file_extension": ".py",
   "mimetype": "text/x-python",
   "name": "python",
   "nbconvert_exporter": "python",
   "pygments_lexer": "ipython3",
   "version": "3.6.8"
  }
 },
 "nbformat": 4,
 "nbformat_minor": 2
}
